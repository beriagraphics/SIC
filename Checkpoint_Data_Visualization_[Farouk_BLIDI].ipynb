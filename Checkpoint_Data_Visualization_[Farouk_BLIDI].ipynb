{
  "nbformat": 4,
  "nbformat_minor": 2,
  "metadata": {
    "colab": {
      "name": "Checkpoint::Data Visualization [Farouk BLIDI]",
      "provenance": [],
      "collapsed_sections": [],
      "toc_visible": true
    },
    "kernelspec": {
      "name": "python3",
      "display_name": "Python 3"
    },
    "language_info": {
      "name": "python"
    }
  },
  "cells": [
    {
      "cell_type": "markdown",
      "source": [
        "# Getting things ready"
      ],
      "metadata": {
        "id": "W2a4Wq9p9lhy"
      }
    },
    {
      "cell_type": "markdown",
      "source": [
        "## Working online"
      ],
      "metadata": {}
    },
    {
      "cell_type": "code",
      "execution_count": 1,
      "source": [
        "# !pip install -U -q PyDrive\r\n",
        "  \r\n",
        "# from pydrive.auth import GoogleAuth\r\n",
        "# from pydrive.drive import GoogleDrive\r\n",
        "# from google.colab import auth\r\n",
        "# from oauth2client.client import GoogleCredentials\r\n",
        "  \r\n",
        "  \r\n",
        "# # Authenticate and create the PyDrive client.\r\n",
        "# auth.authenticate_user()\r\n",
        "# gauth = GoogleAuth()\r\n",
        "# gauth.credentials = GoogleCredentials.get_application_default()\r\n",
        "# drive = GoogleDrive(gauth)\r\n",
        "\r\n",
        "# fileLink = 'https://drive.google.com/file/d/1YdbRKJZ0Kz742yDxIStLZIPIEUGlc1Cc/view'\r\n",
        "# # to get the id part of the file\r\n",
        "# id = fileLink.split(\"/\")[-2]\r\n",
        "  \r\n",
        "# downloaded = drive.CreateFile({'id':id}) \r\n",
        "# downloaded.GetContentFile('titanic-passengers.csv')  "
      ],
      "outputs": [],
      "metadata": {
        "id": "edaIRoKVHW7_",
        "colab": {
          "base_uri": "https://localhost:8080/",
          "height": 528
        },
        "outputId": "686bff9c-07c8-45c4-b7a8-0ea0c7bec80e"
      }
    },
    {
      "cell_type": "markdown",
      "source": [
        "## Working offline"
      ],
      "metadata": {
        "id": "an_k2tMsIuQp"
      }
    },
    {
      "cell_type": "code",
      "execution_count": 2,
      "source": [
        "import pandas as pd\r\n",
        "import seaborn as sns\r\n",
        "import matplotlib.pyplot as plt\r\n",
        "import numpy as np\r\n",
        "from joypy import joyplot\r\n",
        "from sklearn.preprocessing import StandardScaler\r\n",
        "\r\n",
        "titanic = pd.read_csv('titanic-passengers.csv', sep=\";\")\r\n",
        "titanic"
      ],
      "outputs": [
        {
          "output_type": "execute_result",
          "data": {
            "text/plain": [
              "     PassengerId Survived  Pclass  \\\n",
              "0            343       No       2   \n",
              "1             76       No       3   \n",
              "2            641       No       3   \n",
              "3            568       No       3   \n",
              "4            672       No       1   \n",
              "..           ...      ...     ...   \n",
              "886           10      Yes       2   \n",
              "887           61       No       3   \n",
              "888          535       No       3   \n",
              "889          102       No       3   \n",
              "890          428      Yes       2   \n",
              "\n",
              "                                                  Name     Sex   Age  SibSp  \\\n",
              "0                           Collander, Mr. Erik Gustaf    male  28.0      0   \n",
              "1                              Moen, Mr. Sigurd Hansen    male  25.0      0   \n",
              "2                               Jensen, Mr. Hans Peder    male  20.0      0   \n",
              "3          Palsson, Mrs. Nils (Alma Cornelia Berglund)  female  29.0      0   \n",
              "4                               Davidson, Mr. Thornton    male  31.0      1   \n",
              "..                                                 ...     ...   ...    ...   \n",
              "886                Nasser, Mrs. Nicholas (Adele Achem)  female  14.0      1   \n",
              "887                              Sirayanian, Mr. Orsen    male  22.0      0   \n",
              "888                                Cacic, Miss. Marija  female  30.0      0   \n",
              "889                   Petroff, Mr. Pastcho (\"Pentcho\")    male   NaN      0   \n",
              "890  Phillips, Miss. Kate Florence (\"Mrs Kate Louis...  female  19.0      0   \n",
              "\n",
              "     Parch      Ticket     Fare  Cabin Embarked  \n",
              "0        0      248740  13.0000    NaN        S  \n",
              "1        0      348123   7.6500  F G73        S  \n",
              "2        0      350050   7.8542    NaN        S  \n",
              "3        4      349909  21.0750    NaN        S  \n",
              "4        0  F.C. 12750  52.0000    B71        S  \n",
              "..     ...         ...      ...    ...      ...  \n",
              "886      0      237736  30.0708    NaN        C  \n",
              "887      0        2669   7.2292    NaN        C  \n",
              "888      0      315084   8.6625    NaN        S  \n",
              "889      0      349215   7.8958    NaN        S  \n",
              "890      0      250655  26.0000    NaN        S  \n",
              "\n",
              "[891 rows x 12 columns]"
            ],
            "text/html": [
              "<div>\n",
              "<style scoped>\n",
              "    .dataframe tbody tr th:only-of-type {\n",
              "        vertical-align: middle;\n",
              "    }\n",
              "\n",
              "    .dataframe tbody tr th {\n",
              "        vertical-align: top;\n",
              "    }\n",
              "\n",
              "    .dataframe thead th {\n",
              "        text-align: right;\n",
              "    }\n",
              "</style>\n",
              "<table border=\"1\" class=\"dataframe\">\n",
              "  <thead>\n",
              "    <tr style=\"text-align: right;\">\n",
              "      <th></th>\n",
              "      <th>PassengerId</th>\n",
              "      <th>Survived</th>\n",
              "      <th>Pclass</th>\n",
              "      <th>Name</th>\n",
              "      <th>Sex</th>\n",
              "      <th>Age</th>\n",
              "      <th>SibSp</th>\n",
              "      <th>Parch</th>\n",
              "      <th>Ticket</th>\n",
              "      <th>Fare</th>\n",
              "      <th>Cabin</th>\n",
              "      <th>Embarked</th>\n",
              "    </tr>\n",
              "  </thead>\n",
              "  <tbody>\n",
              "    <tr>\n",
              "      <th>0</th>\n",
              "      <td>343</td>\n",
              "      <td>No</td>\n",
              "      <td>2</td>\n",
              "      <td>Collander, Mr. Erik Gustaf</td>\n",
              "      <td>male</td>\n",
              "      <td>28.0</td>\n",
              "      <td>0</td>\n",
              "      <td>0</td>\n",
              "      <td>248740</td>\n",
              "      <td>13.0000</td>\n",
              "      <td>NaN</td>\n",
              "      <td>S</td>\n",
              "    </tr>\n",
              "    <tr>\n",
              "      <th>1</th>\n",
              "      <td>76</td>\n",
              "      <td>No</td>\n",
              "      <td>3</td>\n",
              "      <td>Moen, Mr. Sigurd Hansen</td>\n",
              "      <td>male</td>\n",
              "      <td>25.0</td>\n",
              "      <td>0</td>\n",
              "      <td>0</td>\n",
              "      <td>348123</td>\n",
              "      <td>7.6500</td>\n",
              "      <td>F G73</td>\n",
              "      <td>S</td>\n",
              "    </tr>\n",
              "    <tr>\n",
              "      <th>2</th>\n",
              "      <td>641</td>\n",
              "      <td>No</td>\n",
              "      <td>3</td>\n",
              "      <td>Jensen, Mr. Hans Peder</td>\n",
              "      <td>male</td>\n",
              "      <td>20.0</td>\n",
              "      <td>0</td>\n",
              "      <td>0</td>\n",
              "      <td>350050</td>\n",
              "      <td>7.8542</td>\n",
              "      <td>NaN</td>\n",
              "      <td>S</td>\n",
              "    </tr>\n",
              "    <tr>\n",
              "      <th>3</th>\n",
              "      <td>568</td>\n",
              "      <td>No</td>\n",
              "      <td>3</td>\n",
              "      <td>Palsson, Mrs. Nils (Alma Cornelia Berglund)</td>\n",
              "      <td>female</td>\n",
              "      <td>29.0</td>\n",
              "      <td>0</td>\n",
              "      <td>4</td>\n",
              "      <td>349909</td>\n",
              "      <td>21.0750</td>\n",
              "      <td>NaN</td>\n",
              "      <td>S</td>\n",
              "    </tr>\n",
              "    <tr>\n",
              "      <th>4</th>\n",
              "      <td>672</td>\n",
              "      <td>No</td>\n",
              "      <td>1</td>\n",
              "      <td>Davidson, Mr. Thornton</td>\n",
              "      <td>male</td>\n",
              "      <td>31.0</td>\n",
              "      <td>1</td>\n",
              "      <td>0</td>\n",
              "      <td>F.C. 12750</td>\n",
              "      <td>52.0000</td>\n",
              "      <td>B71</td>\n",
              "      <td>S</td>\n",
              "    </tr>\n",
              "    <tr>\n",
              "      <th>...</th>\n",
              "      <td>...</td>\n",
              "      <td>...</td>\n",
              "      <td>...</td>\n",
              "      <td>...</td>\n",
              "      <td>...</td>\n",
              "      <td>...</td>\n",
              "      <td>...</td>\n",
              "      <td>...</td>\n",
              "      <td>...</td>\n",
              "      <td>...</td>\n",
              "      <td>...</td>\n",
              "      <td>...</td>\n",
              "    </tr>\n",
              "    <tr>\n",
              "      <th>886</th>\n",
              "      <td>10</td>\n",
              "      <td>Yes</td>\n",
              "      <td>2</td>\n",
              "      <td>Nasser, Mrs. Nicholas (Adele Achem)</td>\n",
              "      <td>female</td>\n",
              "      <td>14.0</td>\n",
              "      <td>1</td>\n",
              "      <td>0</td>\n",
              "      <td>237736</td>\n",
              "      <td>30.0708</td>\n",
              "      <td>NaN</td>\n",
              "      <td>C</td>\n",
              "    </tr>\n",
              "    <tr>\n",
              "      <th>887</th>\n",
              "      <td>61</td>\n",
              "      <td>No</td>\n",
              "      <td>3</td>\n",
              "      <td>Sirayanian, Mr. Orsen</td>\n",
              "      <td>male</td>\n",
              "      <td>22.0</td>\n",
              "      <td>0</td>\n",
              "      <td>0</td>\n",
              "      <td>2669</td>\n",
              "      <td>7.2292</td>\n",
              "      <td>NaN</td>\n",
              "      <td>C</td>\n",
              "    </tr>\n",
              "    <tr>\n",
              "      <th>888</th>\n",
              "      <td>535</td>\n",
              "      <td>No</td>\n",
              "      <td>3</td>\n",
              "      <td>Cacic, Miss. Marija</td>\n",
              "      <td>female</td>\n",
              "      <td>30.0</td>\n",
              "      <td>0</td>\n",
              "      <td>0</td>\n",
              "      <td>315084</td>\n",
              "      <td>8.6625</td>\n",
              "      <td>NaN</td>\n",
              "      <td>S</td>\n",
              "    </tr>\n",
              "    <tr>\n",
              "      <th>889</th>\n",
              "      <td>102</td>\n",
              "      <td>No</td>\n",
              "      <td>3</td>\n",
              "      <td>Petroff, Mr. Pastcho (\"Pentcho\")</td>\n",
              "      <td>male</td>\n",
              "      <td>NaN</td>\n",
              "      <td>0</td>\n",
              "      <td>0</td>\n",
              "      <td>349215</td>\n",
              "      <td>7.8958</td>\n",
              "      <td>NaN</td>\n",
              "      <td>S</td>\n",
              "    </tr>\n",
              "    <tr>\n",
              "      <th>890</th>\n",
              "      <td>428</td>\n",
              "      <td>Yes</td>\n",
              "      <td>2</td>\n",
              "      <td>Phillips, Miss. Kate Florence (\"Mrs Kate Louis...</td>\n",
              "      <td>female</td>\n",
              "      <td>19.0</td>\n",
              "      <td>0</td>\n",
              "      <td>0</td>\n",
              "      <td>250655</td>\n",
              "      <td>26.0000</td>\n",
              "      <td>NaN</td>\n",
              "      <td>S</td>\n",
              "    </tr>\n",
              "  </tbody>\n",
              "</table>\n",
              "<p>891 rows × 12 columns</p>\n",
              "</div>"
            ]
          },
          "metadata": {},
          "execution_count": 2
        }
      ],
      "metadata": {
        "id": "rwdXgfUJHfc1"
      }
    },
    {
      "cell_type": "code",
      "execution_count": 3,
      "source": [
        "# First 5 rows from the loaded dataset\r\n",
        "titanic.head()"
      ],
      "outputs": [
        {
          "output_type": "execute_result",
          "data": {
            "text/plain": [
              "   PassengerId Survived  Pclass                                         Name  \\\n",
              "0          343       No       2                   Collander, Mr. Erik Gustaf   \n",
              "1           76       No       3                      Moen, Mr. Sigurd Hansen   \n",
              "2          641       No       3                       Jensen, Mr. Hans Peder   \n",
              "3          568       No       3  Palsson, Mrs. Nils (Alma Cornelia Berglund)   \n",
              "4          672       No       1                       Davidson, Mr. Thornton   \n",
              "\n",
              "      Sex   Age  SibSp  Parch      Ticket     Fare  Cabin Embarked  \n",
              "0    male  28.0      0      0      248740  13.0000    NaN        S  \n",
              "1    male  25.0      0      0      348123   7.6500  F G73        S  \n",
              "2    male  20.0      0      0      350050   7.8542    NaN        S  \n",
              "3  female  29.0      0      4      349909  21.0750    NaN        S  \n",
              "4    male  31.0      1      0  F.C. 12750  52.0000    B71        S  "
            ],
            "text/html": [
              "<div>\n",
              "<style scoped>\n",
              "    .dataframe tbody tr th:only-of-type {\n",
              "        vertical-align: middle;\n",
              "    }\n",
              "\n",
              "    .dataframe tbody tr th {\n",
              "        vertical-align: top;\n",
              "    }\n",
              "\n",
              "    .dataframe thead th {\n",
              "        text-align: right;\n",
              "    }\n",
              "</style>\n",
              "<table border=\"1\" class=\"dataframe\">\n",
              "  <thead>\n",
              "    <tr style=\"text-align: right;\">\n",
              "      <th></th>\n",
              "      <th>PassengerId</th>\n",
              "      <th>Survived</th>\n",
              "      <th>Pclass</th>\n",
              "      <th>Name</th>\n",
              "      <th>Sex</th>\n",
              "      <th>Age</th>\n",
              "      <th>SibSp</th>\n",
              "      <th>Parch</th>\n",
              "      <th>Ticket</th>\n",
              "      <th>Fare</th>\n",
              "      <th>Cabin</th>\n",
              "      <th>Embarked</th>\n",
              "    </tr>\n",
              "  </thead>\n",
              "  <tbody>\n",
              "    <tr>\n",
              "      <th>0</th>\n",
              "      <td>343</td>\n",
              "      <td>No</td>\n",
              "      <td>2</td>\n",
              "      <td>Collander, Mr. Erik Gustaf</td>\n",
              "      <td>male</td>\n",
              "      <td>28.0</td>\n",
              "      <td>0</td>\n",
              "      <td>0</td>\n",
              "      <td>248740</td>\n",
              "      <td>13.0000</td>\n",
              "      <td>NaN</td>\n",
              "      <td>S</td>\n",
              "    </tr>\n",
              "    <tr>\n",
              "      <th>1</th>\n",
              "      <td>76</td>\n",
              "      <td>No</td>\n",
              "      <td>3</td>\n",
              "      <td>Moen, Mr. Sigurd Hansen</td>\n",
              "      <td>male</td>\n",
              "      <td>25.0</td>\n",
              "      <td>0</td>\n",
              "      <td>0</td>\n",
              "      <td>348123</td>\n",
              "      <td>7.6500</td>\n",
              "      <td>F G73</td>\n",
              "      <td>S</td>\n",
              "    </tr>\n",
              "    <tr>\n",
              "      <th>2</th>\n",
              "      <td>641</td>\n",
              "      <td>No</td>\n",
              "      <td>3</td>\n",
              "      <td>Jensen, Mr. Hans Peder</td>\n",
              "      <td>male</td>\n",
              "      <td>20.0</td>\n",
              "      <td>0</td>\n",
              "      <td>0</td>\n",
              "      <td>350050</td>\n",
              "      <td>7.8542</td>\n",
              "      <td>NaN</td>\n",
              "      <td>S</td>\n",
              "    </tr>\n",
              "    <tr>\n",
              "      <th>3</th>\n",
              "      <td>568</td>\n",
              "      <td>No</td>\n",
              "      <td>3</td>\n",
              "      <td>Palsson, Mrs. Nils (Alma Cornelia Berglund)</td>\n",
              "      <td>female</td>\n",
              "      <td>29.0</td>\n",
              "      <td>0</td>\n",
              "      <td>4</td>\n",
              "      <td>349909</td>\n",
              "      <td>21.0750</td>\n",
              "      <td>NaN</td>\n",
              "      <td>S</td>\n",
              "    </tr>\n",
              "    <tr>\n",
              "      <th>4</th>\n",
              "      <td>672</td>\n",
              "      <td>No</td>\n",
              "      <td>1</td>\n",
              "      <td>Davidson, Mr. Thornton</td>\n",
              "      <td>male</td>\n",
              "      <td>31.0</td>\n",
              "      <td>1</td>\n",
              "      <td>0</td>\n",
              "      <td>F.C. 12750</td>\n",
              "      <td>52.0000</td>\n",
              "      <td>B71</td>\n",
              "      <td>S</td>\n",
              "    </tr>\n",
              "  </tbody>\n",
              "</table>\n",
              "</div>"
            ]
          },
          "metadata": {},
          "execution_count": 3
        }
      ],
      "metadata": {
        "id": "bxV6_ewsIGHj"
      }
    },
    {
      "cell_type": "markdown",
      "source": [
        "# Part1: Preprocessing"
      ],
      "metadata": {
        "id": "rrzabX-vZY2j"
      }
    },
    {
      "cell_type": "markdown",
      "source": [
        "## General information about the dataset"
      ],
      "metadata": {
        "id": "zeIp8KrFy7Fx"
      }
    },
    {
      "cell_type": "code",
      "execution_count": 4,
      "source": [
        "titanic.info()\r\n",
        "titanic.iloc[:15]"
      ],
      "outputs": [
        {
          "output_type": "stream",
          "name": "stdout",
          "text": [
            "<class 'pandas.core.frame.DataFrame'>\n",
            "RangeIndex: 891 entries, 0 to 890\n",
            "Data columns (total 12 columns):\n",
            " #   Column       Non-Null Count  Dtype  \n",
            "---  ------       --------------  -----  \n",
            " 0   PassengerId  891 non-null    int64  \n",
            " 1   Survived     891 non-null    object \n",
            " 2   Pclass       891 non-null    int64  \n",
            " 3   Name         891 non-null    object \n",
            " 4   Sex          891 non-null    object \n",
            " 5   Age          714 non-null    float64\n",
            " 6   SibSp        891 non-null    int64  \n",
            " 7   Parch        891 non-null    int64  \n",
            " 8   Ticket       891 non-null    object \n",
            " 9   Fare         891 non-null    float64\n",
            " 10  Cabin        204 non-null    object \n",
            " 11  Embarked     889 non-null    object \n",
            "dtypes: float64(2), int64(4), object(6)\n",
            "memory usage: 83.7+ KB\n"
          ]
        },
        {
          "output_type": "execute_result",
          "data": {
            "text/plain": [
              "    PassengerId Survived  Pclass  \\\n",
              "0           343       No       2   \n",
              "1            76       No       3   \n",
              "2           641       No       3   \n",
              "3           568       No       3   \n",
              "4           672       No       1   \n",
              "5           105       No       3   \n",
              "6           576       No       3   \n",
              "7           382      Yes       3   \n",
              "8           228       No       3   \n",
              "9           433      Yes       2   \n",
              "10          135       No       2   \n",
              "11          294       No       3   \n",
              "12          755      Yes       2   \n",
              "13          595       No       2   \n",
              "14          127       No       3   \n",
              "\n",
              "                                                 Name     Sex   Age  SibSp  \\\n",
              "0                          Collander, Mr. Erik Gustaf    male  28.0      0   \n",
              "1                             Moen, Mr. Sigurd Hansen    male  25.0      0   \n",
              "2                              Jensen, Mr. Hans Peder    male  20.0      0   \n",
              "3         Palsson, Mrs. Nils (Alma Cornelia Berglund)  female  29.0      0   \n",
              "4                              Davidson, Mr. Thornton    male  31.0      1   \n",
              "5                      Gustafsson, Mr. Anders Vilhelm    male  37.0      2   \n",
              "6                                Patchett, Mr. George    male  19.0      0   \n",
              "7                         Nakid, Miss. Maria (\"Mary\")  female   1.0      0   \n",
              "8                     Lovell, Mr. John Hall (\"Henry\")    male  20.5      0   \n",
              "9   Louch, Mrs. Charles Alexander (Alice Adelaide ...  female  42.0      1   \n",
              "10                     Sobey, Mr. Samuel James Hayden    male  25.0      0   \n",
              "11                                Haas, Miss. Aloisia  female  24.0      0   \n",
              "12                   Herman, Mrs. Samuel (Jane Laver)  female  48.0      1   \n",
              "13                            Chapman, Mr. John Henry    male  37.0      1   \n",
              "14                                McMahon, Mr. Martin    male   NaN      0   \n",
              "\n",
              "    Parch       Ticket     Fare  Cabin Embarked  \n",
              "0       0       248740  13.0000    NaN        S  \n",
              "1       0       348123   7.6500  F G73        S  \n",
              "2       0       350050   7.8542    NaN        S  \n",
              "3       4       349909  21.0750    NaN        S  \n",
              "4       0   F.C. 12750  52.0000    B71        S  \n",
              "5       0      3101276   7.9250    NaN        S  \n",
              "6       0       358585  14.5000    NaN        S  \n",
              "7       2         2653  15.7417    NaN        C  \n",
              "8       0    A/5 21173   7.2500    NaN        S  \n",
              "9       0   SC/AH 3085  26.0000    NaN        S  \n",
              "10      0   C.A. 29178  13.0000    NaN        S  \n",
              "11      0       349236   8.8500    NaN        S  \n",
              "12      2       220845  65.0000    NaN        S  \n",
              "13      0  SC/AH 29037  26.0000    NaN        S  \n",
              "14      0       370372   7.7500    NaN        Q  "
            ],
            "text/html": [
              "<div>\n",
              "<style scoped>\n",
              "    .dataframe tbody tr th:only-of-type {\n",
              "        vertical-align: middle;\n",
              "    }\n",
              "\n",
              "    .dataframe tbody tr th {\n",
              "        vertical-align: top;\n",
              "    }\n",
              "\n",
              "    .dataframe thead th {\n",
              "        text-align: right;\n",
              "    }\n",
              "</style>\n",
              "<table border=\"1\" class=\"dataframe\">\n",
              "  <thead>\n",
              "    <tr style=\"text-align: right;\">\n",
              "      <th></th>\n",
              "      <th>PassengerId</th>\n",
              "      <th>Survived</th>\n",
              "      <th>Pclass</th>\n",
              "      <th>Name</th>\n",
              "      <th>Sex</th>\n",
              "      <th>Age</th>\n",
              "      <th>SibSp</th>\n",
              "      <th>Parch</th>\n",
              "      <th>Ticket</th>\n",
              "      <th>Fare</th>\n",
              "      <th>Cabin</th>\n",
              "      <th>Embarked</th>\n",
              "    </tr>\n",
              "  </thead>\n",
              "  <tbody>\n",
              "    <tr>\n",
              "      <th>0</th>\n",
              "      <td>343</td>\n",
              "      <td>No</td>\n",
              "      <td>2</td>\n",
              "      <td>Collander, Mr. Erik Gustaf</td>\n",
              "      <td>male</td>\n",
              "      <td>28.0</td>\n",
              "      <td>0</td>\n",
              "      <td>0</td>\n",
              "      <td>248740</td>\n",
              "      <td>13.0000</td>\n",
              "      <td>NaN</td>\n",
              "      <td>S</td>\n",
              "    </tr>\n",
              "    <tr>\n",
              "      <th>1</th>\n",
              "      <td>76</td>\n",
              "      <td>No</td>\n",
              "      <td>3</td>\n",
              "      <td>Moen, Mr. Sigurd Hansen</td>\n",
              "      <td>male</td>\n",
              "      <td>25.0</td>\n",
              "      <td>0</td>\n",
              "      <td>0</td>\n",
              "      <td>348123</td>\n",
              "      <td>7.6500</td>\n",
              "      <td>F G73</td>\n",
              "      <td>S</td>\n",
              "    </tr>\n",
              "    <tr>\n",
              "      <th>2</th>\n",
              "      <td>641</td>\n",
              "      <td>No</td>\n",
              "      <td>3</td>\n",
              "      <td>Jensen, Mr. Hans Peder</td>\n",
              "      <td>male</td>\n",
              "      <td>20.0</td>\n",
              "      <td>0</td>\n",
              "      <td>0</td>\n",
              "      <td>350050</td>\n",
              "      <td>7.8542</td>\n",
              "      <td>NaN</td>\n",
              "      <td>S</td>\n",
              "    </tr>\n",
              "    <tr>\n",
              "      <th>3</th>\n",
              "      <td>568</td>\n",
              "      <td>No</td>\n",
              "      <td>3</td>\n",
              "      <td>Palsson, Mrs. Nils (Alma Cornelia Berglund)</td>\n",
              "      <td>female</td>\n",
              "      <td>29.0</td>\n",
              "      <td>0</td>\n",
              "      <td>4</td>\n",
              "      <td>349909</td>\n",
              "      <td>21.0750</td>\n",
              "      <td>NaN</td>\n",
              "      <td>S</td>\n",
              "    </tr>\n",
              "    <tr>\n",
              "      <th>4</th>\n",
              "      <td>672</td>\n",
              "      <td>No</td>\n",
              "      <td>1</td>\n",
              "      <td>Davidson, Mr. Thornton</td>\n",
              "      <td>male</td>\n",
              "      <td>31.0</td>\n",
              "      <td>1</td>\n",
              "      <td>0</td>\n",
              "      <td>F.C. 12750</td>\n",
              "      <td>52.0000</td>\n",
              "      <td>B71</td>\n",
              "      <td>S</td>\n",
              "    </tr>\n",
              "    <tr>\n",
              "      <th>5</th>\n",
              "      <td>105</td>\n",
              "      <td>No</td>\n",
              "      <td>3</td>\n",
              "      <td>Gustafsson, Mr. Anders Vilhelm</td>\n",
              "      <td>male</td>\n",
              "      <td>37.0</td>\n",
              "      <td>2</td>\n",
              "      <td>0</td>\n",
              "      <td>3101276</td>\n",
              "      <td>7.9250</td>\n",
              "      <td>NaN</td>\n",
              "      <td>S</td>\n",
              "    </tr>\n",
              "    <tr>\n",
              "      <th>6</th>\n",
              "      <td>576</td>\n",
              "      <td>No</td>\n",
              "      <td>3</td>\n",
              "      <td>Patchett, Mr. George</td>\n",
              "      <td>male</td>\n",
              "      <td>19.0</td>\n",
              "      <td>0</td>\n",
              "      <td>0</td>\n",
              "      <td>358585</td>\n",
              "      <td>14.5000</td>\n",
              "      <td>NaN</td>\n",
              "      <td>S</td>\n",
              "    </tr>\n",
              "    <tr>\n",
              "      <th>7</th>\n",
              "      <td>382</td>\n",
              "      <td>Yes</td>\n",
              "      <td>3</td>\n",
              "      <td>Nakid, Miss. Maria (\"Mary\")</td>\n",
              "      <td>female</td>\n",
              "      <td>1.0</td>\n",
              "      <td>0</td>\n",
              "      <td>2</td>\n",
              "      <td>2653</td>\n",
              "      <td>15.7417</td>\n",
              "      <td>NaN</td>\n",
              "      <td>C</td>\n",
              "    </tr>\n",
              "    <tr>\n",
              "      <th>8</th>\n",
              "      <td>228</td>\n",
              "      <td>No</td>\n",
              "      <td>3</td>\n",
              "      <td>Lovell, Mr. John Hall (\"Henry\")</td>\n",
              "      <td>male</td>\n",
              "      <td>20.5</td>\n",
              "      <td>0</td>\n",
              "      <td>0</td>\n",
              "      <td>A/5 21173</td>\n",
              "      <td>7.2500</td>\n",
              "      <td>NaN</td>\n",
              "      <td>S</td>\n",
              "    </tr>\n",
              "    <tr>\n",
              "      <th>9</th>\n",
              "      <td>433</td>\n",
              "      <td>Yes</td>\n",
              "      <td>2</td>\n",
              "      <td>Louch, Mrs. Charles Alexander (Alice Adelaide ...</td>\n",
              "      <td>female</td>\n",
              "      <td>42.0</td>\n",
              "      <td>1</td>\n",
              "      <td>0</td>\n",
              "      <td>SC/AH 3085</td>\n",
              "      <td>26.0000</td>\n",
              "      <td>NaN</td>\n",
              "      <td>S</td>\n",
              "    </tr>\n",
              "    <tr>\n",
              "      <th>10</th>\n",
              "      <td>135</td>\n",
              "      <td>No</td>\n",
              "      <td>2</td>\n",
              "      <td>Sobey, Mr. Samuel James Hayden</td>\n",
              "      <td>male</td>\n",
              "      <td>25.0</td>\n",
              "      <td>0</td>\n",
              "      <td>0</td>\n",
              "      <td>C.A. 29178</td>\n",
              "      <td>13.0000</td>\n",
              "      <td>NaN</td>\n",
              "      <td>S</td>\n",
              "    </tr>\n",
              "    <tr>\n",
              "      <th>11</th>\n",
              "      <td>294</td>\n",
              "      <td>No</td>\n",
              "      <td>3</td>\n",
              "      <td>Haas, Miss. Aloisia</td>\n",
              "      <td>female</td>\n",
              "      <td>24.0</td>\n",
              "      <td>0</td>\n",
              "      <td>0</td>\n",
              "      <td>349236</td>\n",
              "      <td>8.8500</td>\n",
              "      <td>NaN</td>\n",
              "      <td>S</td>\n",
              "    </tr>\n",
              "    <tr>\n",
              "      <th>12</th>\n",
              "      <td>755</td>\n",
              "      <td>Yes</td>\n",
              "      <td>2</td>\n",
              "      <td>Herman, Mrs. Samuel (Jane Laver)</td>\n",
              "      <td>female</td>\n",
              "      <td>48.0</td>\n",
              "      <td>1</td>\n",
              "      <td>2</td>\n",
              "      <td>220845</td>\n",
              "      <td>65.0000</td>\n",
              "      <td>NaN</td>\n",
              "      <td>S</td>\n",
              "    </tr>\n",
              "    <tr>\n",
              "      <th>13</th>\n",
              "      <td>595</td>\n",
              "      <td>No</td>\n",
              "      <td>2</td>\n",
              "      <td>Chapman, Mr. John Henry</td>\n",
              "      <td>male</td>\n",
              "      <td>37.0</td>\n",
              "      <td>1</td>\n",
              "      <td>0</td>\n",
              "      <td>SC/AH 29037</td>\n",
              "      <td>26.0000</td>\n",
              "      <td>NaN</td>\n",
              "      <td>S</td>\n",
              "    </tr>\n",
              "    <tr>\n",
              "      <th>14</th>\n",
              "      <td>127</td>\n",
              "      <td>No</td>\n",
              "      <td>3</td>\n",
              "      <td>McMahon, Mr. Martin</td>\n",
              "      <td>male</td>\n",
              "      <td>NaN</td>\n",
              "      <td>0</td>\n",
              "      <td>0</td>\n",
              "      <td>370372</td>\n",
              "      <td>7.7500</td>\n",
              "      <td>NaN</td>\n",
              "      <td>Q</td>\n",
              "    </tr>\n",
              "  </tbody>\n",
              "</table>\n",
              "</div>"
            ]
          },
          "metadata": {},
          "execution_count": 4
        }
      ],
      "metadata": {
        "id": "1eQODOj_IaOy"
      }
    },
    {
      "cell_type": "markdown",
      "source": [
        "## Displaying the sum of null values on each column"
      ],
      "metadata": {
        "id": "d7PavVkLzCYC"
      }
    },
    {
      "cell_type": "code",
      "execution_count": 5,
      "source": [
        "titanic.isna().sum()"
      ],
      "outputs": [
        {
          "output_type": "execute_result",
          "data": {
            "text/plain": [
              "PassengerId      0\n",
              "Survived         0\n",
              "Pclass           0\n",
              "Name             0\n",
              "Sex              0\n",
              "Age            177\n",
              "SibSp            0\n",
              "Parch            0\n",
              "Ticket           0\n",
              "Fare             0\n",
              "Cabin          687\n",
              "Embarked         2\n",
              "dtype: int64"
            ]
          },
          "metadata": {},
          "execution_count": 5
        }
      ],
      "metadata": {
        "id": "l72osCOvZt3j"
      }
    },
    {
      "cell_type": "markdown",
      "source": [
        "## Replacing missing data"
      ],
      "metadata": {
        "id": "tXIuGOelpbb-"
      }
    },
    {
      "cell_type": "markdown",
      "source": [
        "Replacing missing Age values with mean of the database's age"
      ],
      "metadata": {
        "id": "lU4_T4QSo7Bt"
      }
    },
    {
      "cell_type": "code",
      "execution_count": 6,
      "source": [
        "titanic.Age.fillna(titanic.Age.mean(), inplace=True)\r\n",
        "titanic.isna().sum()"
      ],
      "outputs": [
        {
          "output_type": "execute_result",
          "data": {
            "text/plain": [
              "PassengerId      0\n",
              "Survived         0\n",
              "Pclass           0\n",
              "Name             0\n",
              "Sex              0\n",
              "Age              0\n",
              "SibSp            0\n",
              "Parch            0\n",
              "Ticket           0\n",
              "Fare             0\n",
              "Cabin          687\n",
              "Embarked         2\n",
              "dtype: int64"
            ]
          },
          "metadata": {},
          "execution_count": 6
        }
      ],
      "metadata": {
        "id": "D5ZHCz9hZ5z2"
      }
    },
    {
      "cell_type": "markdown",
      "source": [
        "Replacing missing values of Embarked column"
      ],
      "metadata": {
        "id": "dGxPWyhazLMR"
      }
    },
    {
      "cell_type": "code",
      "execution_count": 7,
      "source": [
        "# Rows containing missing values in Embarked column\r\n",
        "titanic[titanic.Embarked.isna()]"
      ],
      "outputs": [
        {
          "output_type": "execute_result",
          "data": {
            "text/plain": [
              "     PassengerId Survived  Pclass                                       Name  \\\n",
              "396          830      Yes       1  Stone, Mrs. George Nelson (Martha Evelyn)   \n",
              "399           62      Yes       1                        Icard, Miss. Amelie   \n",
              "\n",
              "        Sex   Age  SibSp  Parch  Ticket  Fare Cabin Embarked  \n",
              "396  female  62.0      0      0  113572  80.0   B28      NaN  \n",
              "399  female  38.0      0      0  113572  80.0   B28      NaN  "
            ],
            "text/html": [
              "<div>\n",
              "<style scoped>\n",
              "    .dataframe tbody tr th:only-of-type {\n",
              "        vertical-align: middle;\n",
              "    }\n",
              "\n",
              "    .dataframe tbody tr th {\n",
              "        vertical-align: top;\n",
              "    }\n",
              "\n",
              "    .dataframe thead th {\n",
              "        text-align: right;\n",
              "    }\n",
              "</style>\n",
              "<table border=\"1\" class=\"dataframe\">\n",
              "  <thead>\n",
              "    <tr style=\"text-align: right;\">\n",
              "      <th></th>\n",
              "      <th>PassengerId</th>\n",
              "      <th>Survived</th>\n",
              "      <th>Pclass</th>\n",
              "      <th>Name</th>\n",
              "      <th>Sex</th>\n",
              "      <th>Age</th>\n",
              "      <th>SibSp</th>\n",
              "      <th>Parch</th>\n",
              "      <th>Ticket</th>\n",
              "      <th>Fare</th>\n",
              "      <th>Cabin</th>\n",
              "      <th>Embarked</th>\n",
              "    </tr>\n",
              "  </thead>\n",
              "  <tbody>\n",
              "    <tr>\n",
              "      <th>396</th>\n",
              "      <td>830</td>\n",
              "      <td>Yes</td>\n",
              "      <td>1</td>\n",
              "      <td>Stone, Mrs. George Nelson (Martha Evelyn)</td>\n",
              "      <td>female</td>\n",
              "      <td>62.0</td>\n",
              "      <td>0</td>\n",
              "      <td>0</td>\n",
              "      <td>113572</td>\n",
              "      <td>80.0</td>\n",
              "      <td>B28</td>\n",
              "      <td>NaN</td>\n",
              "    </tr>\n",
              "    <tr>\n",
              "      <th>399</th>\n",
              "      <td>62</td>\n",
              "      <td>Yes</td>\n",
              "      <td>1</td>\n",
              "      <td>Icard, Miss. Amelie</td>\n",
              "      <td>female</td>\n",
              "      <td>38.0</td>\n",
              "      <td>0</td>\n",
              "      <td>0</td>\n",
              "      <td>113572</td>\n",
              "      <td>80.0</td>\n",
              "      <td>B28</td>\n",
              "      <td>NaN</td>\n",
              "    </tr>\n",
              "  </tbody>\n",
              "</table>\n",
              "</div>"
            ]
          },
          "metadata": {},
          "execution_count": 7
        }
      ],
      "metadata": {
        "id": "wwgO2Z-VsjBe"
      }
    },
    {
      "cell_type": "markdown",
      "source": [
        "Since the titanic database if widely used, and given that we only have to passengers with missing \"Embarked\" town information, we can simply look them up with a quick Google search and find more information about them.<br>\r\n",
        "In this example, I found out the following:<br>\r\n",
        "<ul>\r\n",
        "<li>\r\n",
        "    <a href=\"https://www.encyclopedia-titanica.org/titanic-survivor/martha-evelyn-stone.html\">Stone, Mrs. George Nelson (Martha Evelyn): : Charlestown</a><br>\r\n",
        "</li>\r\n",
        "<li>\r\n",
        "    <a href=\"https://www.encyclopedia-titanica.org/titanic-survivor/amelia-icard.html\">Icard, Miss. Amelie: Southampton</a><br>\r\n",
        "</li>\r\n",
        "</ul>"
      ],
      "metadata": {
        "id": "F61QWx6ZkMcI"
      }
    },
    {
      "cell_type": "code",
      "execution_count": 8,
      "source": [
        "titanic.at[396, \"Embarked\"] = \"C\"\r\n",
        "titanic.at[399, \"Embarked\"] = \"S\""
      ],
      "outputs": [],
      "metadata": {
        "id": "6luBepf1odfU"
      }
    },
    {
      "cell_type": "code",
      "execution_count": 9,
      "source": [
        "# test to find out if the previous function worked properly\r\n",
        "titanic.Embarked.isna().sum()"
      ],
      "outputs": [
        {
          "output_type": "execute_result",
          "data": {
            "text/plain": [
              "0"
            ]
          },
          "metadata": {},
          "execution_count": 9
        }
      ],
      "metadata": {
        "id": "q_mLNwbzstIp"
      }
    },
    {
      "cell_type": "markdown",
      "source": [
        "Replacing missing values in Cabin column<br>\r\n",
        "Since assigning a some median of Cabin's column would be a mistake, because we have a huge amout of missing values, I opted to give them a new label **\"M\"** which means *\"Missing\"*, in order to keep the database unbias.\r\n"
      ],
      "metadata": {
        "id": "vO8q4l7FzZj7"
      }
    },
    {
      "cell_type": "code",
      "execution_count": 10,
      "source": [
        "print('Number of missing values in Cabin column: {}\\n'.format(titanic.Cabin.isna().sum()))\r\n",
        "titanic.Cabin.fillna(\"M\", inplace=True)"
      ],
      "outputs": [
        {
          "output_type": "stream",
          "name": "stdout",
          "text": [
            "Number of missing values in Cabin column: 687\n",
            "\n"
          ]
        }
      ],
      "metadata": {
        "id": "VoHLMe42s-In"
      }
    },
    {
      "cell_type": "markdown",
      "source": [
        "## Validating the dataset"
      ],
      "metadata": {
        "id": "ad7Vud8wyvOD"
      }
    },
    {
      "cell_type": "code",
      "execution_count": 11,
      "source": [
        "print(titanic.isna().sum())\r\n",
        "titanic.info()"
      ],
      "outputs": [
        {
          "output_type": "stream",
          "name": "stdout",
          "text": [
            "PassengerId    0\n",
            "Survived       0\n",
            "Pclass         0\n",
            "Name           0\n",
            "Sex            0\n",
            "Age            0\n",
            "SibSp          0\n",
            "Parch          0\n",
            "Ticket         0\n",
            "Fare           0\n",
            "Cabin          0\n",
            "Embarked       0\n",
            "dtype: int64\n",
            "<class 'pandas.core.frame.DataFrame'>\n",
            "RangeIndex: 891 entries, 0 to 890\n",
            "Data columns (total 12 columns):\n",
            " #   Column       Non-Null Count  Dtype  \n",
            "---  ------       --------------  -----  \n",
            " 0   PassengerId  891 non-null    int64  \n",
            " 1   Survived     891 non-null    object \n",
            " 2   Pclass       891 non-null    int64  \n",
            " 3   Name         891 non-null    object \n",
            " 4   Sex          891 non-null    object \n",
            " 5   Age          891 non-null    float64\n",
            " 6   SibSp        891 non-null    int64  \n",
            " 7   Parch        891 non-null    int64  \n",
            " 8   Ticket       891 non-null    object \n",
            " 9   Fare         891 non-null    float64\n",
            " 10  Cabin        891 non-null    object \n",
            " 11  Embarked     891 non-null    object \n",
            "dtypes: float64(2), int64(4), object(6)\n",
            "memory usage: 83.7+ KB\n"
          ]
        }
      ],
      "metadata": {
        "id": "RHZBtoQNyYpK"
      }
    },
    {
      "cell_type": "markdown",
      "source": [
        "### Converting categorical columns into numerical"
      ],
      "metadata": {
        "id": "aHq4K0KrLbAy"
      }
    },
    {
      "cell_type": "markdown",
      "source": [
        "Either we convert out **categorial** values into **numerical** in order to make it easier for calculations later on, or, we could also create custom functions for our calculations.<br>\r\n",
        "Let's strat by converting the necessary columns into numerical."
      ],
      "metadata": {
        "id": "OGKtr0RdKmfO"
      }
    },
    {
      "cell_type": "code",
      "execution_count": 12,
      "source": [
        "titanic.Survived.replace({\"Yes\": 1, \"No\": 0}, inplace=True)\r\n",
        "titanic.Sex.replace({\"male\": 1, \"female\": 0}, inplace=True)"
      ],
      "outputs": [],
      "metadata": {
        "id": "hrHATXXaLgRv"
      }
    },
    {
      "cell_type": "markdown",
      "source": [
        "# Visualization"
      ],
      "metadata": {
        "id": "zwcaI_Dkzw3K"
      }
    },
    {
      "cell_type": "markdown",
      "source": [
        "## Impact of **Age**, **Sex** on the survival of an individual"
      ],
      "metadata": {
        "id": "JmqFXZCRMyG3"
      }
    },
    {
      "cell_type": "code",
      "execution_count": 13,
      "source": [
        "sexAgeSurvived_count = titanic.pivot_table(values=\"Survived\", index=[\"Age\", \"Sex\"], aggfunc=\"count\", fill_value=0)  # calculating survivals only\r\n",
        "sexAgeSurvived_mean = titanic.pivot_table(values=\"Survived\", index=[\"Age\", \"Sex\"], aggfunc=np.mean, fill_value=0) # mean\r\n",
        "\r\n",
        "sexAgeSurvived_count = sexAgeSurvived_count.reset_index()\r\n",
        "sexAgeSurvived_mean = sexAgeSurvived_mean.reset_index()\r\n",
        "\r\n",
        "display(sexAgeSurvived_count.head())\r\n",
        "display(sexAgeSurvived_mean.head())"
      ],
      "outputs": [
        {
          "output_type": "display_data",
          "data": {
            "text/plain": [
              "    Age  Sex  Survived\n",
              "0  0.42    1         1\n",
              "1  0.67    1         1\n",
              "2  0.75    0         2\n",
              "3  0.83    1         2\n",
              "4  0.92    1         1"
            ],
            "text/html": [
              "<div>\n",
              "<style scoped>\n",
              "    .dataframe tbody tr th:only-of-type {\n",
              "        vertical-align: middle;\n",
              "    }\n",
              "\n",
              "    .dataframe tbody tr th {\n",
              "        vertical-align: top;\n",
              "    }\n",
              "\n",
              "    .dataframe thead th {\n",
              "        text-align: right;\n",
              "    }\n",
              "</style>\n",
              "<table border=\"1\" class=\"dataframe\">\n",
              "  <thead>\n",
              "    <tr style=\"text-align: right;\">\n",
              "      <th></th>\n",
              "      <th>Age</th>\n",
              "      <th>Sex</th>\n",
              "      <th>Survived</th>\n",
              "    </tr>\n",
              "  </thead>\n",
              "  <tbody>\n",
              "    <tr>\n",
              "      <th>0</th>\n",
              "      <td>0.42</td>\n",
              "      <td>1</td>\n",
              "      <td>1</td>\n",
              "    </tr>\n",
              "    <tr>\n",
              "      <th>1</th>\n",
              "      <td>0.67</td>\n",
              "      <td>1</td>\n",
              "      <td>1</td>\n",
              "    </tr>\n",
              "    <tr>\n",
              "      <th>2</th>\n",
              "      <td>0.75</td>\n",
              "      <td>0</td>\n",
              "      <td>2</td>\n",
              "    </tr>\n",
              "    <tr>\n",
              "      <th>3</th>\n",
              "      <td>0.83</td>\n",
              "      <td>1</td>\n",
              "      <td>2</td>\n",
              "    </tr>\n",
              "    <tr>\n",
              "      <th>4</th>\n",
              "      <td>0.92</td>\n",
              "      <td>1</td>\n",
              "      <td>1</td>\n",
              "    </tr>\n",
              "  </tbody>\n",
              "</table>\n",
              "</div>"
            ]
          },
          "metadata": {}
        },
        {
          "output_type": "display_data",
          "data": {
            "text/plain": [
              "    Age  Sex  Survived\n",
              "0  0.42    1       1.0\n",
              "1  0.67    1       1.0\n",
              "2  0.75    0       1.0\n",
              "3  0.83    1       1.0\n",
              "4  0.92    1       1.0"
            ],
            "text/html": [
              "<div>\n",
              "<style scoped>\n",
              "    .dataframe tbody tr th:only-of-type {\n",
              "        vertical-align: middle;\n",
              "    }\n",
              "\n",
              "    .dataframe tbody tr th {\n",
              "        vertical-align: top;\n",
              "    }\n",
              "\n",
              "    .dataframe thead th {\n",
              "        text-align: right;\n",
              "    }\n",
              "</style>\n",
              "<table border=\"1\" class=\"dataframe\">\n",
              "  <thead>\n",
              "    <tr style=\"text-align: right;\">\n",
              "      <th></th>\n",
              "      <th>Age</th>\n",
              "      <th>Sex</th>\n",
              "      <th>Survived</th>\n",
              "    </tr>\n",
              "  </thead>\n",
              "  <tbody>\n",
              "    <tr>\n",
              "      <th>0</th>\n",
              "      <td>0.42</td>\n",
              "      <td>1</td>\n",
              "      <td>1.0</td>\n",
              "    </tr>\n",
              "    <tr>\n",
              "      <th>1</th>\n",
              "      <td>0.67</td>\n",
              "      <td>1</td>\n",
              "      <td>1.0</td>\n",
              "    </tr>\n",
              "    <tr>\n",
              "      <th>2</th>\n",
              "      <td>0.75</td>\n",
              "      <td>0</td>\n",
              "      <td>1.0</td>\n",
              "    </tr>\n",
              "    <tr>\n",
              "      <th>3</th>\n",
              "      <td>0.83</td>\n",
              "      <td>1</td>\n",
              "      <td>1.0</td>\n",
              "    </tr>\n",
              "    <tr>\n",
              "      <th>4</th>\n",
              "      <td>0.92</td>\n",
              "      <td>1</td>\n",
              "      <td>1.0</td>\n",
              "    </tr>\n",
              "  </tbody>\n",
              "</table>\n",
              "</div>"
            ]
          },
          "metadata": {}
        }
      ],
      "metadata": {
        "id": "9j06-qxXzmUB"
      }
    },
    {
      "cell_type": "code",
      "execution_count": 14,
      "source": [
        "plt.figure(figsize=[35,10])\r\n",
        "plt.subplot(121)\r\n",
        "sns.scatterplot(data=sexAgeSurvived_mean, x=\"Age\", y=\"Survived\", hue=\"Sex\", palette=[\"#ea990e\", \"#0e2bea\"])\r\n",
        "plt.title(\"Ratio of survivals by age with respect to sex\")\r\n",
        "plt.ylabel(\"Survival Ratio\")\r\n",
        "plt.legend([\"Male\", \"Female\"])\r\n",
        "\r\n",
        "plt.subplot(122)\r\n",
        "sns.scatterplot(data=sexAgeSurvived_count, x=\"Age\", y=\"Survived\", hue=\"Sex\", palette=[\"#ea990e\", \"#0e2bea\"])\r\n",
        "plt.ylabel(\"Survival Frequency\")\r\n",
        "plt.title(\"Frequency of survivals by age with respect to sex\")\r\n",
        "plt.legend([\"Male\", \"Female\"])\r\n",
        "\r\n",
        "plt.show()"
      ],
      "outputs": [
        {
          "output_type": "display_data",
          "data": {
            "text/plain": [
              "<Figure size 2520x720 with 2 Axes>"
            ],
            "image/png": "[encoded data removed]"
          },
          "metadata": {
            "needs_background": "light"
          }
        }
      ],
      "metadata": {
        "id": "IF5C68qhu185"
      }
    },
    {
      "cell_type": "markdown",
      "source": [
        "## Picking 2 other features and studying their impact on the survival of an idividual"
      ],
      "metadata": {
        "id": "9aHDWsOv0wqk"
      }
    },
    {
      "cell_type": "markdown",
      "source": [
        "### Survival-Pclass"
      ],
      "metadata": {
        "id": "R1vOWCYV5cZB"
      }
    },
    {
      "cell_type": "code",
      "execution_count": 15,
      "source": [
        "survivalPclass = titanic.groupby(by=\"Pclass\").Survived.mean()\r\n",
        "plt.figure(figsize=[15,8])\r\n",
        "survivalPclass.plot(kind=\"bar\", )\r\n",
        "plt.title(\"Ratio of survival given ticket classes\")\r\n",
        "plt.ylabel(\"Mean\")\r\n",
        "plt.show()"
      ],
      "outputs": [
        {
          "output_type": "display_data",
          "data": {
            "text/plain": [
              "<Figure size 1080x576 with 1 Axes>"
            ],
            "image/png": "[encoded data removed]"
          },
          "metadata": {
            "needs_background": "light"
          }
        }
      ],
      "metadata": {
        "id": "nn0JYPeh7YM3"
      }
    },
    {
      "cell_type": "markdown",
      "source": [
        "#### Pclass and Fare's Impact on The Survival of Passengers"
      ],
      "metadata": {}
    },
    {
      "cell_type": "code",
      "execution_count": 16,
      "source": [
        "pclassFare = titanic.pivot_table(values=\"Survived\", index=[\"Pclass\", \"Fare\"], aggfunc=\"sum\")\r\n",
        "pclassFare=pclassFare.reset_index()\r\n",
        "pclassFare"
      ],
      "outputs": [
        {
          "output_type": "execute_result",
          "data": {
            "text/plain": [
              "     Pclass     Fare  Survived\n",
              "0         1   0.0000         0\n",
              "1         1   5.0000         0\n",
              "2         1  25.5875         0\n",
              "3         1  25.9250         0\n",
              "4         1  25.9292         2\n",
              "..      ...      ...       ...\n",
              "250       3  34.3750         0\n",
              "251       3  39.6875         0\n",
              "252       3  46.9000         0\n",
              "253       3  56.4958         5\n",
              "254       3  69.5500         0\n",
              "\n",
              "[255 rows x 3 columns]"
            ],
            "text/html": [
              "<div>\n",
              "<style scoped>\n",
              "    .dataframe tbody tr th:only-of-type {\n",
              "        vertical-align: middle;\n",
              "    }\n",
              "\n",
              "    .dataframe tbody tr th {\n",
              "        vertical-align: top;\n",
              "    }\n",
              "\n",
              "    .dataframe thead th {\n",
              "        text-align: right;\n",
              "    }\n",
              "</style>\n",
              "<table border=\"1\" class=\"dataframe\">\n",
              "  <thead>\n",
              "    <tr style=\"text-align: right;\">\n",
              "      <th></th>\n",
              "      <th>Pclass</th>\n",
              "      <th>Fare</th>\n",
              "      <th>Survived</th>\n",
              "    </tr>\n",
              "  </thead>\n",
              "  <tbody>\n",
              "    <tr>\n",
              "      <th>0</th>\n",
              "      <td>1</td>\n",
              "      <td>0.0000</td>\n",
              "      <td>0</td>\n",
              "    </tr>\n",
              "    <tr>\n",
              "      <th>1</th>\n",
              "      <td>1</td>\n",
              "      <td>5.0000</td>\n",
              "      <td>0</td>\n",
              "    </tr>\n",
              "    <tr>\n",
              "      <th>2</th>\n",
              "      <td>1</td>\n",
              "      <td>25.5875</td>\n",
              "      <td>0</td>\n",
              "    </tr>\n",
              "    <tr>\n",
              "      <th>3</th>\n",
              "      <td>1</td>\n",
              "      <td>25.9250</td>\n",
              "      <td>0</td>\n",
              "    </tr>\n",
              "    <tr>\n",
              "      <th>4</th>\n",
              "      <td>1</td>\n",
              "      <td>25.9292</td>\n",
              "      <td>2</td>\n",
              "    </tr>\n",
              "    <tr>\n",
              "      <th>...</th>\n",
              "      <td>...</td>\n",
              "      <td>...</td>\n",
              "      <td>...</td>\n",
              "    </tr>\n",
              "    <tr>\n",
              "      <th>250</th>\n",
              "      <td>3</td>\n",
              "      <td>34.3750</td>\n",
              "      <td>0</td>\n",
              "    </tr>\n",
              "    <tr>\n",
              "      <th>251</th>\n",
              "      <td>3</td>\n",
              "      <td>39.6875</td>\n",
              "      <td>0</td>\n",
              "    </tr>\n",
              "    <tr>\n",
              "      <th>252</th>\n",
              "      <td>3</td>\n",
              "      <td>46.9000</td>\n",
              "      <td>0</td>\n",
              "    </tr>\n",
              "    <tr>\n",
              "      <th>253</th>\n",
              "      <td>3</td>\n",
              "      <td>56.4958</td>\n",
              "      <td>5</td>\n",
              "    </tr>\n",
              "    <tr>\n",
              "      <th>254</th>\n",
              "      <td>3</td>\n",
              "      <td>69.5500</td>\n",
              "      <td>0</td>\n",
              "    </tr>\n",
              "  </tbody>\n",
              "</table>\n",
              "<p>255 rows × 3 columns</p>\n",
              "</div>"
            ]
          },
          "metadata": {},
          "execution_count": 16
        }
      ],
      "metadata": {}
    },
    {
      "cell_type": "code",
      "execution_count": 17,
      "source": [
        "plt.figure(figsize=[35,10])\r\n",
        "\r\n",
        "sns.violinplot(data=pclassFare, x=\"Pclass\", y=\"Fare\", hue=\"Pclass\", bw=.2, cut=0, linewidth=.6)\r\n",
        "plt.title(\"Survival Frequency Given Passenger Class and Fare\")\r\n",
        "plt.ylabel(\"Frequency\")\r\n",
        "plt.xlabel(\"Pclass\")\r\n",
        "plt.grid(axis=\"y\", alpha=0.35)\r\n",
        "plt.legend(title=\"Socio-Economic Class\")\r\n",
        "\r\n",
        "plt.show()"
      ],
      "outputs": [
        {
          "output_type": "display_data",
          "data": {
            "text/plain": [
              "<Figure size 2520x720 with 1 Axes>"
            ],
            "image/png": "[encoded data removed]"
          },
          "metadata": {
            "needs_background": "light"
          }
        }
      ],
      "metadata": {}
    },
    {
      "cell_type": "markdown",
      "source": [
        "## Correlation"
      ],
      "metadata": {
        "id": "1ppas0JMQfd9"
      }
    },
    {
      "cell_type": "code",
      "execution_count": 18,
      "source": [
        "def plot_correlation_map( df ):\r\n",
        "    corr = df.corr()\r\n",
        "    s , ax = plt.subplots( figsize =( 12 , 10 ) )\r\n",
        "    cmap = sns.diverging_palette( 220 , 10 , as_cmap = True )\r\n",
        "\r\n",
        "    mask = np.zeros_like(corr)\r\n",
        "    mask[np.triu_indices_from(mask)] = True\r\n",
        "\r\n",
        "    s = sns.heatmap(\r\n",
        "        corr, \r\n",
        "        cmap = cmap,\r\n",
        "        square=True, \r\n",
        "        cbar_kws={ 'shrink' : .9 }, \r\n",
        "        ax=ax, \r\n",
        "        annot = True, \r\n",
        "        annot_kws = { 'fontsize' : 12 },\r\n",
        "        mask=mask\r\n",
        "        )"
      ],
      "outputs": [],
      "metadata": {
        "id": "bp60xIEr8RTS"
      }
    },
    {
      "cell_type": "markdown",
      "source": [
        "**PS:** *I have modified the correlation function to show only half of the matrix as it's symetrical by adding a mask because I wanted to clean up the graph and make it more readable.*"
      ],
      "metadata": {}
    },
    {
      "cell_type": "code",
      "execution_count": 19,
      "source": [
        "plot_correlation_map(titanic)"
      ],
      "outputs": [
        {
          "output_type": "display_data",
          "data": {
            "text/plain": [
              "<Figure size 864x720 with 2 Axes>"
            ],
            "image/png": "[encoded data removed]"
          },
          "metadata": {
            "needs_background": "light"
          }
        }
      ],
      "metadata": {
        "id": "HEYkCyk71HTA"
      }
    },
    {
      "cell_type": "markdown",
      "source": [
        "The heatmap tableau *(aka: Correlation Matrix)* shows the correlation between numerical features of the dataset which can lead to 3 different results:\n",
        "\n",
        "*   A positive correlation: when two variables move on the same direction, which indicates the existance of a link between them.\n",
        "*   A neutral correlation: no link between variables.\n",
        "*   A negative correlation: where two variables move on opposite direction.\n",
        "\n",
        "This helps us get a global view of a more or less relationships between variables. "
      ],
      "metadata": {
        "id": "-bQ3hAgqr3JV"
      }
    },
    {
      "cell_type": "markdown",
      "source": [
        "**Analysis**\r\n",
        "---\r\n",
        "Let's start by defining the ambigious variables:\r\n",
        "*   **Pclass:** socio-economic status (SES)\r\n",
        "*   **Parch:** Indicates the number of Parents + Children of given individual\r\n",
        "*   **SibSp:** Indicates the number of Siblings + Spouses (if they had any)\r\n",
        "*   **Fare:** Passenger fare\r\n",
        "\r\n",
        "The heatmap above displays values ranging from **-0.55 to 0.41**, each value is associated with a color to indicate the correlation between variables. Dark blue color indicates a stong negative correlation while rich red color indicates a strong positive correlation.<br>\r\n",
        "Most values are close to 0 except for a few combinations. We can devide these values as follows:\r\n",
        "\r\n",
        "*   Less than -0.33 : A strong negative relationship between features,\r\n",
        "*   -0.33 to -0.18 : A weak negative relationship,\r\n",
        "*   0.16 to 0.26 : A weak positive relationship,\r\n",
        "*   More than 0.26 : A strong positive relationship between variables.\r\n",
        "\r\n",
        "We also notice distinct values such as: -0.55, -0.54 and 0.41 which correspond to: (Pcalss, Fare), (Survived, Sex) and (SibSp, Parch) in order.<br>\r\n",
        "* **(SibSp, Parch)** are positively related because supposedly a passenger aboarded the titanic with his **two parents, a wife and 2 kids**, he'd have *Sibsp=3* and *Parch=4*, and we also can't have a negative impact because the least each variable could take is 0, so this explains the postive relationship.<br>\r\n",
        "* **(Pclass, Fare)** have a negative relationship because those from 3rd class have way lower fare compared to those from 1st class.<br>\r\n",
        "* **(Survived, Sex)** showed a strong negative correlation, which seemed odd at first but it explains that the survival of passengers during the titanic incident depended on their gender.<br>\r\n",
        "\r\n",
        "**Conclusion**\r\n",
        "---\r\n",
        "The correlation matrix is a great way to get an overview of the whole dataset (or at least the numerical features only) and the relationships between features. We now know that Sex and the SES of passengers had a negative influence on whether a passenger survived or not, their fare as well."
      ],
      "metadata": {
        "id": "lutHhQDgtLjr"
      }
    },
    {
      "cell_type": "markdown",
      "source": [
        "# Part 2: Preprocessing"
      ],
      "metadata": {
        "id": "qSJPhGR76ba3"
      }
    },
    {
      "cell_type": "markdown",
      "source": [
        "## Dropping the Name column after deriving a new column from it called **Title**"
      ],
      "metadata": {
        "id": "O8QKIvNd6HgK"
      }
    },
    {
      "cell_type": "code",
      "execution_count": 20,
      "source": [
        "titanic.head(20)"
      ],
      "outputs": [
        {
          "output_type": "execute_result",
          "data": {
            "text/plain": [
              "    PassengerId  Survived  Pclass  \\\n",
              "0           343         0       2   \n",
              "1            76         0       3   \n",
              "2           641         0       3   \n",
              "3           568         0       3   \n",
              "4           672         0       1   \n",
              "5           105         0       3   \n",
              "6           576         0       3   \n",
              "7           382         1       3   \n",
              "8           228         0       3   \n",
              "9           433         1       2   \n",
              "10          135         0       2   \n",
              "11          294         0       3   \n",
              "12          755         1       2   \n",
              "13          595         0       2   \n",
              "14          127         0       3   \n",
              "15          434         0       3   \n",
              "16          378         0       1   \n",
              "17          533         0       3   \n",
              "18          666         0       2   \n",
              "19          225         1       1   \n",
              "\n",
              "                                                 Name  Sex        Age  SibSp  \\\n",
              "0                          Collander, Mr. Erik Gustaf    1  28.000000      0   \n",
              "1                             Moen, Mr. Sigurd Hansen    1  25.000000      0   \n",
              "2                              Jensen, Mr. Hans Peder    1  20.000000      0   \n",
              "3         Palsson, Mrs. Nils (Alma Cornelia Berglund)    0  29.000000      0   \n",
              "4                              Davidson, Mr. Thornton    1  31.000000      1   \n",
              "5                      Gustafsson, Mr. Anders Vilhelm    1  37.000000      2   \n",
              "6                                Patchett, Mr. George    1  19.000000      0   \n",
              "7                         Nakid, Miss. Maria (\"Mary\")    0   1.000000      0   \n",
              "8                     Lovell, Mr. John Hall (\"Henry\")    1  20.500000      0   \n",
              "9   Louch, Mrs. Charles Alexander (Alice Adelaide ...    0  42.000000      1   \n",
              "10                     Sobey, Mr. Samuel James Hayden    1  25.000000      0   \n",
              "11                                Haas, Miss. Aloisia    0  24.000000      0   \n",
              "12                   Herman, Mrs. Samuel (Jane Laver)    0  48.000000      1   \n",
              "13                            Chapman, Mr. John Henry    1  37.000000      1   \n",
              "14                                McMahon, Mr. Martin    1  29.699118      0   \n",
              "15                         Kallio, Mr. Nikolai Erland    1  17.000000      0   \n",
              "16                          Widener, Mr. Harry Elkins    1  27.000000      0   \n",
              "17                               Elias, Mr. Joseph Jr    1  17.000000      1   \n",
              "18                                 Hickman, Mr. Lewis    1  32.000000      2   \n",
              "19                       Hoyt, Mr. Frederick Maxfield    1  38.000000      1   \n",
              "\n",
              "    Parch             Ticket      Fare  Cabin Embarked  \n",
              "0       0             248740   13.0000      M        S  \n",
              "1       0             348123    7.6500  F G73        S  \n",
              "2       0             350050    7.8542      M        S  \n",
              "3       4             349909   21.0750      M        S  \n",
              "4       0         F.C. 12750   52.0000    B71        S  \n",
              "5       0            3101276    7.9250      M        S  \n",
              "6       0             358585   14.5000      M        S  \n",
              "7       2               2653   15.7417      M        C  \n",
              "8       0          A/5 21173    7.2500      M        S  \n",
              "9       0         SC/AH 3085   26.0000      M        S  \n",
              "10      0         C.A. 29178   13.0000      M        S  \n",
              "11      0             349236    8.8500      M        S  \n",
              "12      2             220845   65.0000      M        S  \n",
              "13      0        SC/AH 29037   26.0000      M        S  \n",
              "14      0             370372    7.7500      M        Q  \n",
              "15      0  STON/O 2. 3101274    7.1250      M        S  \n",
              "16      2             113503  211.5000    C82        C  \n",
              "17      1               2690    7.2292      M        C  \n",
              "18      0       S.O.C. 14879   73.5000      M        S  \n",
              "19      0              19943   90.0000    C93        S  "
            ],
            "text/html": [
              "<div>\n",
              "<style scoped>\n",
              "    .dataframe tbody tr th:only-of-type {\n",
              "        vertical-align: middle;\n",
              "    }\n",
              "\n",
              "    .dataframe tbody tr th {\n",
              "        vertical-align: top;\n",
              "    }\n",
              "\n",
              "    .dataframe thead th {\n",
              "        text-align: right;\n",
              "    }\n",
              "</style>\n",
              "<table border=\"1\" class=\"dataframe\">\n",
              "  <thead>\n",
              "    <tr style=\"text-align: right;\">\n",
              "      <th></th>\n",
              "      <th>PassengerId</th>\n",
              "      <th>Survived</th>\n",
              "      <th>Pclass</th>\n",
              "      <th>Name</th>\n",
              "      <th>Sex</th>\n",
              "      <th>Age</th>\n",
              "      <th>SibSp</th>\n",
              "      <th>Parch</th>\n",
              "      <th>Ticket</th>\n",
              "      <th>Fare</th>\n",
              "      <th>Cabin</th>\n",
              "      <th>Embarked</th>\n",
              "    </tr>\n",
              "  </thead>\n",
              "  <tbody>\n",
              "    <tr>\n",
              "      <th>0</th>\n",
              "      <td>343</td>\n",
              "      <td>0</td>\n",
              "      <td>2</td>\n",
              "      <td>Collander, Mr. Erik Gustaf</td>\n",
              "      <td>1</td>\n",
              "      <td>28.000000</td>\n",
              "      <td>0</td>\n",
              "      <td>0</td>\n",
              "      <td>248740</td>\n",
              "      <td>13.0000</td>\n",
              "      <td>M</td>\n",
              "      <td>S</td>\n",
              "    </tr>\n",
              "    <tr>\n",
              "      <th>1</th>\n",
              "      <td>76</td>\n",
              "      <td>0</td>\n",
              "      <td>3</td>\n",
              "      <td>Moen, Mr. Sigurd Hansen</td>\n",
              "      <td>1</td>\n",
              "      <td>25.000000</td>\n",
              "      <td>0</td>\n",
              "      <td>0</td>\n",
              "      <td>348123</td>\n",
              "      <td>7.6500</td>\n",
              "      <td>F G73</td>\n",
              "      <td>S</td>\n",
              "    </tr>\n",
              "    <tr>\n",
              "      <th>2</th>\n",
              "      <td>641</td>\n",
              "      <td>0</td>\n",
              "      <td>3</td>\n",
              "      <td>Jensen, Mr. Hans Peder</td>\n",
              "      <td>1</td>\n",
              "      <td>20.000000</td>\n",
              "      <td>0</td>\n",
              "      <td>0</td>\n",
              "      <td>350050</td>\n",
              "      <td>7.8542</td>\n",
              "      <td>M</td>\n",
              "      <td>S</td>\n",
              "    </tr>\n",
              "    <tr>\n",
              "      <th>3</th>\n",
              "      <td>568</td>\n",
              "      <td>0</td>\n",
              "      <td>3</td>\n",
              "      <td>Palsson, Mrs. Nils (Alma Cornelia Berglund)</td>\n",
              "      <td>0</td>\n",
              "      <td>29.000000</td>\n",
              "      <td>0</td>\n",
              "      <td>4</td>\n",
              "      <td>349909</td>\n",
              "      <td>21.0750</td>\n",
              "      <td>M</td>\n",
              "      <td>S</td>\n",
              "    </tr>\n",
              "    <tr>\n",
              "      <th>4</th>\n",
              "      <td>672</td>\n",
              "      <td>0</td>\n",
              "      <td>1</td>\n",
              "      <td>Davidson, Mr. Thornton</td>\n",
              "      <td>1</td>\n",
              "      <td>31.000000</td>\n",
              "      <td>1</td>\n",
              "      <td>0</td>\n",
              "      <td>F.C. 12750</td>\n",
              "      <td>52.0000</td>\n",
              "      <td>B71</td>\n",
              "      <td>S</td>\n",
              "    </tr>\n",
              "    <tr>\n",
              "      <th>5</th>\n",
              "      <td>105</td>\n",
              "      <td>0</td>\n",
              "      <td>3</td>\n",
              "      <td>Gustafsson, Mr. Anders Vilhelm</td>\n",
              "      <td>1</td>\n",
              "      <td>37.000000</td>\n",
              "      <td>2</td>\n",
              "      <td>0</td>\n",
              "      <td>3101276</td>\n",
              "      <td>7.9250</td>\n",
              "      <td>M</td>\n",
              "      <td>S</td>\n",
              "    </tr>\n",
              "    <tr>\n",
              "      <th>6</th>\n",
              "      <td>576</td>\n",
              "      <td>0</td>\n",
              "      <td>3</td>\n",
              "      <td>Patchett, Mr. George</td>\n",
              "      <td>1</td>\n",
              "      <td>19.000000</td>\n",
              "      <td>0</td>\n",
              "      <td>0</td>\n",
              "      <td>358585</td>\n",
              "      <td>14.5000</td>\n",
              "      <td>M</td>\n",
              "      <td>S</td>\n",
              "    </tr>\n",
              "    <tr>\n",
              "      <th>7</th>\n",
              "      <td>382</td>\n",
              "      <td>1</td>\n",
              "      <td>3</td>\n",
              "      <td>Nakid, Miss. Maria (\"Mary\")</td>\n",
              "      <td>0</td>\n",
              "      <td>1.000000</td>\n",
              "      <td>0</td>\n",
              "      <td>2</td>\n",
              "      <td>2653</td>\n",
              "      <td>15.7417</td>\n",
              "      <td>M</td>\n",
              "      <td>C</td>\n",
              "    </tr>\n",
              "    <tr>\n",
              "      <th>8</th>\n",
              "      <td>228</td>\n",
              "      <td>0</td>\n",
              "      <td>3</td>\n",
              "      <td>Lovell, Mr. John Hall (\"Henry\")</td>\n",
              "      <td>1</td>\n",
              "      <td>20.500000</td>\n",
              "      <td>0</td>\n",
              "      <td>0</td>\n",
              "      <td>A/5 21173</td>\n",
              "      <td>7.2500</td>\n",
              "      <td>M</td>\n",
              "      <td>S</td>\n",
              "    </tr>\n",
              "    <tr>\n",
              "      <th>9</th>\n",
              "      <td>433</td>\n",
              "      <td>1</td>\n",
              "      <td>2</td>\n",
              "      <td>Louch, Mrs. Charles Alexander (Alice Adelaide ...</td>\n",
              "      <td>0</td>\n",
              "      <td>42.000000</td>\n",
              "      <td>1</td>\n",
              "      <td>0</td>\n",
              "      <td>SC/AH 3085</td>\n",
              "      <td>26.0000</td>\n",
              "      <td>M</td>\n",
              "      <td>S</td>\n",
              "    </tr>\n",
              "    <tr>\n",
              "      <th>10</th>\n",
              "      <td>135</td>\n",
              "      <td>0</td>\n",
              "      <td>2</td>\n",
              "      <td>Sobey, Mr. Samuel James Hayden</td>\n",
              "      <td>1</td>\n",
              "      <td>25.000000</td>\n",
              "      <td>0</td>\n",
              "      <td>0</td>\n",
              "      <td>C.A. 29178</td>\n",
              "      <td>13.0000</td>\n",
              "      <td>M</td>\n",
              "      <td>S</td>\n",
              "    </tr>\n",
              "    <tr>\n",
              "      <th>11</th>\n",
              "      <td>294</td>\n",
              "      <td>0</td>\n",
              "      <td>3</td>\n",
              "      <td>Haas, Miss. Aloisia</td>\n",
              "      <td>0</td>\n",
              "      <td>24.000000</td>\n",
              "      <td>0</td>\n",
              "      <td>0</td>\n",
              "      <td>349236</td>\n",
              "      <td>8.8500</td>\n",
              "      <td>M</td>\n",
              "      <td>S</td>\n",
              "    </tr>\n",
              "    <tr>\n",
              "      <th>12</th>\n",
              "      <td>755</td>\n",
              "      <td>1</td>\n",
              "      <td>2</td>\n",
              "      <td>Herman, Mrs. Samuel (Jane Laver)</td>\n",
              "      <td>0</td>\n",
              "      <td>48.000000</td>\n",
              "      <td>1</td>\n",
              "      <td>2</td>\n",
              "      <td>220845</td>\n",
              "      <td>65.0000</td>\n",
              "      <td>M</td>\n",
              "      <td>S</td>\n",
              "    </tr>\n",
              "    <tr>\n",
              "      <th>13</th>\n",
              "      <td>595</td>\n",
              "      <td>0</td>\n",
              "      <td>2</td>\n",
              "      <td>Chapman, Mr. John Henry</td>\n",
              "      <td>1</td>\n",
              "      <td>37.000000</td>\n",
              "      <td>1</td>\n",
              "      <td>0</td>\n",
              "      <td>SC/AH 29037</td>\n",
              "      <td>26.0000</td>\n",
              "      <td>M</td>\n",
              "      <td>S</td>\n",
              "    </tr>\n",
              "    <tr>\n",
              "      <th>14</th>\n",
              "      <td>127</td>\n",
              "      <td>0</td>\n",
              "      <td>3</td>\n",
              "      <td>McMahon, Mr. Martin</td>\n",
              "      <td>1</td>\n",
              "      <td>29.699118</td>\n",
              "      <td>0</td>\n",
              "      <td>0</td>\n",
              "      <td>370372</td>\n",
              "      <td>7.7500</td>\n",
              "      <td>M</td>\n",
              "      <td>Q</td>\n",
              "    </tr>\n",
              "    <tr>\n",
              "      <th>15</th>\n",
              "      <td>434</td>\n",
              "      <td>0</td>\n",
              "      <td>3</td>\n",
              "      <td>Kallio, Mr. Nikolai Erland</td>\n",
              "      <td>1</td>\n",
              "      <td>17.000000</td>\n",
              "      <td>0</td>\n",
              "      <td>0</td>\n",
              "      <td>STON/O 2. 3101274</td>\n",
              "      <td>7.1250</td>\n",
              "      <td>M</td>\n",
              "      <td>S</td>\n",
              "    </tr>\n",
              "    <tr>\n",
              "      <th>16</th>\n",
              "      <td>378</td>\n",
              "      <td>0</td>\n",
              "      <td>1</td>\n",
              "      <td>Widener, Mr. Harry Elkins</td>\n",
              "      <td>1</td>\n",
              "      <td>27.000000</td>\n",
              "      <td>0</td>\n",
              "      <td>2</td>\n",
              "      <td>113503</td>\n",
              "      <td>211.5000</td>\n",
              "      <td>C82</td>\n",
              "      <td>C</td>\n",
              "    </tr>\n",
              "    <tr>\n",
              "      <th>17</th>\n",
              "      <td>533</td>\n",
              "      <td>0</td>\n",
              "      <td>3</td>\n",
              "      <td>Elias, Mr. Joseph Jr</td>\n",
              "      <td>1</td>\n",
              "      <td>17.000000</td>\n",
              "      <td>1</td>\n",
              "      <td>1</td>\n",
              "      <td>2690</td>\n",
              "      <td>7.2292</td>\n",
              "      <td>M</td>\n",
              "      <td>C</td>\n",
              "    </tr>\n",
              "    <tr>\n",
              "      <th>18</th>\n",
              "      <td>666</td>\n",
              "      <td>0</td>\n",
              "      <td>2</td>\n",
              "      <td>Hickman, Mr. Lewis</td>\n",
              "      <td>1</td>\n",
              "      <td>32.000000</td>\n",
              "      <td>2</td>\n",
              "      <td>0</td>\n",
              "      <td>S.O.C. 14879</td>\n",
              "      <td>73.5000</td>\n",
              "      <td>M</td>\n",
              "      <td>S</td>\n",
              "    </tr>\n",
              "    <tr>\n",
              "      <th>19</th>\n",
              "      <td>225</td>\n",
              "      <td>1</td>\n",
              "      <td>1</td>\n",
              "      <td>Hoyt, Mr. Frederick Maxfield</td>\n",
              "      <td>1</td>\n",
              "      <td>38.000000</td>\n",
              "      <td>1</td>\n",
              "      <td>0</td>\n",
              "      <td>19943</td>\n",
              "      <td>90.0000</td>\n",
              "      <td>C93</td>\n",
              "      <td>S</td>\n",
              "    </tr>\n",
              "  </tbody>\n",
              "</table>\n",
              "</div>"
            ]
          },
          "metadata": {},
          "execution_count": 20
        }
      ],
      "metadata": {
        "id": "PWb0BM0QYHl2"
      }
    },
    {
      "cell_type": "code",
      "execution_count": 21,
      "source": [
        "titanic[\"Title\"] = titanic.Name.map(lambda x: x.split(\",\")[1].strip().split(\" \")[0].strip()[:-1])"
      ],
      "outputs": [],
      "metadata": {
        "id": "8fDZIIA3ypxa"
      }
    },
    {
      "cell_type": "markdown",
      "source": [
        "Looking for inconsistencies with the new values"
      ],
      "metadata": {
        "id": "84fc6Ao03zRx"
      }
    },
    {
      "cell_type": "code",
      "execution_count": 22,
      "source": [
        "print(titanic.Title.unique())"
      ],
      "outputs": [
        {
          "output_type": "stream",
          "name": "stdout",
          "text": [
            "['Mr' 'Mrs' 'Miss' 'Dr' 'Major' 'Don' 'Master' 'Rev' 'Col' 'Mlle' 'Lady'\n",
            " 'Jonkheer' 'Mme' 'Sir' 'Capt' 'th' 'Ms']\n"
          ]
        }
      ],
      "metadata": {
        "id": "S-TAp4sJ3xkr"
      }
    },
    {
      "cell_type": "markdown",
      "source": [
        "\"th\" looks weird so, let's investigate."
      ],
      "metadata": {
        "id": "QixP88g04V99"
      }
    },
    {
      "cell_type": "code",
      "execution_count": 23,
      "source": [
        "idx = titanic.Title.to_list().index(\"th\")\r\n",
        "print(titanic.loc[idx])"
      ],
      "outputs": [
        {
          "output_type": "stream",
          "name": "stdout",
          "text": [
            "PassengerId                                                  760\n",
            "Survived                                                       1\n",
            "Pclass                                                         1\n",
            "Name           Rothes, the Countess. of (Lucy Noel Martha Dye...\n",
            "Sex                                                            0\n",
            "Age                                                         33.0\n",
            "SibSp                                                          0\n",
            "Parch                                                          0\n",
            "Ticket                                                    110152\n",
            "Fare                                                        86.5\n",
            "Cabin                                                        B77\n",
            "Embarked                                                       S\n",
            "Title                                                         th\n",
            "Name: 755, dtype: object\n"
          ]
        }
      ],
      "metadata": {
        "id": "By8hj-7S4TKh"
      }
    },
    {
      "cell_type": "markdown",
      "source": [
        "Since she boarded the ship alone *(both Parch and SibSp are equal to 0)*, it's most likely that she was not married, so, we'll assign her **\"Mlle\"** as a title."
      ],
      "metadata": {
        "id": "BN2gB0Gr5UY9"
      }
    },
    {
      "cell_type": "code",
      "execution_count": 24,
      "source": [
        "titanic.at[idx, \"Title\"] = \"Mlle\""
      ],
      "outputs": [],
      "metadata": {
        "id": "gafWDiZxzBX4"
      }
    },
    {
      "cell_type": "code",
      "execution_count": 25,
      "source": [
        "# Dropping \"Name\" column\r\n",
        "titanic.drop(\"Name\", axis=1, inplace=True)"
      ],
      "outputs": [],
      "metadata": {
        "id": "74UM3QEq1C6D"
      }
    },
    {
      "cell_type": "markdown",
      "source": [
        "## Visualizing correlation between Title and other features"
      ],
      "metadata": {
        "id": "42q-0xd96jEC"
      }
    },
    {
      "cell_type": "markdown",
      "source": [
        "### Title and Sex"
      ],
      "metadata": {
        "id": "wt9BDpu07Skl"
      }
    },
    {
      "cell_type": "code",
      "execution_count": 26,
      "source": [
        "titleSex = titanic.groupby(by=[\"Title\", \"Sex\"]).Sex.count()\r\n",
        "titleSex.name = \"Count\"\r\n",
        "titleSex = titleSex.reset_index()\r\n",
        "titleSex.sort_values(by=\"Title\", ascending=True, inplace=True)"
      ],
      "outputs": [],
      "metadata": {
        "id": "hRjwYP9bBn9G"
      }
    },
    {
      "cell_type": "code",
      "execution_count": 27,
      "source": [
        "titleSex_range = range(1,len(titleSex.index)+1)\r\n",
        "male_range = titleSex[titleSex.Sex ==1].index+1\r\n",
        "female_range = titleSex[titleSex.Sex ==0].index+1\r\n",
        "\r\n",
        "plt.figure(figsize=[23,6])\r\n",
        "plt.hlines(y=titleSex_range, xmin=0, xmax=titleSex.Count, color='grey', alpha=0.4)\r\n",
        "plt.scatter(titleSex[titleSex.Sex ==1].Count, male_range, color='skyblue', alpha=1, label='Male')\r\n",
        "plt.scatter(titleSex[titleSex.Sex ==0].Count, female_range, color='green', alpha=0.4 , label='Female')\r\n",
        "plt.legend()\r\n",
        " \r\n",
        "plt.yticks(titleSex_range, titleSex['Title'])\r\n",
        "plt.title(\"Number of passengers relative to their title and gender\", loc='left')\r\n",
        "plt.xlabel('Count')\r\n",
        "plt.ylabel('Title')\r\n",
        "\r\n",
        "plt.show()"
      ],
      "outputs": [
        {
          "output_type": "display_data",
          "data": {
            "text/plain": [
              "<Figure size 1656x432 with 1 Axes>"
            ],
            "image/png": "[encoded data removed]"
          },
          "metadata": {
            "needs_background": "light"
          }
        }
      ],
      "metadata": {
        "id": "7wcVq76j8wXR"
      }
    },
    {
      "cell_type": "markdown",
      "source": [
        "### Title and Age"
      ],
      "metadata": {
        "id": "guShsvDv7XIs"
      }
    },
    {
      "cell_type": "code",
      "execution_count": 28,
      "source": [
        "titleAge = titanic.groupby(by=[\"Title\", \"Age\"]).Age.count()\r\n",
        "titleAge.name = \"Count\"\r\n",
        "titleAge"
      ],
      "outputs": [
        {
          "output_type": "execute_result",
          "data": {
            "text/plain": [
              "Title  Age \n",
              "Capt   70.0    1\n",
              "Col    56.0    1\n",
              "       60.0    1\n",
              "Don    40.0    1\n",
              "Dr     23.0    1\n",
              "              ..\n",
              "Rev    42.0    1\n",
              "       51.0    1\n",
              "       54.0    1\n",
              "       57.0    1\n",
              "Sir    49.0    1\n",
              "Name: Count, Length: 205, dtype: int64"
            ]
          },
          "metadata": {},
          "execution_count": 28
        }
      ],
      "metadata": {
        "id": "UVEzTMK-8wy7"
      }
    },
    {
      "cell_type": "code",
      "execution_count": 29,
      "source": [
        "temp = titanic.Title.unique()\r\n",
        "temp.sort()\r\n",
        "idx1 = temp[int(len(temp)/2)]\r\n",
        "idx2 = temp[int(len(temp)/2)+1]\r\n",
        "\r\n",
        "# We split the graph into two because of the big number of titles\r\n",
        "plt.figure(figsize=[35, 15])\r\n",
        "plt.subplot(211)\r\n",
        "sns.violinplot(x=\"Title\", y=\"Age\", hue=\"Title\", data=titleAge.loc[:idx1].reset_index(), cut=2, bw=.5)\r\n",
        "plt.title(\"Distribution of ages with respect to titles\")\r\n",
        "plt.legend().remove()\r\n",
        "plt.grid(axis=\"y\", alpha=0.35)\r\n",
        "\r\n",
        "plt.figure(figsize=[35, 15])\r\n",
        "plt.subplot(212)\r\n",
        "sns.violinplot(x=\"Title\", y=\"Age\", hue=\"Title\", data=titleAge.loc[idx2:].reset_index(), cut=2, bw=.5)\r\n",
        "plt.title(\"Distribution of ages with respect to titles\")\r\n",
        "plt.legend().remove()\r\n",
        "plt.grid(axis=\"y\", alpha=0.35)\r\n",
        "\r\n",
        "plt.show()"
      ],
      "outputs": [
        {
          "output_type": "display_data",
          "data": {
            "text/plain": [
              "<Figure size 2520x1080 with 1 Axes>"
            ],
            "image/png": "[encoded data removed]"
          },
          "metadata": {
            "needs_background": "light"
          }
        },
        {
          "output_type": "display_data",
          "data": {
            "text/plain": [
              "<Figure size 2520x1080 with 1 Axes>"
            ],
            "image/png": "[encoded data removed]"
          },
          "metadata": {
            "needs_background": "light"
          }
        }
      ],
      "metadata": {}
    },
    {
      "cell_type": "markdown",
      "source": [
        "### Title and Fare"
      ],
      "metadata": {
        "id": "KPaqhrqL7Wiz"
      }
    },
    {
      "cell_type": "code",
      "execution_count": 30,
      "source": [
        "titleFare = titanic.groupby(by=[\"Title\", \"Fare\"]).Fare.sum()\r\n",
        "titleFare.name = \"Sum\"\r\n",
        "titleFare"
      ],
      "outputs": [
        {
          "output_type": "execute_result",
          "data": {
            "text/plain": [
              "Title  Fare   \n",
              "Capt   71.0000    71.0000\n",
              "Col    26.5500    26.5500\n",
              "       35.5000    35.5000\n",
              "Don    27.7208    27.7208\n",
              "Dr     10.5000    10.5000\n",
              "                   ...   \n",
              "Rev    12.5250    12.5250\n",
              "       13.0000    26.0000\n",
              "       26.0000    26.0000\n",
              "       33.0000    33.0000\n",
              "Sir    56.9292    56.9292\n",
              "Name: Sum, Length: 428, dtype: float64"
            ]
          },
          "metadata": {},
          "execution_count": 30
        }
      ],
      "metadata": {
        "id": "BquGPOsg55KO"
      }
    },
    {
      "cell_type": "code",
      "execution_count": 31,
      "source": [
        "# We split the graph into two because of the big number of titles\r\n",
        "plt.figure(figsize=[35, 15])\r\n",
        "plt.subplot(211)\r\n",
        "sns.violinplot(x=\"Title\", y=\"Fare\", hue=\"Title\", data=titleFare.loc[:idx1].reset_index(), cut=0, bw=.5)\r\n",
        "plt.title(\"Distribution of fares with respect to titles\")\r\n",
        "plt.legend().remove()\r\n",
        "plt.grid(axis=\"y\", alpha=0.35)\r\n",
        "\r\n",
        "plt.figure(figsize=[35, 15])\r\n",
        "plt.subplot(212)\r\n",
        "sns.violinplot(x=\"Title\", y=\"Fare\", hue=\"Title\", data=titleFare.loc[idx2:].reset_index(), cut=0, bw=.5)\r\n",
        "plt.title(\"Distribution of fares with respect to titles\")\r\n",
        "plt.legend().remove()\r\n",
        "plt.grid(axis=\"y\", alpha=0.35)\r\n",
        "\r\n",
        "plt.show()"
      ],
      "outputs": [
        {
          "output_type": "display_data",
          "data": {
            "text/plain": [
              "<Figure size 2520x1080 with 1 Axes>"
            ],
            "image/png": "[encoded data removed]"
          },
          "metadata": {
            "needs_background": "light"
          }
        },
        {
          "output_type": "display_data",
          "data": {
            "text/plain": [
              "<Figure size 2520x1080 with 1 Axes>"
            ],
            "image/png": "[encoded data removed]"
          },
          "metadata": {
            "needs_background": "light"
          }
        }
      ],
      "metadata": {}
    },
    {
      "cell_type": "code",
      "execution_count": 32,
      "source": [
        "Title_Dictionary = {\r\n",
        "  \"Capt\":\"Officer\",\r\n",
        "  \"Col\":\"Officer\",\r\n",
        "  \"Major\":\"Officer\",\r\n",
        "  \"Dr\":\"Officer\",\r\n",
        "  \"Rev\":\"Officer\",\r\n",
        "  \"Jonkheer\":\"Royalty\",\r\n",
        "  \"Don\":\"Royalty\",\r\n",
        "  \"Sir\":\"Royalty\",\r\n",
        "  \"Lady\":\"Royalty\",\r\n",
        "   \"the Countess\":\"Royalty\",\r\n",
        "  \"Dona\":\"Royalty\",\r\n",
        "  \"Mme\":\"Miss\",\r\n",
        "  \"Mlle\":\"Miss\",\r\n",
        "  \"Miss\" :\"Miss\",\r\n",
        "  \"Ms\":\"Mrs\",\r\n",
        "  \"Mr\":\"Mrs\",\r\n",
        "  \"Mrs\":\"Mrs\",\r\n",
        "  \"Master\":\"Master\"\r\n",
        "  }"
      ],
      "outputs": [],
      "metadata": {
        "id": "o6x9IK227mUc"
      }
    },
    {
      "cell_type": "markdown",
      "source": [
        "## Replacing titles with given dictionary"
      ],
      "metadata": {
        "id": "DPc_kVNM8p_F"
      }
    },
    {
      "cell_type": "code",
      "execution_count": 33,
      "source": [
        "titanic = titanic.replace(Title_Dictionary)\r\n",
        "titanic.head()"
      ],
      "outputs": [
        {
          "output_type": "execute_result",
          "data": {
            "text/plain": [
              "   PassengerId  Survived  Pclass  Sex   Age  SibSp  Parch      Ticket  \\\n",
              "0          343         0       2    1  28.0      0      0      248740   \n",
              "1           76         0       3    1  25.0      0      0      348123   \n",
              "2          641         0       3    1  20.0      0      0      350050   \n",
              "3          568         0       3    0  29.0      0      4      349909   \n",
              "4          672         0       1    1  31.0      1      0  F.C. 12750   \n",
              "\n",
              "      Fare  Cabin Embarked Title  \n",
              "0  13.0000      M        S   Mrs  \n",
              "1   7.6500  F G73        S   Mrs  \n",
              "2   7.8542      M        S   Mrs  \n",
              "3  21.0750      M        S   Mrs  \n",
              "4  52.0000    B71        S   Mrs  "
            ],
            "text/html": [
              "<div>\n",
              "<style scoped>\n",
              "    .dataframe tbody tr th:only-of-type {\n",
              "        vertical-align: middle;\n",
              "    }\n",
              "\n",
              "    .dataframe tbody tr th {\n",
              "        vertical-align: top;\n",
              "    }\n",
              "\n",
              "    .dataframe thead th {\n",
              "        text-align: right;\n",
              "    }\n",
              "</style>\n",
              "<table border=\"1\" class=\"dataframe\">\n",
              "  <thead>\n",
              "    <tr style=\"text-align: right;\">\n",
              "      <th></th>\n",
              "      <th>PassengerId</th>\n",
              "      <th>Survived</th>\n",
              "      <th>Pclass</th>\n",
              "      <th>Sex</th>\n",
              "      <th>Age</th>\n",
              "      <th>SibSp</th>\n",
              "      <th>Parch</th>\n",
              "      <th>Ticket</th>\n",
              "      <th>Fare</th>\n",
              "      <th>Cabin</th>\n",
              "      <th>Embarked</th>\n",
              "      <th>Title</th>\n",
              "    </tr>\n",
              "  </thead>\n",
              "  <tbody>\n",
              "    <tr>\n",
              "      <th>0</th>\n",
              "      <td>343</td>\n",
              "      <td>0</td>\n",
              "      <td>2</td>\n",
              "      <td>1</td>\n",
              "      <td>28.0</td>\n",
              "      <td>0</td>\n",
              "      <td>0</td>\n",
              "      <td>248740</td>\n",
              "      <td>13.0000</td>\n",
              "      <td>M</td>\n",
              "      <td>S</td>\n",
              "      <td>Mrs</td>\n",
              "    </tr>\n",
              "    <tr>\n",
              "      <th>1</th>\n",
              "      <td>76</td>\n",
              "      <td>0</td>\n",
              "      <td>3</td>\n",
              "      <td>1</td>\n",
              "      <td>25.0</td>\n",
              "      <td>0</td>\n",
              "      <td>0</td>\n",
              "      <td>348123</td>\n",
              "      <td>7.6500</td>\n",
              "      <td>F G73</td>\n",
              "      <td>S</td>\n",
              "      <td>Mrs</td>\n",
              "    </tr>\n",
              "    <tr>\n",
              "      <th>2</th>\n",
              "      <td>641</td>\n",
              "      <td>0</td>\n",
              "      <td>3</td>\n",
              "      <td>1</td>\n",
              "      <td>20.0</td>\n",
              "      <td>0</td>\n",
              "      <td>0</td>\n",
              "      <td>350050</td>\n",
              "      <td>7.8542</td>\n",
              "      <td>M</td>\n",
              "      <td>S</td>\n",
              "      <td>Mrs</td>\n",
              "    </tr>\n",
              "    <tr>\n",
              "      <th>3</th>\n",
              "      <td>568</td>\n",
              "      <td>0</td>\n",
              "      <td>3</td>\n",
              "      <td>0</td>\n",
              "      <td>29.0</td>\n",
              "      <td>0</td>\n",
              "      <td>4</td>\n",
              "      <td>349909</td>\n",
              "      <td>21.0750</td>\n",
              "      <td>M</td>\n",
              "      <td>S</td>\n",
              "      <td>Mrs</td>\n",
              "    </tr>\n",
              "    <tr>\n",
              "      <th>4</th>\n",
              "      <td>672</td>\n",
              "      <td>0</td>\n",
              "      <td>1</td>\n",
              "      <td>1</td>\n",
              "      <td>31.0</td>\n",
              "      <td>1</td>\n",
              "      <td>0</td>\n",
              "      <td>F.C. 12750</td>\n",
              "      <td>52.0000</td>\n",
              "      <td>B71</td>\n",
              "      <td>S</td>\n",
              "      <td>Mrs</td>\n",
              "    </tr>\n",
              "  </tbody>\n",
              "</table>\n",
              "</div>"
            ]
          },
          "metadata": {},
          "execution_count": 33
        }
      ],
      "metadata": {
        "id": "N31YSZvZ8PqD"
      }
    },
    {
      "cell_type": "markdown",
      "source": [
        "## New Visualization"
      ],
      "metadata": {}
    },
    {
      "cell_type": "markdown",
      "source": [
        "### Title Sex"
      ],
      "metadata": {}
    },
    {
      "cell_type": "code",
      "execution_count": 34,
      "source": [
        "titleSex = titanic.groupby(by=[\"Title\", \"Sex\"]).Sex.count()\r\n",
        "titleSex.name = \"Count\"\r\n",
        "titleSex = titleSex.reset_index()\r\n",
        "titleSex.sort_values(by=\"Title\", ascending=True, inplace=True)"
      ],
      "outputs": [],
      "metadata": {}
    },
    {
      "cell_type": "code",
      "execution_count": 35,
      "source": [
        "titleSex_range = range(1,len(titleSex.index)+1)\r\n",
        "male_range = titleSex[titleSex.Sex ==1].index+1\r\n",
        "female_range = titleSex[titleSex.Sex ==0].index+1\r\n",
        "\r\n",
        "plt.figure(figsize=[23,6])\r\n",
        "\r\n",
        "plt.hlines(y=titleSex_range, xmin=0, xmax=titleSex.Count, color='grey', alpha=0.4)\r\n",
        "plt.scatter(titleSex[titleSex.Sex ==1].Count, male_range, color='skyblue', alpha=1, label='Male')\r\n",
        "plt.scatter(titleSex[titleSex.Sex ==0].Count, female_range, color='green', alpha=0.4 , label='Female')\r\n",
        "plt.legend()\r\n",
        " \r\n",
        "plt.yticks(titleSex_range, titleSex['Title'])\r\n",
        "plt.title(\"Number of passengers relative to their title and gender\", loc='left')\r\n",
        "plt.xlabel('Count')\r\n",
        "plt.ylabel('Title')\r\n",
        "\r\n",
        "plt.show()"
      ],
      "outputs": [
        {
          "output_type": "display_data",
          "data": {
            "text/plain": [
              "<Figure size 1656x432 with 1 Axes>"
            ],
            "image/png": "[encoded data removed]"
          },
          "metadata": {
            "needs_background": "light"
          }
        }
      ],
      "metadata": {}
    },
    {
      "cell_type": "markdown",
      "source": [
        "### Title and Age"
      ],
      "metadata": {}
    },
    {
      "cell_type": "code",
      "execution_count": 36,
      "source": [
        "titleAge = titanic.groupby(by=[\"Title\", \"Age\"]).Age.count()\r\n",
        "titleAge.name = \"Count\""
      ],
      "outputs": [],
      "metadata": {}
    },
    {
      "cell_type": "code",
      "execution_count": 37,
      "source": [
        "plt.figure(figsize=[35, 15])\r\n",
        "plt.subplot(211)\r\n",
        "sns.violinplot(x=\"Title\", y=\"Age\", hue=\"Title\", data=titleAge.reset_index(), cut=0, bw=.5)\r\n",
        "plt.title(\"Distribution of ages with respect to titles\")\r\n",
        "plt.legend().remove()\r\n",
        "plt.grid(axis=\"y\", alpha=0.35)\r\n",
        "\r\n",
        "plt.show()"
      ],
      "outputs": [
        {
          "output_type": "display_data",
          "data": {
            "text/plain": [
              "<Figure size 2520x1080 with 1 Axes>"
            ],
            "image/png": "[encoded data removed]"
          },
          "metadata": {
            "needs_background": "light"
          }
        }
      ],
      "metadata": {}
    },
    {
      "cell_type": "markdown",
      "source": [
        "### Title and Fare"
      ],
      "metadata": {}
    },
    {
      "cell_type": "code",
      "execution_count": 38,
      "source": [
        "def color_gradient(x=0.0, start=(0, 0, 0), stop=(1, 1, 1)):\r\n",
        "    r = np.interp(x, [0, 1], [start[0], stop[0]])\r\n",
        "    g = np.interp(x, [0, 1], [start[1], stop[1]])\r\n",
        "    b = np.interp(x, [0, 1], [start[2], stop[2]])\r\n",
        "    return (r, g, b)"
      ],
      "outputs": [],
      "metadata": {}
    },
    {
      "cell_type": "code",
      "execution_count": 39,
      "source": [
        "titleFare = titanic.groupby(by=[\"Title\", \"Fare\"]).Fare.mean()\r\n",
        "titleFare.name = \"Mean\"\r\n",
        "\r\n",
        "titleFare = titleFare.reset_index()\r\n",
        "titleFare.drop(\"Mean\", axis=1, inplace=True)\r\n",
        "\r\n",
        "plt.figure()\r\n",
        "\r\n",
        "joyplot(\r\n",
        "    data=titleFare[['Fare', 'Title']], \r\n",
        "    by='Title',\r\n",
        "    figsize=(35, 12),\r\n",
        "    colormap=lambda x: color_gradient(x, start=(.08, .45, .8))\r\n",
        ")\r\n",
        "plt.title('Distribution of Passengers\\' Fares Given Their Title', fontsize=20)\r\n",
        "plt.show()\r\n"
      ],
      "outputs": [
        {
          "output_type": "display_data",
          "data": {
            "text/plain": [
              "<Figure size 432x288 with 0 Axes>"
            ]
          },
          "metadata": {}
        },
        {
          "output_type": "display_data",
          "data": {
            "text/plain": [
              "<Figure size 2520x864 with 6 Axes>"
            ],
            "image/png": "[encoded data removed]"
          },
          "metadata": {
            "needs_background": "light"
          }
        }
      ],
      "metadata": {
        "id": "5yKLTojb8bwy"
      }
    },
    {
      "cell_type": "markdown",
      "source": [
        "## Study of family size impact on the survival of passengers"
      ],
      "metadata": {}
    },
    {
      "cell_type": "markdown",
      "source": [
        "Here, I wanted to find out whether the size of a family would have an impact on their survival, given the fact that when it crisis, one tends to turn to their family for assistance.<br>\r\n",
        "In the following example, I will combine the two columns **\"Parch\" + \"Sibsp\"** in order to get the *family size*, and then I will narrow down the sizes into *4 bins*, because 5 or more members in one family is considered a big family."
      ],
      "metadata": {
        "id": "PAsZYYOaWmiL"
      }
    },
    {
      "cell_type": "code",
      "execution_count": 40,
      "source": [
        "temp_titanic = titanic.copy()\r\n",
        "temp_titanic[\"Family_Size_bins\"] = titanic.join(pd.Series(titanic.SibSp+titanic.Parch + 1, name=\"Family_Size\"), how=\"left\").Family_Size.map(lambda x : 1 if x == 1 else 2 if x == 2 else 3 if x==3 or x==4 else 5)\r\n",
        "temp_titanic[[\"Family_Size_bins\", \"Survived\"]].groupby(by=\"Family_Size_bins\").mean().plot(kind=\"bar\", figsize=[15,7])\r\n",
        "\r\n",
        "plt.xlabel(\"Family Size\")\r\n",
        "plt.ylabel(\"Mean\")\r\n",
        "plt.title(\"Mean survival by family size\")\r\n",
        "\r\n",
        "plt.show()"
      ],
      "outputs": [
        {
          "output_type": "display_data",
          "data": {
            "text/plain": [
              "<Figure size 1080x504 with 1 Axes>"
            ],
            "image/png": "[encoded data removed]"
          },
          "metadata": {
            "needs_background": "light"
          }
        }
      ],
      "metadata": {
        "id": "xEfRQ69SvhdQ"
      }
    },
    {
      "cell_type": "markdown",
      "source": [
        "The above chart shows the impact of the family size on their survival. The smaller the family, the more likely it is for them to survive. Ultimately, if the family size is too big or too small (in this case, *bin number 5 & 1* ), it's less likely for them to make it out alive.<br>\r\n",
        "\r\n",
        "I have also tried studying the imapct of Cabin on the survival of passengers, given the fact that those on the upper decks are more likely to have jumped into lifeboats before those on the lower decks.\r\n",
        "However, since we had over 600 of missing values, I'd say that the results wouldn't be complete."
      ],
      "metadata": {
        "id": "su9jxWElhcs-"
      }
    }
  ]
}