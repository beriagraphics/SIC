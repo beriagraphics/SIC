{
 "cells": [
  {
   "cell_type": "code",
   "execution_count": 252,
   "source": [
    "import pandas as pd\r\n",
    "import numpy as np\r\n",
    "import scipy.stats as st\r\n",
    "import seaborn as sns\r\n",
    "import matplotlib.pyplot as plt\r\n"
   ],
   "outputs": [],
   "metadata": {}
  },
  {
   "cell_type": "code",
   "execution_count": 253,
   "source": [
    "df = pd.read_csv(\"kc_house_data.csv\")"
   ],
   "outputs": [],
   "metadata": {}
  },
  {
   "cell_type": "code",
   "execution_count": 254,
   "source": [
    "df.shape"
   ],
   "outputs": [
    {
     "output_type": "execute_result",
     "data": {
      "text/plain": [
       "(21613, 21)"
      ]
     },
     "metadata": {},
     "execution_count": 254
    }
   ],
   "metadata": {}
  },
  {
   "cell_type": "code",
   "execution_count": 255,
   "source": [
    "df.head().T"
   ],
   "outputs": [
    {
     "output_type": "execute_result",
     "data": {
      "text/plain": [
       "                             0                1                2  \\\n",
       "id                  7129300520       6414100192       5631500400   \n",
       "date           20141013T000000  20141209T000000  20150225T000000   \n",
       "price                 221900.0         538000.0         180000.0   \n",
       "bedrooms                     3                3                2   \n",
       "bathrooms                  1.0             2.25              1.0   \n",
       "sqft_living               1180             2570              770   \n",
       "sqft_lot                  5650             7242            10000   \n",
       "floors                     1.0              2.0              1.0   \n",
       "waterfront                   0                0                0   \n",
       "view                         0                0                0   \n",
       "condition                    3                3                3   \n",
       "grade                        7                7                6   \n",
       "sqft_above                1180             2170              770   \n",
       "sqft_basement                0              400                0   \n",
       "yr_built                  1955             1951             1933   \n",
       "yr_renovated                 0             1991                0   \n",
       "zipcode                  98178            98125            98028   \n",
       "lat                    47.5112           47.721          47.7379   \n",
       "long                  -122.257         -122.319         -122.233   \n",
       "sqft_living15             1340             1690             2720   \n",
       "sqft_lot15                5650             7639             8062   \n",
       "\n",
       "                             3                4  \n",
       "id                  2487200875       1954400510  \n",
       "date           20141209T000000  20150218T000000  \n",
       "price                 604000.0         510000.0  \n",
       "bedrooms                     4                3  \n",
       "bathrooms                  3.0              2.0  \n",
       "sqft_living               1960             1680  \n",
       "sqft_lot                  5000             8080  \n",
       "floors                     1.0              1.0  \n",
       "waterfront                   0                0  \n",
       "view                         0                0  \n",
       "condition                    5                3  \n",
       "grade                        7                8  \n",
       "sqft_above                1050             1680  \n",
       "sqft_basement              910                0  \n",
       "yr_built                  1965             1987  \n",
       "yr_renovated                 0                0  \n",
       "zipcode                  98136            98074  \n",
       "lat                    47.5208          47.6168  \n",
       "long                  -122.393         -122.045  \n",
       "sqft_living15             1360             1800  \n",
       "sqft_lot15                5000             7503  "
      ],
      "text/html": [
       "<div>\n",
       "<style scoped>\n",
       "    .dataframe tbody tr th:only-of-type {\n",
       "        vertical-align: middle;\n",
       "    }\n",
       "\n",
       "    .dataframe tbody tr th {\n",
       "        vertical-align: top;\n",
       "    }\n",
       "\n",
       "    .dataframe thead th {\n",
       "        text-align: right;\n",
       "    }\n",
       "</style>\n",
       "<table border=\"1\" class=\"dataframe\">\n",
       "  <thead>\n",
       "    <tr style=\"text-align: right;\">\n",
       "      <th></th>\n",
       "      <th>0</th>\n",
       "      <th>1</th>\n",
       "      <th>2</th>\n",
       "      <th>3</th>\n",
       "      <th>4</th>\n",
       "    </tr>\n",
       "  </thead>\n",
       "  <tbody>\n",
       "    <tr>\n",
       "      <th>id</th>\n",
       "      <td>7129300520</td>\n",
       "      <td>6414100192</td>\n",
       "      <td>5631500400</td>\n",
       "      <td>2487200875</td>\n",
       "      <td>1954400510</td>\n",
       "    </tr>\n",
       "    <tr>\n",
       "      <th>date</th>\n",
       "      <td>20141013T000000</td>\n",
       "      <td>20141209T000000</td>\n",
       "      <td>20150225T000000</td>\n",
       "      <td>20141209T000000</td>\n",
       "      <td>20150218T000000</td>\n",
       "    </tr>\n",
       "    <tr>\n",
       "      <th>price</th>\n",
       "      <td>221900.0</td>\n",
       "      <td>538000.0</td>\n",
       "      <td>180000.0</td>\n",
       "      <td>604000.0</td>\n",
       "      <td>510000.0</td>\n",
       "    </tr>\n",
       "    <tr>\n",
       "      <th>bedrooms</th>\n",
       "      <td>3</td>\n",
       "      <td>3</td>\n",
       "      <td>2</td>\n",
       "      <td>4</td>\n",
       "      <td>3</td>\n",
       "    </tr>\n",
       "    <tr>\n",
       "      <th>bathrooms</th>\n",
       "      <td>1.0</td>\n",
       "      <td>2.25</td>\n",
       "      <td>1.0</td>\n",
       "      <td>3.0</td>\n",
       "      <td>2.0</td>\n",
       "    </tr>\n",
       "    <tr>\n",
       "      <th>sqft_living</th>\n",
       "      <td>1180</td>\n",
       "      <td>2570</td>\n",
       "      <td>770</td>\n",
       "      <td>1960</td>\n",
       "      <td>1680</td>\n",
       "    </tr>\n",
       "    <tr>\n",
       "      <th>sqft_lot</th>\n",
       "      <td>5650</td>\n",
       "      <td>7242</td>\n",
       "      <td>10000</td>\n",
       "      <td>5000</td>\n",
       "      <td>8080</td>\n",
       "    </tr>\n",
       "    <tr>\n",
       "      <th>floors</th>\n",
       "      <td>1.0</td>\n",
       "      <td>2.0</td>\n",
       "      <td>1.0</td>\n",
       "      <td>1.0</td>\n",
       "      <td>1.0</td>\n",
       "    </tr>\n",
       "    <tr>\n",
       "      <th>waterfront</th>\n",
       "      <td>0</td>\n",
       "      <td>0</td>\n",
       "      <td>0</td>\n",
       "      <td>0</td>\n",
       "      <td>0</td>\n",
       "    </tr>\n",
       "    <tr>\n",
       "      <th>view</th>\n",
       "      <td>0</td>\n",
       "      <td>0</td>\n",
       "      <td>0</td>\n",
       "      <td>0</td>\n",
       "      <td>0</td>\n",
       "    </tr>\n",
       "    <tr>\n",
       "      <th>condition</th>\n",
       "      <td>3</td>\n",
       "      <td>3</td>\n",
       "      <td>3</td>\n",
       "      <td>5</td>\n",
       "      <td>3</td>\n",
       "    </tr>\n",
       "    <tr>\n",
       "      <th>grade</th>\n",
       "      <td>7</td>\n",
       "      <td>7</td>\n",
       "      <td>6</td>\n",
       "      <td>7</td>\n",
       "      <td>8</td>\n",
       "    </tr>\n",
       "    <tr>\n",
       "      <th>sqft_above</th>\n",
       "      <td>1180</td>\n",
       "      <td>2170</td>\n",
       "      <td>770</td>\n",
       "      <td>1050</td>\n",
       "      <td>1680</td>\n",
       "    </tr>\n",
       "    <tr>\n",
       "      <th>sqft_basement</th>\n",
       "      <td>0</td>\n",
       "      <td>400</td>\n",
       "      <td>0</td>\n",
       "      <td>910</td>\n",
       "      <td>0</td>\n",
       "    </tr>\n",
       "    <tr>\n",
       "      <th>yr_built</th>\n",
       "      <td>1955</td>\n",
       "      <td>1951</td>\n",
       "      <td>1933</td>\n",
       "      <td>1965</td>\n",
       "      <td>1987</td>\n",
       "    </tr>\n",
       "    <tr>\n",
       "      <th>yr_renovated</th>\n",
       "      <td>0</td>\n",
       "      <td>1991</td>\n",
       "      <td>0</td>\n",
       "      <td>0</td>\n",
       "      <td>0</td>\n",
       "    </tr>\n",
       "    <tr>\n",
       "      <th>zipcode</th>\n",
       "      <td>98178</td>\n",
       "      <td>98125</td>\n",
       "      <td>98028</td>\n",
       "      <td>98136</td>\n",
       "      <td>98074</td>\n",
       "    </tr>\n",
       "    <tr>\n",
       "      <th>lat</th>\n",
       "      <td>47.5112</td>\n",
       "      <td>47.721</td>\n",
       "      <td>47.7379</td>\n",
       "      <td>47.5208</td>\n",
       "      <td>47.6168</td>\n",
       "    </tr>\n",
       "    <tr>\n",
       "      <th>long</th>\n",
       "      <td>-122.257</td>\n",
       "      <td>-122.319</td>\n",
       "      <td>-122.233</td>\n",
       "      <td>-122.393</td>\n",
       "      <td>-122.045</td>\n",
       "    </tr>\n",
       "    <tr>\n",
       "      <th>sqft_living15</th>\n",
       "      <td>1340</td>\n",
       "      <td>1690</td>\n",
       "      <td>2720</td>\n",
       "      <td>1360</td>\n",
       "      <td>1800</td>\n",
       "    </tr>\n",
       "    <tr>\n",
       "      <th>sqft_lot15</th>\n",
       "      <td>5650</td>\n",
       "      <td>7639</td>\n",
       "      <td>8062</td>\n",
       "      <td>5000</td>\n",
       "      <td>7503</td>\n",
       "    </tr>\n",
       "  </tbody>\n",
       "</table>\n",
       "</div>"
      ]
     },
     "metadata": {},
     "execution_count": 255
    }
   ],
   "metadata": {}
  },
  {
   "cell_type": "code",
   "execution_count": 256,
   "source": [
    "df.isnull().sum()"
   ],
   "outputs": [
    {
     "output_type": "execute_result",
     "data": {
      "text/plain": [
       "id               0\n",
       "date             0\n",
       "price            0\n",
       "bedrooms         0\n",
       "bathrooms        0\n",
       "sqft_living      0\n",
       "sqft_lot         0\n",
       "floors           0\n",
       "waterfront       0\n",
       "view             0\n",
       "condition        0\n",
       "grade            0\n",
       "sqft_above       0\n",
       "sqft_basement    0\n",
       "yr_built         0\n",
       "yr_renovated     0\n",
       "zipcode          0\n",
       "lat              0\n",
       "long             0\n",
       "sqft_living15    0\n",
       "sqft_lot15       0\n",
       "dtype: int64"
      ]
     },
     "metadata": {},
     "execution_count": 256
    }
   ],
   "metadata": {}
  },
  {
   "cell_type": "code",
   "execution_count": 257,
   "source": [
    "df.isnull().sum().sum()"
   ],
   "outputs": [
    {
     "output_type": "execute_result",
     "data": {
      "text/plain": [
       "0"
      ]
     },
     "metadata": {},
     "execution_count": 257
    }
   ],
   "metadata": {}
  },
  {
   "cell_type": "code",
   "execution_count": 258,
   "source": [
    "df.info()"
   ],
   "outputs": [
    {
     "output_type": "stream",
     "name": "stdout",
     "text": [
      "<class 'pandas.core.frame.DataFrame'>\n",
      "RangeIndex: 21613 entries, 0 to 21612\n",
      "Data columns (total 21 columns):\n",
      " #   Column         Non-Null Count  Dtype  \n",
      "---  ------         --------------  -----  \n",
      " 0   id             21613 non-null  int64  \n",
      " 1   date           21613 non-null  object \n",
      " 2   price          21613 non-null  float64\n",
      " 3   bedrooms       21613 non-null  int64  \n",
      " 4   bathrooms      21613 non-null  float64\n",
      " 5   sqft_living    21613 non-null  int64  \n",
      " 6   sqft_lot       21613 non-null  int64  \n",
      " 7   floors         21613 non-null  float64\n",
      " 8   waterfront     21613 non-null  int64  \n",
      " 9   view           21613 non-null  int64  \n",
      " 10  condition      21613 non-null  int64  \n",
      " 11  grade          21613 non-null  int64  \n",
      " 12  sqft_above     21613 non-null  int64  \n",
      " 13  sqft_basement  21613 non-null  int64  \n",
      " 14  yr_built       21613 non-null  int64  \n",
      " 15  yr_renovated   21613 non-null  int64  \n",
      " 16  zipcode        21613 non-null  int64  \n",
      " 17  lat            21613 non-null  float64\n",
      " 18  long           21613 non-null  float64\n",
      " 19  sqft_living15  21613 non-null  int64  \n",
      " 20  sqft_lot15     21613 non-null  int64  \n",
      "dtypes: float64(5), int64(15), object(1)\n",
      "memory usage: 3.5+ MB\n"
     ]
    }
   ],
   "metadata": {}
  },
  {
   "cell_type": "code",
   "execution_count": 259,
   "source": [
    "# Getting the year of release from Date column\r\n",
    "df.date = pd.Series(data=list(map(lambda x: x[:4], df.date)), name=\"date\")\r\n",
    "# Converting date column to integer\r\n",
    "df = df.astype({\"date\": np.int64})"
   ],
   "outputs": [],
   "metadata": {}
  },
  {
   "cell_type": "code",
   "execution_count": 260,
   "source": [
    "from sklearn.model_selection import train_test_split\r\n",
    "from sklearn.preprocessing import PolynomialFeatures\r\n",
    "from sklearn.linear_model import LinearRegression\r\n",
    "from sklearn.metrics import mean_squared_error\r\n",
    "from sklearn import metrics\r\n",
    "\r\n",
    "lg = LinearRegression()\r\n",
    "poly = PolynomialFeatures(degree=3)\r\n",
    "\r\n",
    "x_train, x_test, y_train, y_test = train_test_split(df.drop(\"price\", axis=1), df.price, train_size=0.80, test_size=0.20, random_state=40)\r\n",
    "\r\n",
    "x_train = poly.fit_transform(x_train)\r\n",
    "x_test = poly.fit_transform(x_test)\r\n",
    "\r\n",
    "lg.fit(x_train, y_train)\r\n",
    "predicted = lg.predict(x_test)\r\n",
    "\r\n",
    "\r\n",
    "print(\"MSE\", mean_squared_error(y_test, predicted))\r\n",
    "print(\"R squared\", metrics.r2_score(y_test, predicted))\r\n"
   ],
   "outputs": [
    {
     "output_type": "stream",
     "name": "stdout",
     "text": [
      "MSE 117362917897.27975\n",
      "R squared 0.06704889940401226\n"
     ]
    }
   ],
   "metadata": {}
  },
  {
   "cell_type": "code",
   "execution_count": 261,
   "source": [
    "plt.scatter(y_test,predicted)\r\n",
    "plt.xlabel(\"Expected\")\r\n",
    "plt.ylabel(\"Predicted\")\r\n",
    "plt.title(\"Expected vs Predicted House Prices\")\r\n",
    "plt.show()"
   ],
   "outputs": [
    {
     "output_type": "display_data",
     "data": {
      "text/plain": [
       "<Figure size 432x288 with 1 Axes>"
      ],
      "image/png": "[encoded data removed]"
     },
     "metadata": {
      "needs_background": "light"
     }
    }
   ],
   "metadata": {}
  },
  {
   "cell_type": "markdown",
   "source": [
    "We notice that by feeding the model raw data without selecting specific features, it yields a huge MSE and 0.067 R-squred values, this means that the model is correctly predicting only 6.7% of house prices."
   ],
   "metadata": {}
  },
  {
   "cell_type": "markdown",
   "source": [
    "## Analysing the dataset"
   ],
   "metadata": {}
  },
  {
   "cell_type": "code",
   "execution_count": 326,
   "source": [
    "# Multiple Boxplots.\r\n",
    "data = df.drop(\"id\", axis=1)\r\n",
    "fig = plt.figure(figsize =(10, 7))\r\n",
    "ax = fig.add_axes([0, 0, 1, 1])\r\n",
    " \r\n",
    "bp = ax.boxplot(data)\r\n",
    "\r\n",
    "ax.set_xticklabels(data.columns)\r\n",
    "\r\n",
    "plt.show()"
   ],
   "outputs": [
    {
     "output_type": "display_data",
     "data": {
      "text/plain": [
       "<Figure size 720x504 with 1 Axes>"
      ],
      "image/png": "[encoded data removed]"
     },
     "metadata": {
      "needs_background": "light"
     }
    }
   ],
   "metadata": {}
  },
  {
   "cell_type": "code",
   "execution_count": 289,
   "source": [
    "# Exploring house age\r\n",
    "print(\"Renovated houses: %.3f\" % (df[df.yr_renovated!=0].size/df.size))\r\n",
    "sns.scatterplot(data=df[df.yr_renovated!=0], x=\"yr_built\", y=\"yr_renovated\")\r\n",
    "plt.title(\"Year Built vs Year Renovated\")\r\n",
    "plt.xlabel(\"Year Built\")\r\n",
    "plt.ylabel(\"Year Renovated\")\r\n",
    "plt.show()"
   ],
   "outputs": [
    {
     "output_type": "stream",
     "name": "stdout",
     "text": [
      "Renovated houses: 0.042\n"
     ]
    },
    {
     "output_type": "display_data",
     "data": {
      "text/plain": [
       "<Figure size 432x288 with 1 Axes>"
      ],
      "image/png": "[encoded data removed]"
     },
     "metadata": {
      "needs_background": "light"
     }
    }
   ],
   "metadata": {}
  },
  {
   "cell_type": "markdown",
   "source": [
    "We notice that over 4.2% of houses were renovated, yet it's important to add the age of the house to the dataset as we'll notice its impact on the model's prediction later on."
   ],
   "metadata": {}
  },
  {
   "cell_type": "code",
   "execution_count": 263,
   "source": [
    "# Creating a new column called Age describing the house's age\r\n",
    "age = []\r\n",
    "x = df[[\"date\", \"yr_renovated\", \"yr_built\"]]\r\n",
    "for i in range(len(x)):\r\n",
    "    age.append(x.loc[i][0] - x.loc[i][1] if x.loc[i][1] !=0 else x.loc[i][0] - x.loc[i][2])\r\n",
    "age = pd.Series(data=age, name=\"age\")\r\n",
    "df = df.join(age)\r\n",
    "df.head()"
   ],
   "outputs": [
    {
     "output_type": "execute_result",
     "data": {
      "text/plain": [
       "           id  date     price  bedrooms  bathrooms  sqft_living  sqft_lot  \\\n",
       "0  7129300520  2014  221900.0         3       1.00         1180      5650   \n",
       "1  6414100192  2014  538000.0         3       2.25         2570      7242   \n",
       "2  5631500400  2015  180000.0         2       1.00          770     10000   \n",
       "3  2487200875  2014  604000.0         4       3.00         1960      5000   \n",
       "4  1954400510  2015  510000.0         3       2.00         1680      8080   \n",
       "\n",
       "   floors  waterfront  view  ...  sqft_above  sqft_basement  yr_built  \\\n",
       "0     1.0           0     0  ...        1180              0      1955   \n",
       "1     2.0           0     0  ...        2170            400      1951   \n",
       "2     1.0           0     0  ...         770              0      1933   \n",
       "3     1.0           0     0  ...        1050            910      1965   \n",
       "4     1.0           0     0  ...        1680              0      1987   \n",
       "\n",
       "   yr_renovated  zipcode      lat     long  sqft_living15  sqft_lot15  age  \n",
       "0             0    98178  47.5112 -122.257           1340        5650   59  \n",
       "1          1991    98125  47.7210 -122.319           1690        7639   23  \n",
       "2             0    98028  47.7379 -122.233           2720        8062   82  \n",
       "3             0    98136  47.5208 -122.393           1360        5000   49  \n",
       "4             0    98074  47.6168 -122.045           1800        7503   28  \n",
       "\n",
       "[5 rows x 22 columns]"
      ],
      "text/html": [
       "<div>\n",
       "<style scoped>\n",
       "    .dataframe tbody tr th:only-of-type {\n",
       "        vertical-align: middle;\n",
       "    }\n",
       "\n",
       "    .dataframe tbody tr th {\n",
       "        vertical-align: top;\n",
       "    }\n",
       "\n",
       "    .dataframe thead th {\n",
       "        text-align: right;\n",
       "    }\n",
       "</style>\n",
       "<table border=\"1\" class=\"dataframe\">\n",
       "  <thead>\n",
       "    <tr style=\"text-align: right;\">\n",
       "      <th></th>\n",
       "      <th>id</th>\n",
       "      <th>date</th>\n",
       "      <th>price</th>\n",
       "      <th>bedrooms</th>\n",
       "      <th>bathrooms</th>\n",
       "      <th>sqft_living</th>\n",
       "      <th>sqft_lot</th>\n",
       "      <th>floors</th>\n",
       "      <th>waterfront</th>\n",
       "      <th>view</th>\n",
       "      <th>...</th>\n",
       "      <th>sqft_above</th>\n",
       "      <th>sqft_basement</th>\n",
       "      <th>yr_built</th>\n",
       "      <th>yr_renovated</th>\n",
       "      <th>zipcode</th>\n",
       "      <th>lat</th>\n",
       "      <th>long</th>\n",
       "      <th>sqft_living15</th>\n",
       "      <th>sqft_lot15</th>\n",
       "      <th>age</th>\n",
       "    </tr>\n",
       "  </thead>\n",
       "  <tbody>\n",
       "    <tr>\n",
       "      <th>0</th>\n",
       "      <td>7129300520</td>\n",
       "      <td>2014</td>\n",
       "      <td>221900.0</td>\n",
       "      <td>3</td>\n",
       "      <td>1.00</td>\n",
       "      <td>1180</td>\n",
       "      <td>5650</td>\n",
       "      <td>1.0</td>\n",
       "      <td>0</td>\n",
       "      <td>0</td>\n",
       "      <td>...</td>\n",
       "      <td>1180</td>\n",
       "      <td>0</td>\n",
       "      <td>1955</td>\n",
       "      <td>0</td>\n",
       "      <td>98178</td>\n",
       "      <td>47.5112</td>\n",
       "      <td>-122.257</td>\n",
       "      <td>1340</td>\n",
       "      <td>5650</td>\n",
       "      <td>59</td>\n",
       "    </tr>\n",
       "    <tr>\n",
       "      <th>1</th>\n",
       "      <td>6414100192</td>\n",
       "      <td>2014</td>\n",
       "      <td>538000.0</td>\n",
       "      <td>3</td>\n",
       "      <td>2.25</td>\n",
       "      <td>2570</td>\n",
       "      <td>7242</td>\n",
       "      <td>2.0</td>\n",
       "      <td>0</td>\n",
       "      <td>0</td>\n",
       "      <td>...</td>\n",
       "      <td>2170</td>\n",
       "      <td>400</td>\n",
       "      <td>1951</td>\n",
       "      <td>1991</td>\n",
       "      <td>98125</td>\n",
       "      <td>47.7210</td>\n",
       "      <td>-122.319</td>\n",
       "      <td>1690</td>\n",
       "      <td>7639</td>\n",
       "      <td>23</td>\n",
       "    </tr>\n",
       "    <tr>\n",
       "      <th>2</th>\n",
       "      <td>5631500400</td>\n",
       "      <td>2015</td>\n",
       "      <td>180000.0</td>\n",
       "      <td>2</td>\n",
       "      <td>1.00</td>\n",
       "      <td>770</td>\n",
       "      <td>10000</td>\n",
       "      <td>1.0</td>\n",
       "      <td>0</td>\n",
       "      <td>0</td>\n",
       "      <td>...</td>\n",
       "      <td>770</td>\n",
       "      <td>0</td>\n",
       "      <td>1933</td>\n",
       "      <td>0</td>\n",
       "      <td>98028</td>\n",
       "      <td>47.7379</td>\n",
       "      <td>-122.233</td>\n",
       "      <td>2720</td>\n",
       "      <td>8062</td>\n",
       "      <td>82</td>\n",
       "    </tr>\n",
       "    <tr>\n",
       "      <th>3</th>\n",
       "      <td>2487200875</td>\n",
       "      <td>2014</td>\n",
       "      <td>604000.0</td>\n",
       "      <td>4</td>\n",
       "      <td>3.00</td>\n",
       "      <td>1960</td>\n",
       "      <td>5000</td>\n",
       "      <td>1.0</td>\n",
       "      <td>0</td>\n",
       "      <td>0</td>\n",
       "      <td>...</td>\n",
       "      <td>1050</td>\n",
       "      <td>910</td>\n",
       "      <td>1965</td>\n",
       "      <td>0</td>\n",
       "      <td>98136</td>\n",
       "      <td>47.5208</td>\n",
       "      <td>-122.393</td>\n",
       "      <td>1360</td>\n",
       "      <td>5000</td>\n",
       "      <td>49</td>\n",
       "    </tr>\n",
       "    <tr>\n",
       "      <th>4</th>\n",
       "      <td>1954400510</td>\n",
       "      <td>2015</td>\n",
       "      <td>510000.0</td>\n",
       "      <td>3</td>\n",
       "      <td>2.00</td>\n",
       "      <td>1680</td>\n",
       "      <td>8080</td>\n",
       "      <td>1.0</td>\n",
       "      <td>0</td>\n",
       "      <td>0</td>\n",
       "      <td>...</td>\n",
       "      <td>1680</td>\n",
       "      <td>0</td>\n",
       "      <td>1987</td>\n",
       "      <td>0</td>\n",
       "      <td>98074</td>\n",
       "      <td>47.6168</td>\n",
       "      <td>-122.045</td>\n",
       "      <td>1800</td>\n",
       "      <td>7503</td>\n",
       "      <td>28</td>\n",
       "    </tr>\n",
       "  </tbody>\n",
       "</table>\n",
       "<p>5 rows × 22 columns</p>\n",
       "</div>"
      ]
     },
     "metadata": {},
     "execution_count": 263
    }
   ],
   "metadata": {}
  },
  {
   "cell_type": "code",
   "execution_count": 264,
   "source": [
    "def plot_correlation_map( df , annot=True):\r\n",
    "    corr = df.corr()\r\n",
    "    s , ax = plt.subplots( figsize = [10 , 10])\r\n",
    "    cmap = sns.diverging_palette( 10 , 220 , as_cmap = True )\r\n",
    "\r\n",
    "    mask = np.zeros_like(corr)\r\n",
    "    mask[np.triu_indices_from(mask)] = True\r\n",
    "\r\n",
    "    s = sns.heatmap(\r\n",
    "        corr, \r\n",
    "        cmap = cmap,\r\n",
    "        square=True, \r\n",
    "        cbar_kws={ 'shrink' : .9 }, \r\n",
    "        ax=ax, \r\n",
    "        annot = annot, \r\n",
    "        annot_kws = { 'fontsize' : 8 },\r\n",
    "        mask=mask\r\n",
    "        )"
   ],
   "outputs": [],
   "metadata": {}
  },
  {
   "cell_type": "code",
   "execution_count": 328,
   "source": [
    "plot_correlation_map(df, False)"
   ],
   "outputs": [
    {
     "output_type": "display_data",
     "data": {
      "text/plain": [
       "<Figure size 720x720 with 2 Axes>"
      ],
      "image/png": "[encoded data removed]"
     },
     "metadata": {
      "needs_background": "light"
     }
    }
   ],
   "metadata": {}
  },
  {
   "cell_type": "markdown",
   "source": [
    "## Feature Selection"
   ],
   "metadata": {}
  },
  {
   "cell_type": "markdown",
   "source": [
    "From the heatmap above and the prior knowledge we have about the what each feature represents, we are confident that the following features are important for the linear regression model during training.\r\n",
    "Selected features:\r\n",
    "- Sqft Living\r\n",
    "- Sqft Lot\r\n",
    "- View\r\n",
    "- Grade\r\n",
    "- Condition\r\n",
    "- Age\r\n",
    "- Sqft Living for the 15 nearby houses\r\n",
    "- Sqft lot for the 15 nearby houses\r\n",
    "\r\n",
    "It would be a great challenge to try and figure out whether the house's location (Longitude, Latitude) have any impact on the house price, however, that would require additional research on what drives realestate prices in the area which is out of the scope of this exercise."
   ],
   "metadata": {}
  },
  {
   "cell_type": "code",
   "execution_count": 293,
   "source": [
    "# Selecting features\r\n",
    "selected_features = df[[\"sqft_living\", \"sqft_lot\", \"view\", \"grade\", \"condition\", \"age\", \"sqft_living15\", \"sqft_lot15\", \"price\"]]"
   ],
   "outputs": [],
   "metadata": {}
  },
  {
   "cell_type": "markdown",
   "source": [
    "## Retraining the model"
   ],
   "metadata": {}
  },
  {
   "cell_type": "markdown",
   "source": [
    "### Linear Regression"
   ],
   "metadata": {}
  },
  {
   "cell_type": "code",
   "execution_count": 312,
   "source": [
    "lg = LinearRegression()\r\n",
    "\r\n",
    "data = selected_features\r\n",
    "# Splitting dataset into training and test\r\n",
    "# Linear Regression using house grade\r\n",
    "x_train, x_test, y_train, y_test = train_test_split(data.grade, data.price, train_size=0.70, test_size=0.30, random_state=40)\r\n",
    "\r\n",
    "lg.fit(x_train.values[:, np.newaxis], y_train.values)\r\n",
    "# Measure the performance of linear regression\r\n",
    "predicted = lg.predict(x_test.values[:, np.newaxis])\r\n",
    "\r\n",
    "print(\"MSE\", mean_squared_error(y_test, predicted))\r\n",
    "print(\"R squared\", metrics.r2_score(y_test, predicted))\r\n"
   ],
   "outputs": [
    {
     "output_type": "stream",
     "name": "stdout",
     "text": [
      "MSE 69844149619.10722\n",
      "R squared 0.4567031514856129\n"
     ]
    }
   ],
   "metadata": {}
  },
  {
   "cell_type": "code",
   "execution_count": 313,
   "source": [
    "plt.scatter(x_test,y_test,color=\"r\")\r\n",
    "plt.title(\"Expected vs Predicted House Prices\")\r\n",
    "plt.xlabel(\"Expected\")\r\n",
    "plt.ylabel(\"Predicted\")\r\n",
    "plt.plot(x_test,predicted,color=\"k\")\r\n",
    "\r\n",
    "plt.show()"
   ],
   "outputs": [
    {
     "output_type": "display_data",
     "data": {
      "text/plain": [
       "<Figure size 432x288 with 1 Axes>"
      ],
      "image/png": "[encoded data removed]"
     },
     "metadata": {
      "needs_background": "light"
     }
    }
   ],
   "metadata": {}
  },
  {
   "cell_type": "markdown",
   "source": [
    "### Multi-linear Regression"
   ],
   "metadata": {}
  },
  {
   "cell_type": "code",
   "execution_count": 323,
   "source": [
    "x_train, x_test, y_train, y_test = train_test_split(data.drop(\"price\", axis=1), data.price, test_size=0.30, random_state=40)\r\n",
    "\r\n",
    "lg.fit(x_train, y_train)\r\n",
    "# Measure the performance of linear regression\r\n",
    "predicted = lg.predict(x_test)\r\n",
    "\r\n",
    "print(\"MSE\", mean_squared_error(y_test, predicted))\r\n",
    "print(\"R squared\", metrics.r2_score(y_test, predicted))\r\n"
   ],
   "outputs": [
    {
     "output_type": "stream",
     "name": "stdout",
     "text": [
      "MSE 47988599165.83498\n",
      "R squared 0.626710972449355\n"
     ]
    }
   ],
   "metadata": {}
  },
  {
   "cell_type": "markdown",
   "source": [
    "Compared to the linear regression, by adding other features, we are getting higher R-squared values, meaning the model is fitting our data better, exactly 62.6% of data is corretly predicted."
   ],
   "metadata": {}
  },
  {
   "cell_type": "markdown",
   "source": [
    "### Polynomial Regression"
   ],
   "metadata": {}
  },
  {
   "cell_type": "code",
   "execution_count": 321,
   "source": [
    "x_train, x_test, y_train, y_test = train_test_split(data.drop(\"price\", axis=1), data.price, test_size=0.25, random_state=40)\r\n",
    "\r\n",
    "x_train = poly.fit_transform(x_train)\r\n",
    "x_test = poly.fit_transform(x_test)\r\n",
    "\r\n",
    "lg.fit(x_train, y_train)\r\n",
    "predicted = lg.predict(x_test)\r\n",
    "\r\n",
    "\r\n",
    "print(\"MSE\", mean_squared_error(y_test, predicted))\r\n",
    "print(\"R squared\", metrics.r2_score(y_test, predicted))"
   ],
   "outputs": [
    {
     "output_type": "stream",
     "name": "stdout",
     "text": [
      "MSE 37940780688.80938\n",
      "R squared 0.701647196099034\n"
     ]
    }
   ],
   "metadata": {}
  },
  {
   "cell_type": "markdown",
   "source": [
    "We notice that using polynomial regression yields better results, the model correctly predicts 70% of the prices correctly."
   ],
   "metadata": {}
  }
 ],
 "metadata": {
  "orig_nbformat": 4,
  "language_info": {
   "name": "python",
   "version": "3.8.5",
   "mimetype": "text/x-python",
   "codemirror_mode": {
    "name": "ipython",
    "version": 3
   },
   "pygments_lexer": "ipython3",
   "nbconvert_exporter": "python",
   "file_extension": ".py"
  },
  "kernelspec": {
   "name": "python3",
   "display_name": "Python 3.8.5 64-bit"
  },
  "interpreter": {
   "hash": "d373a6adc26a229c2c7b2016ce264c6636cd7db4cb097b04765bf225c02b830d"
  }
 },
 "nbformat": 4,
 "nbformat_minor": 2
}