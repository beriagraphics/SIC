{
 "cells": [
  {
   "cell_type": "markdown",
   "source": [
    "## Quiz #0402"
   ],
   "metadata": {}
  },
  {
   "cell_type": "markdown",
   "source": [
    "### \"OLS solution\""
   ],
   "metadata": {}
  },
  {
   "cell_type": "code",
   "execution_count": 1,
   "source": [
    "import numpy as np\r\n",
    "import pandas as pd"
   ],
   "outputs": [],
   "metadata": {}
  },
  {
   "cell_type": "markdown",
   "source": [
    "#### Answer the following question by providing Python code:\n",
    "<br>\n",
    "study = an array that contains the hours of study. This is the explanatory variable. <br>\n",
    "score = an array that contains the test scores. This is the response variable."
   ],
   "metadata": {}
  },
  {
   "cell_type": "code",
   "execution_count": 2,
   "source": [
    "study = np.array([ 3, 4.5, 6, 1.2, 2, 6.9, 6.7, 5.5]).reshape(-1,1)\r\n",
    "score = np.array([ 88, 85, 90, 80, 81, 92, 95, 90]).reshape(-1,1)"
   ],
   "outputs": [],
   "metadata": {}
  },
  {
   "cell_type": "markdown",
   "source": [
    "1). Define the 'linerRegression' class to match the output shown below:"
   ],
   "metadata": {}
  },
  {
   "cell_type": "code",
   "execution_count": 18,
   "source": [
    "from sklearn.linear_model import LinearRegression\r\n",
    "class linearRegression:\r\n",
    "    def __init__(self):\r\n",
    "      # <Your code goes in here>\r\n",
    "      self.a = 0\r\n",
    "      self.b = 0\r\n",
    "      self.error = 0\r\n",
    "        \r\n",
    "    def train(self, input_X, input_Y):\r\n",
    "      # <Your code goes in here>\r\n",
    "      # score[0] = a*study[0] + b\r\n",
    "      n = len(input_X)\r\n",
    "      mean_X = np.mean(input_X)\r\n",
    "      mean_Y = np.mean(input_Y)\r\n",
    "\r\n",
    "      SSxy = np.sum(input_X*input_Y) - n*mean_X*mean_Y\r\n",
    "      SSxx = np.sum(input_X**2) - n*(mean_X**2)\r\n",
    "\r\n",
    "      self.a = SSxy / SSxx\r\n",
    "      self.b = mean_Y - self.a*mean_X\r\n",
    "      Y_pred = self.a*input_X + self.b\r\n",
    "\r\n",
    "      self.error = 1 - sum(pow(Y_pred - input_Y, 2))/sum(pow(input_Y - mean_Y, 2))\r\n",
    "      \r\n",
    "\r\n",
    "    def output(self):\r\n",
    "      # <Your code goes in here>\r\n",
    "      print(\"           Coefficient\")\r\n",
    "      print(\"Intercept\\t%15f\" % self.b)\r\n",
    "      print(\"X1\\t%15f\" % self.a)\r\n",
    "      print(\"------------------------------\")\r\n",
    "      print(\"R^2 : %f\" % self.error)"
   ],
   "outputs": [],
   "metadata": {}
  },
  {
   "cell_type": "markdown",
   "source": [
    "**Sample run:**"
   ],
   "metadata": {}
  },
  {
   "cell_type": "code",
   "execution_count": 4,
   "source": [
    "LR = linearRegression()                    # Create a linear regression object.\r\n",
    "LR.train(study, score)                     # Train.\r\n",
    "LR.output()                                # Display the training result."
   ],
   "outputs": [
    {
     "output_type": "stream",
     "name": "stdout",
     "text": [
      "           Coefficient\n",
      "Intercept    77.684670\n",
      "X1            2.221303\n",
      "------------------------------\n",
      "R^2 : 0.845842\n"
     ]
    }
   ],
   "metadata": {}
  },
  {
   "cell_type": "code",
   "execution_count": 19,
   "source": [
    "LR = linearRegression()                    # Create a linear regression object.\r\n",
    "LR.train(study, score)                     # Train.\r\n",
    "LR.output()                                # Display the training result."
   ],
   "outputs": [
    {
     "output_type": "stream",
     "name": "stdout",
     "text": [
      "           Coefficient\n",
      "Intercept\t      77.684670\n",
      "X1\t       2.221303\n",
      "------------------------------\n",
      "R^2 : 0.845842\n"
     ]
    }
   ],
   "metadata": {}
  }
 ],
 "metadata": {
  "kernelspec": {
   "name": "python3",
   "display_name": "Python 3.8.5 64-bit (system)"
  },
  "language_info": {
   "codemirror_mode": {
    "name": "ipython",
    "version": 3
   },
   "file_extension": ".py",
   "mimetype": "text/x-python",
   "name": "python",
   "nbconvert_exporter": "python",
   "pygments_lexer": "ipython3",
   "version": "3.8.5"
  },
  "toc": {
   "base_numbering": 1,
   "nav_menu": {},
   "number_sections": true,
   "sideBar": true,
   "skip_h1_title": false,
   "title_cell": "Table of Contents",
   "title_sidebar": "Contents",
   "toc_cell": false,
   "toc_position": {},
   "toc_section_display": true,
   "toc_window_display": false
  },
  "varInspector": {
   "cols": {
    "lenName": 16,
    "lenType": 16,
    "lenVar": 40
   },
   "kernels_config": {
    "python": {
     "delete_cmd_postfix": "",
     "delete_cmd_prefix": "del ",
     "library": "var_list.py",
     "varRefreshCmd": "print(var_dic_list())"
    },
    "r": {
     "delete_cmd_postfix": ") ",
     "delete_cmd_prefix": "rm(",
     "library": "var_list.r",
     "varRefreshCmd": "cat(var_dic_list()) "
    }
   },
   "types_to_exclude": [
    "module",
    "function",
    "builtin_function_or_method",
    "instance",
    "_Feature"
   ],
   "window_display": false
  },
  "interpreter": {
   "hash": "d373a6adc26a229c2c7b2016ce264c6636cd7db4cb097b04765bf225c02b830d"
  }
 },
 "nbformat": 4,
 "nbformat_minor": 2
}