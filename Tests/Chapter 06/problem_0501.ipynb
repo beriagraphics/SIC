{
 "cells": [
  {
   "cell_type": "markdown",
   "source": [
    "## Quiz #0501"
   ],
   "metadata": {}
  },
  {
   "cell_type": "markdown",
   "source": [
    "### \"Logistic Regression and Gradient Descent Algorithm\""
   ],
   "metadata": {}
  },
  {
   "cell_type": "markdown",
   "source": [
    "#### Answer the following questions by providing Python code:\n",
    "#### Objectives:\n",
    "- Code a logistic regression class using only the NumPy library.\n",
    "- Implement in Python the Sigmoid function.\n",
    "- Implement in Python the Gradient of the logarithmic likelihood.\n",
    "- Implement in Python the Gradient Descent Algorithm."
   ],
   "metadata": {}
  },
  {
   "cell_type": "code",
   "execution_count": 31,
   "source": [
    "import numpy as np\r\n",
    "import pandas as pd\r\n",
    "from sklearn.datasets import load_breast_cancer\r\n",
    "from sklearn.model_selection import train_test_split"
   ],
   "outputs": [],
   "metadata": {}
  },
  {
   "cell_type": "markdown",
   "source": [
    "#### Read in data:"
   ],
   "metadata": {}
  },
  {
   "cell_type": "code",
   "execution_count": 32,
   "source": [
    "# Load data.\r\n",
    "data = load_breast_cancer()\r\n",
    "# Explanatory variables.\r\n",
    "X = data['data']\r\n",
    "# Relabel such that 0 = 'benign' and 1 = malignant.\r\n",
    "Y = 1 - data['target']"
   ],
   "outputs": [],
   "metadata": {}
  },
  {
   "cell_type": "code",
   "execution_count": 33,
   "source": [
    "# Split the dataset into training and testing.\r\n",
    "X_train, X_test, Y_train, Y_test = train_test_split(X, Y, test_size=0.4, random_state=1234)"
   ],
   "outputs": [],
   "metadata": {}
  },
  {
   "cell_type": "code",
   "execution_count": 34,
   "source": [
    "X_train.shape"
   ],
   "outputs": [
    {
     "output_type": "execute_result",
     "data": {
      "text/plain": [
       "(341, 30)"
      ]
     },
     "metadata": {},
     "execution_count": 34
    }
   ],
   "metadata": {}
  },
  {
   "cell_type": "markdown",
   "source": [
    "1). Define the 'sigmoid' and 'gradient' functions to produce the output shown below:"
   ],
   "metadata": {}
  },
  {
   "cell_type": "code",
   "execution_count": 35,
   "source": [
    "def sigmoid(x):\r\n",
    "  s = 1 / (1 + np.exp(-x))\r\n",
    "  return s\r\n",
    "\r\n",
    "def gradient(X, Y, beta):\r\n",
    "  N = X.shape[0]\r\n",
    "  Y_pred = sigmoid(np.dot(X,beta))\r\n",
    "  db = (1 / N)*(np.dot(X.T,Y_pred-Y))\r\n",
    "    \r\n",
    "  return db"
   ],
   "outputs": [],
   "metadata": {}
  },
  {
   "cell_type": "markdown",
   "source": [
    "2). Define the 'LogisticRegression' class to produce the output shown below:"
   ],
   "metadata": {}
  },
  {
   "cell_type": "code",
   "execution_count": 36,
   "source": [
    "class LogisticRegression:\r\n",
    "    def __init__(self, learn_rate):\r\n",
    "        self.learn_rate = learn_rate\r\n",
    "        self.beta = None\r\n",
    "        \r\n",
    "    def train(self, input_X, input_Y, n_epochs):\r\n",
    "      ones = np.ones((input_X.shape[0],1))\r\n",
    "      X = np.concatenate((input_X,ones),axis=1)\r\n",
    "      \r\n",
    "      self.beta = np.ones(X.shape[1])\r\n",
    "      \r\n",
    "      for e in range(n_epochs):\r\n",
    "        self.beta = self.beta - self.learn_rate * gradient(X,input_Y,self.beta)\r\n",
    "    \r\n",
    "    def query(self, input_X, prob=True, cutoff=0.5):\r\n",
    "      ones = np.ones((input_X.shape[0],1))\r\n",
    "      X = np.concatenate((input_X,ones), axis=1)\r\n",
    "      Y_pred = sigmoid(np.dot(X,self.beta))\r\n",
    "\r\n",
    "      Y_pred = list(map(lambda x: 1 if x> 0.5 else 0, Y_pred))\r\n",
    "      return np.array(Y_pred)"
   ],
   "outputs": [],
   "metadata": {}
  },
  {
   "cell_type": "markdown",
   "source": [
    "#### Sample run:"
   ],
   "metadata": {}
  },
  {
   "cell_type": "code",
   "execution_count": 37,
   "source": [
    "# Hyperparameter for the learner.\r\n",
    "learning_rate = 0.001"
   ],
   "outputs": [],
   "metadata": {}
  },
  {
   "cell_type": "code",
   "execution_count": 38,
   "source": [
    "# Train and predict.\r\n",
    "LR = LogisticRegression(learning_rate)\r\n",
    "LR.train(X_train, Y_train, 2000)\r\n",
    "Y_pred = LR.query(X_test,prob=False,cutoff=0.5)"
   ],
   "outputs": [
    {
     "output_type": "stream",
     "name": "stderr",
     "text": [
      "<ipython-input-35-2cafe7a88df3>:2: RuntimeWarning: overflow encountered in exp\n",
      "  s = 1 / (1 + np.exp(-x))\n"
     ]
    }
   ],
   "metadata": {}
  },
  {
   "cell_type": "code",
   "execution_count": 39,
   "source": [
    "# Display the accuracy.\r\n",
    "acc = (Y_pred == Y_test).mean()\r\n",
    "print('Accuracy : {}'.format(np.round(acc,3)))"
   ],
   "outputs": [
    {
     "output_type": "stream",
     "name": "stdout",
     "text": [
      "Accuracy : 0.917\n"
     ]
    }
   ],
   "metadata": {}
  }
 ],
 "metadata": {
  "kernelspec": {
   "name": "python3",
   "display_name": "Python 3.8.5 64-bit (system)"
  },
  "language_info": {
   "codemirror_mode": {
    "name": "ipython",
    "version": 3
   },
   "file_extension": ".py",
   "mimetype": "text/x-python",
   "name": "python",
   "nbconvert_exporter": "python",
   "pygments_lexer": "ipython3",
   "version": "3.8.5"
  },
  "toc": {
   "base_numbering": 1,
   "nav_menu": {},
   "number_sections": true,
   "sideBar": true,
   "skip_h1_title": false,
   "title_cell": "Table of Contents",
   "title_sidebar": "Contents",
   "toc_cell": false,
   "toc_position": {},
   "toc_section_display": true,
   "toc_window_display": false
  },
  "varInspector": {
   "cols": {
    "lenName": 16,
    "lenType": 16,
    "lenVar": 40
   },
   "kernels_config": {
    "python": {
     "delete_cmd_postfix": "",
     "delete_cmd_prefix": "del ",
     "library": "var_list.py",
     "varRefreshCmd": "print(var_dic_list())"
    },
    "r": {
     "delete_cmd_postfix": ") ",
     "delete_cmd_prefix": "rm(",
     "library": "var_list.r",
     "varRefreshCmd": "cat(var_dic_list()) "
    }
   },
   "types_to_exclude": [
    "module",
    "function",
    "builtin_function_or_method",
    "instance",
    "_Feature"
   ],
   "window_display": false
  },
  "interpreter": {
   "hash": "d373a6adc26a229c2c7b2016ce264c6636cd7db4cb097b04765bf225c02b830d"
  }
 },
 "nbformat": 4,
 "nbformat_minor": 2
}