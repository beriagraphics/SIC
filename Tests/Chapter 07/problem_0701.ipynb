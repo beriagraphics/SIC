{
 "cells": [
  {
   "cell_type": "markdown",
   "source": [
    "## Quiz #0701"
   ],
   "metadata": {}
  },
  {
   "cell_type": "markdown",
   "source": [
    "### \"TensorFlow machine learning with Calilfornia housing data\""
   ],
   "metadata": {}
  },
  {
   "cell_type": "code",
   "execution_count": 79,
   "source": [
    "import numpy as np\r\n",
    "import pandas as pd\r\n",
    "import seaborn as sns\r\n",
    "from sklearn.datasets import fetch_california_housing\r\n",
    "from sklearn.model_selection import train_test_split\r\n",
    "from sklearn.preprocessing import scale\r\n",
    "import matplotlib.pyplot as plt\r\n",
    "import tensorflow as tf\r\n",
    "import warnings\r\n",
    "%matplotlib inline\r\n",
    "warnings.filterwarnings('ignore')    # Turn the warnings off.\r\n",
    "tf.compat.v1.disable_eager_execution()\r\n"
   ],
   "outputs": [],
   "metadata": {}
  },
  {
   "cell_type": "markdown",
   "source": [
    "#### Answer the following question by providing Python code:"
   ],
   "metadata": {}
  },
  {
   "cell_type": "code",
   "execution_count": 80,
   "source": [
    "# Bring the data.\r\n",
    "housing_data = fetch_california_housing()"
   ],
   "outputs": [],
   "metadata": {}
  },
  {
   "cell_type": "code",
   "execution_count": 81,
   "source": [
    "# Read the description.\r\n",
    "print(housing_data['DESCR'])"
   ],
   "outputs": [
    {
     "output_type": "stream",
     "name": "stdout",
     "text": [
      ".. _california_housing_dataset:\n",
      "\n",
      "California Housing dataset\n",
      "--------------------------\n",
      "\n",
      "**Data Set Characteristics:**\n",
      "\n",
      "    :Number of Instances: 20640\n",
      "\n",
      "    :Number of Attributes: 8 numeric, predictive attributes and the target\n",
      "\n",
      "    :Attribute Information:\n",
      "        - MedInc        median income in block\n",
      "        - HouseAge      median house age in block\n",
      "        - AveRooms      average number of rooms\n",
      "        - AveBedrms     average number of bedrooms\n",
      "        - Population    block population\n",
      "        - AveOccup      average house occupancy\n",
      "        - Latitude      house block latitude\n",
      "        - Longitude     house block longitude\n",
      "\n",
      "    :Missing Attribute Values: None\n",
      "\n",
      "This dataset was obtained from the StatLib repository.\n",
      "http://lib.stat.cmu.edu/datasets/\n",
      "\n",
      "The target variable is the median house value for California districts.\n",
      "\n",
      "This dataset was derived from the 1990 U.S. census, using one row per census\n",
      "block group. A block group is the smallest geographical unit for which the U.S.\n",
      "Census Bureau publishes sample data (a block group typically has a population\n",
      "of 600 to 3,000 people).\n",
      "\n",
      "It can be downloaded/loaded using the\n",
      ":func:`sklearn.datasets.fetch_california_housing` function.\n",
      "\n",
      ".. topic:: References\n",
      "\n",
      "    - Pace, R. Kelley and Ronald Barry, Sparse Spatial Autoregressions,\n",
      "      Statistics and Probability Letters, 33 (1997) 291-297\n",
      "\n"
     ]
    }
   ],
   "metadata": {}
  },
  {
   "cell_type": "markdown",
   "source": [
    "1). Explore the data:\n",
    "- Display the dataset as a DataFrame with column labels."
   ],
   "metadata": {}
  },
  {
   "cell_type": "code",
   "execution_count": 82,
   "source": [
    "data = housing_data.data\r\n",
    "data_labels = housing_data.feature_names\r\n",
    "\r\n",
    "target = housing_data.target\r\n",
    "target_label = housing_data.target_names\r\n",
    "\r\n",
    "housing = pd.DataFrame(data=np.hstack((data, target.reshape(-1, 1))), columns=[data_labels+target_label][0])"
   ],
   "outputs": [],
   "metadata": {}
  },
  {
   "cell_type": "code",
   "execution_count": 83,
   "source": [
    "housing.head()"
   ],
   "outputs": [
    {
     "output_type": "execute_result",
     "data": {
      "text/plain": [
       "   MedInc  HouseAge  AveRooms  AveBedrms  Population  AveOccup  Latitude  \\\n",
       "0  8.3252      41.0  6.984127   1.023810       322.0  2.555556     37.88   \n",
       "1  8.3014      21.0  6.238137   0.971880      2401.0  2.109842     37.86   \n",
       "2  7.2574      52.0  8.288136   1.073446       496.0  2.802260     37.85   \n",
       "3  5.6431      52.0  5.817352   1.073059       558.0  2.547945     37.85   \n",
       "4  3.8462      52.0  6.281853   1.081081       565.0  2.181467     37.85   \n",
       "\n",
       "   Longitude  MedHouseVal  \n",
       "0    -122.23        4.526  \n",
       "1    -122.22        3.585  \n",
       "2    -122.24        3.521  \n",
       "3    -122.25        3.413  \n",
       "4    -122.25        3.422  "
      ],
      "text/html": [
       "<div>\n",
       "<style scoped>\n",
       "    .dataframe tbody tr th:only-of-type {\n",
       "        vertical-align: middle;\n",
       "    }\n",
       "\n",
       "    .dataframe tbody tr th {\n",
       "        vertical-align: top;\n",
       "    }\n",
       "\n",
       "    .dataframe thead th {\n",
       "        text-align: right;\n",
       "    }\n",
       "</style>\n",
       "<table border=\"1\" class=\"dataframe\">\n",
       "  <thead>\n",
       "    <tr style=\"text-align: right;\">\n",
       "      <th></th>\n",
       "      <th>MedInc</th>\n",
       "      <th>HouseAge</th>\n",
       "      <th>AveRooms</th>\n",
       "      <th>AveBedrms</th>\n",
       "      <th>Population</th>\n",
       "      <th>AveOccup</th>\n",
       "      <th>Latitude</th>\n",
       "      <th>Longitude</th>\n",
       "      <th>MedHouseVal</th>\n",
       "    </tr>\n",
       "  </thead>\n",
       "  <tbody>\n",
       "    <tr>\n",
       "      <th>0</th>\n",
       "      <td>8.3252</td>\n",
       "      <td>41.0</td>\n",
       "      <td>6.984127</td>\n",
       "      <td>1.023810</td>\n",
       "      <td>322.0</td>\n",
       "      <td>2.555556</td>\n",
       "      <td>37.88</td>\n",
       "      <td>-122.23</td>\n",
       "      <td>4.526</td>\n",
       "    </tr>\n",
       "    <tr>\n",
       "      <th>1</th>\n",
       "      <td>8.3014</td>\n",
       "      <td>21.0</td>\n",
       "      <td>6.238137</td>\n",
       "      <td>0.971880</td>\n",
       "      <td>2401.0</td>\n",
       "      <td>2.109842</td>\n",
       "      <td>37.86</td>\n",
       "      <td>-122.22</td>\n",
       "      <td>3.585</td>\n",
       "    </tr>\n",
       "    <tr>\n",
       "      <th>2</th>\n",
       "      <td>7.2574</td>\n",
       "      <td>52.0</td>\n",
       "      <td>8.288136</td>\n",
       "      <td>1.073446</td>\n",
       "      <td>496.0</td>\n",
       "      <td>2.802260</td>\n",
       "      <td>37.85</td>\n",
       "      <td>-122.24</td>\n",
       "      <td>3.521</td>\n",
       "    </tr>\n",
       "    <tr>\n",
       "      <th>3</th>\n",
       "      <td>5.6431</td>\n",
       "      <td>52.0</td>\n",
       "      <td>5.817352</td>\n",
       "      <td>1.073059</td>\n",
       "      <td>558.0</td>\n",
       "      <td>2.547945</td>\n",
       "      <td>37.85</td>\n",
       "      <td>-122.25</td>\n",
       "      <td>3.413</td>\n",
       "    </tr>\n",
       "    <tr>\n",
       "      <th>4</th>\n",
       "      <td>3.8462</td>\n",
       "      <td>52.0</td>\n",
       "      <td>6.281853</td>\n",
       "      <td>1.081081</td>\n",
       "      <td>565.0</td>\n",
       "      <td>2.181467</td>\n",
       "      <td>37.85</td>\n",
       "      <td>-122.25</td>\n",
       "      <td>3.422</td>\n",
       "    </tr>\n",
       "  </tbody>\n",
       "</table>\n",
       "</div>"
      ]
     },
     "metadata": {},
     "execution_count": 83
    }
   ],
   "metadata": {}
  },
  {
   "cell_type": "markdown",
   "source": [
    "2). Build a machine learning model with TensorFlow. \n",
    "- Preprocess the data if necessary.\n",
    "- Build a linear regression model.\n",
    "- Train the model.\n",
    "- Calculate the error metrics such as MSE and RMSE (in-sample and out-of-sample). Target: RMSE < 1."
   ],
   "metadata": {}
  },
  {
   "cell_type": "markdown",
   "source": [
    "## Preprocessing"
   ],
   "metadata": {}
  },
  {
   "cell_type": "code",
   "execution_count": 84,
   "source": [
    "# with tf.device(\"/GPU:1\"):\r\n",
    "#     plt.figure(figsize=(15,15))\r\n",
    "#     f = pd.melt(housing)\r\n",
    "#     facet = sns.FacetGrid(f, col_wrap=5, col=\"variable\", sharex=False, sharey=False)\r\n",
    "#     facet = facet.map(sns.histplot, \"value\", kde=False)\r\n",
    "#     plt.show()"
   ],
   "outputs": [],
   "metadata": {}
  },
  {
   "cell_type": "code",
   "execution_count": 85,
   "source": [
    "# scaling the numerical feautures\r\n",
    "categorical_features = [\"AveRooms\", \"AveBedrms\", \"AveOccup\"]\r\n",
    "numerical_features = [feature for feature in housing.columns if feature not in categorical_features]\r\n",
    "\r\n",
    "housing_numerical = housing[numerical_features[:-1]]\r\n",
    "housing_categorical = housing[categorical_features]\r\n",
    "\r\n",
    "housing_numerical = scale(housing_numerical)\r\n",
    "X = np.hstack((housing_numerical, housing_categorical))\r\n",
    "Y = housing.MedHouseVal.values\r\n",
    "# X = scale(housing.drop(\"MedHouseVal\", axis=1).values)"
   ],
   "outputs": [],
   "metadata": {}
  },
  {
   "cell_type": "code",
   "execution_count": 86,
   "source": [
    "X.shape, Y.shape"
   ],
   "outputs": [
    {
     "output_type": "execute_result",
     "data": {
      "text/plain": [
       "((20640, 8), (20640,))"
      ]
     },
     "metadata": {},
     "execution_count": 86
    }
   ],
   "metadata": {}
  },
  {
   "cell_type": "code",
   "execution_count": 87,
   "source": [
    "# Splitting Dataset\r\n",
    "X_train, X_test, Y_train, Y_test = train_test_split(X, Y, test_size=0.2, random_state=123)\r\n",
    "X_test, X_val, Y_test, Y_val = train_test_split(X_test, Y_test, test_size=0.5, random_state=123)"
   ],
   "outputs": [],
   "metadata": {}
  },
  {
   "cell_type": "code",
   "execution_count": 88,
   "source": [
    "X_train.shape, X_test.shape"
   ],
   "outputs": [
    {
     "output_type": "execute_result",
     "data": {
      "text/plain": [
       "((16512, 8), (2064, 8))"
      ]
     },
     "metadata": {},
     "execution_count": 88
    }
   ],
   "metadata": {}
  },
  {
   "cell_type": "markdown",
   "source": [
    "## Building the Linear Regression Model"
   ],
   "metadata": {}
  },
  {
   "cell_type": "code",
   "execution_count": 89,
   "source": [
    "learn_rate = .001\r\n",
    "epochs = 3000\r\n",
    "\r\n",
    "\r\n",
    "W = tf.Variable(initial_value=tf.ones((X.shape[1],1)))                # Initial value of the weights = 1.\r\n",
    "b = tf.Variable(1.)                                                         # Initial value of the bias = 1.\r\n",
    "\r\n",
    "X_ph = tf.compat.v1.placeholder(tf.float32)\r\n",
    "Y_ph= tf.compat.v1.placeholder(tf.float32)\r\n",
    "\r\n",
    "y_model = tf.matmul(X_ph, W) + b\r\n",
    "\r\n",
    "loss  = tf.reduce_mean(tf.keras.losses.mean_squared_error(Y_ph, y_model))        # Loss = Mean Squared Error. \r\n"
   ],
   "outputs": [],
   "metadata": {}
  },
  {
   "cell_type": "markdown",
   "source": [
    "### Training"
   ],
   "metadata": {}
  },
  {
   "cell_type": "code",
   "execution_count": 90,
   "source": [
    "optimizer = tf.compat.v1.train.GradientDescentOptimizer(learning_rate=learn_rate)\r\n",
    "train = optimizer.minimize(loss)                 # Define training.\r\n",
    "init = tf.compat.v1.global_variables_initializer()                # Define Variable initialization.\r\n",
    "\r\n",
    "with tf.device(\"/GPU:0\"):\r\n",
    "   with tf.compat.v1.Session() as sess:\r\n",
    "      # Initializing Variables\r\n",
    "      sess.run(init)\r\n",
    "      \r\n",
    "      \r\n",
    "      # Training\r\n",
    "      feed = {X_ph:X_train, Y_ph:Y_train}                        # Prepare feed data as a dictionary. \r\n",
    "      \r\n",
    "      # mse=sess.run(loss, feed_dict=feed)\r\n",
    "      # print(mse)\r\n",
    "      \r\n",
    "      for i in range(epochs):\r\n",
    "         # run training \r\n",
    "         sess.run(train, feed_dict=feed)\r\n",
    "         \r\n",
    "         if (i + 1) % 1000 == 0:\r\n",
    "            print(\"Epoch %d\" % (i + 1))\r\n",
    "            # break\r\n",
    "         \r\n",
    "      \r\n",
    "      W_model, b_model = sess.run([W, b])                   # Get the final values of the Variables.\r\n",
    "\r\n",
    "      # Calculating Losses\r\n",
    "      mse_value_train = sess.run(loss, feed_dict = feed)            # Calculate the in-sample MSE (training)\r\n",
    "      mse_value_val = sess.run(loss, feed_dict = {X_ph:X_val, Y_ph:Y_val})            # Calculate the out-sample MSE (validation)\r\n",
    "      mse_value_test = sess.run(loss, feed_dict = {X_ph:X_test, Y_ph:Y_test})            # Calculate the out-sample MSE (testing)"
   ],
   "outputs": [
    {
     "output_type": "stream",
     "name": "stdout",
     "text": [
      "Epoch 1000\n"
     ]
    }
   ],
   "metadata": {}
  },
  {
   "cell_type": "markdown",
   "source": [
    "### Metrics"
   ],
   "metadata": {}
  },
  {
   "cell_type": "code",
   "execution_count": null,
   "source": [
    "print(\"Parameters W = {} , b = {:5.3f}\".format(W_model, b_model))"
   ],
   "outputs": [
    {
     "output_type": "stream",
     "name": "stdout",
     "text": [
      "Parameters W = [[ 0.84170204]\n",
      " [ 0.92132336]\n",
      " [ 0.87797683]\n",
      " [ 1.0062131 ]\n",
      " [ 0.9897581 ]\n",
      " [ 0.00824249]\n",
      " [ 0.82788754]\n",
      " [-0.0026664 ]] , b = 0.896\n"
     ]
    }
   ],
   "metadata": {}
  },
  {
   "cell_type": "code",
   "execution_count": null,
   "source": [
    "print(\"Training\\n------------------------------\")\r\n",
    "print(\"MSE  = {:5.3f} | RMSE = {:5.3f}\".format(mse_value_train, np.sqrt(mse_value_train)))\r\n",
    "print(\"Validation\\n------------------------------\")\r\n",
    "print(\"MSE  = {:5.3f} | RMSE = {:5.3f}\".format(mse_value_val, np.sqrt(mse_value_val)))\r\n"
   ],
   "outputs": [
    {
     "output_type": "stream",
     "name": "stdout",
     "text": [
      "Training\n",
      "------------------------------\n",
      "MSE  = 2.940 | RMSE = 1.715\n",
      "Validation\n",
      "------------------------------\n",
      "MSE  = 3.133 | RMSE = 1.770\n"
     ]
    }
   ],
   "metadata": {}
  },
  {
   "cell_type": "code",
   "execution_count": null,
   "source": [
    "print(\"Testing\\n-------------------------------\")\r\n",
    "print(\"MSE  = {:5.3f} | RMSE = {:5.3f}\".format(mse_value_test, np.sqrt(mse_value_test)))"
   ],
   "outputs": [
    {
     "output_type": "stream",
     "name": "stdout",
     "text": [
      "Testing\n",
      "-------------------------------\n",
      "MSE  = 2.766 | RMSE = 1.663\n"
     ]
    }
   ],
   "metadata": {}
  }
 ],
 "metadata": {
  "kernelspec": {
   "name": "python3",
   "display_name": "Python 3.8.5 64-bit (system)"
  },
  "language_info": {
   "codemirror_mode": {
    "name": "ipython",
    "version": 3
   },
   "file_extension": ".py",
   "mimetype": "text/x-python",
   "name": "python",
   "nbconvert_exporter": "python",
   "pygments_lexer": "ipython3",
   "version": "3.8.5"
  },
  "toc": {
   "base_numbering": 1,
   "nav_menu": {},
   "number_sections": true,
   "sideBar": true,
   "skip_h1_title": false,
   "title_cell": "Table of Contents",
   "title_sidebar": "Contents",
   "toc_cell": false,
   "toc_position": {},
   "toc_section_display": true,
   "toc_window_display": false
  },
  "varInspector": {
   "cols": {
    "lenName": 16,
    "lenType": 16,
    "lenVar": 40
   },
   "kernels_config": {
    "python": {
     "delete_cmd_postfix": "",
     "delete_cmd_prefix": "del ",
     "library": "var_list.py",
     "varRefreshCmd": "print(var_dic_list())"
    },
    "r": {
     "delete_cmd_postfix": ") ",
     "delete_cmd_prefix": "rm(",
     "library": "var_list.r",
     "varRefreshCmd": "cat(var_dic_list()) "
    }
   },
   "types_to_exclude": [
    "module",
    "function",
    "builtin_function_or_method",
    "instance",
    "_Feature"
   ],
   "window_display": false
  },
  "interpreter": {
   "hash": "d373a6adc26a229c2c7b2016ce264c6636cd7db4cb097b04765bf225c02b830d"
  }
 },
 "nbformat": 4,
 "nbformat_minor": 2
}