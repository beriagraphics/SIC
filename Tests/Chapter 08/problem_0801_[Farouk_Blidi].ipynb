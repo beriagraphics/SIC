{
  "nbformat": 4,
  "nbformat_minor": 0,
  "metadata": {
    "kernelspec": {
      "name": "python3",
      "display_name": "Python 3.8.5 64-bit (system)"
    },
    "language_info": {
      "codemirror_mode": {
        "name": "ipython",
        "version": 3
      },
      "file_extension": ".py",
      "mimetype": "text/x-python",
      "name": "python",
      "nbconvert_exporter": "python",
      "pygments_lexer": "ipython3",
      "version": "3.8.5"
    },
    "toc": {
      "base_numbering": 1,
      "nav_menu": {},
      "number_sections": true,
      "sideBar": true,
      "skip_h1_title": false,
      "title_cell": "Table of Contents",
      "title_sidebar": "Contents",
      "toc_cell": false,
      "toc_position": {},
      "toc_section_display": true,
      "toc_window_display": false
    },
    "varInspector": {
      "cols": {
        "lenName": 16,
        "lenType": 16,
        "lenVar": 40
      },
      "kernels_config": {
        "python": {
          "delete_cmd_postfix": "",
          "delete_cmd_prefix": "del ",
          "library": "var_list.py",
          "varRefreshCmd": "print(var_dic_list())"
        },
        "r": {
          "delete_cmd_postfix": ") ",
          "delete_cmd_prefix": "rm(",
          "library": "var_list.r",
          "varRefreshCmd": "cat(var_dic_list()) "
        }
      },
      "types_to_exclude": [
        "module",
        "function",
        "builtin_function_or_method",
        "instance",
        "_Feature"
      ],
      "window_display": false
    },
    "colab": {
      "name": "problem_0801 [Farouk Blidi].ipynb",
      "provenance": [],
      "collapsed_sections": []
    },
    "accelerator": "GPU",
    "interpreter": {
      "hash": "d373a6adc26a229c2c7b2016ce264c6636cd7db4cb097b04765bf225c02b830d"
    }
  },
  "cells": [
    {
      "cell_type": "markdown",
      "metadata": {
        "id": "CRjM95e_qVYe"
      },
      "source": [
        "## Quiz #0801"
      ]
    },
    {
      "cell_type": "markdown",
      "metadata": {
        "id": "cF3LCRfyqVYr"
      },
      "source": [
        "### \"Text Classification with Keras\""
      ]
    },
    {
      "cell_type": "code",
      "metadata": {
        "id": "9ys-Oc3jqVYt"
      },
      "source": [
        "import numpy as np\n",
        "import pandas as pd\n",
        "import re\n",
        "import nltk\n",
        "import os\n",
        "import seaborn as sns\n",
        "import matplotlib.pyplot as plt\n",
        "from nltk.corpus import stopwords\n",
        "from sklearn.datasets import load_files\n",
        "from sklearn.model_selection import train_test_split\n",
        "from keras.models import Sequential\n",
        "from keras.layers import Dense, SimpleRNN, LSTM, Embedding, SpatialDropout1D, Conv1D, MaxPooling1D, GlobalMaxPooling1D, Dropout\n",
        "from keras.preprocessing.sequence import pad_sequences\n",
        "from keras.callbacks import EarlyStopping, ModelCheckpoint\n",
        "from tensorflow.keras.utils import to_categorical\n",
        "from keras.preprocessing import sequence\n",
        "from tensorflow.keras.optimizers import Adam, RMSprop, SGD\n",
        "from sklearn.metrics import confusion_matrix, accuracy_score\n",
        "from keras.preprocessing.text import Tokenizer\n",
        "\n",
        "\n",
        "#nltk.download('stopwords')"
      ],
      "execution_count": 74,
      "outputs": []
    },
    {
      "cell_type": "markdown",
      "metadata": {
        "id": "AxMB64s5qVYw"
      },
      "source": [
        "#### Answer the following question by providing Python code:"
      ]
    },
    {
      "cell_type": "markdown",
      "metadata": {
        "id": "iTTly1TkqVYy"
      },
      "source": [
        "1). Read in the movie review data from Cornell CS department. Carry out the EDA. <br>\n",
        "- The data can be found [here](https://www.cs.cornell.edu/people/pabo/movie-review-data). <br>\n",
        "- Download the “polarity dataset” and unzip. <br>\n",
        "- Under the \"txt_sentoken” folder, there are “pos” and “neg\" subfolders. <br>"
      ]
    },
    {
      "cell_type": "code",
      "metadata": {
        "colab": {
          "base_uri": "https://localhost:8080/"
        },
        "id": "5nSWAOBGqVY0",
        "outputId": "4ccfd0d0-3a53-4173-f30b-16f81210a65b"
      },
      "source": [
        "from google.colab import drive\n",
        "drive.mount('/content/gdrive') # You can either use your drive or work directly on colab with temporary import"
      ],
      "execution_count": 2,
      "outputs": [
        {
          "output_type": "stream",
          "name": "stdout",
          "text": [
            "Mounted at /content/gdrive\n"
          ]
        }
      ]
    },
    {
      "cell_type": "code",
      "metadata": {
        "id": "86I5W9UMqZQG"
      },
      "source": [
        "# Specify the folder and read in the subfolders.\n",
        "reviews = load_files('/content/gdrive/My Drive/Colab Notebooks/Chapter 08/txt_sentoken/') # Colabs\n",
        "# reviews = load_files('txt_sentoken/')   # Offline\n",
        "my_docs, y = reviews.data, reviews.target"
      ],
      "execution_count": 3,
      "outputs": []
    },
    {
      "cell_type": "code",
      "metadata": {
        "id": "kqFovYMrrRk-",
        "colab": {
          "base_uri": "https://localhost:8080/"
        },
        "outputId": "617f31a8-45df-475d-80f4-c0e92e7e641d"
      },
      "source": [
        "my_docs[0]"
      ],
      "execution_count": 4,
      "outputs": [
        {
          "output_type": "execute_result",
          "data": {
            "text/plain": [
              "b\"arnold schwarzenegger has been an icon for action enthusiasts , since the late 80's , but lately his films have been very sloppy and the one-liners are getting worse . \\r\\nit's hard seeing arnold as mr . freeze in batman and robin , especially when he says tons of ice jokes , but hey he got 15 million , what's it matter to him ? \\r\\nonce again arnold has signed to do another expensive blockbuster , that can't compare with the likes of the terminator series , true lies and even eraser . \\r\\nin this so called dark thriller , the devil ( gabriel byrne ) has come upon earth , to impregnate a woman ( robin tunney ) which happens every 1000 years , and basically destroy the world , but apparently god has chosen one man , and that one man is jericho cane ( arnold himself ) . \\r\\nwith the help of a trusty sidekick ( kevin pollack ) , they will stop at nothing to let the devil take over the world ! \\r\\nparts of this are actually so absurd , that they would fit right in with dogma . \\r\\nyes , the film is that weak , but it's better than the other blockbuster right now ( sleepy hollow ) , but it makes the world is not enough look like a 4 star film . \\r\\nanyway , this definitely doesn't seem like an arnold movie . \\r\\nit just wasn't the type of film you can see him doing . \\r\\nsure he gave us a few chuckles with his well known one-liners , but he seemed confused as to where his character and the film was going . \\r\\nit's understandable , especially when the ending had to be changed according to some sources . \\r\\naside form that , he still walked through it , much like he has in the past few films . \\r\\ni'm sorry to say this arnold but maybe these are the end of your action days . \\r\\nspeaking of action , where was it in this film ? \\r\\nthere was hardly any explosions or fights . \\r\\nthe devil made a few places explode , but arnold wasn't kicking some devil butt . \\r\\nthe ending was changed to make it more spiritual , which undoubtedly ruined the film . \\r\\ni was at least hoping for a cool ending if nothing else occurred , but once again i was let down . \\r\\ni also don't know why the film took so long and cost so much . \\r\\nthere was really no super affects at all , unless you consider an invisible devil , who was in it for 5 minutes tops , worth the overpriced budget . \\r\\nthe budget should have gone into a better script , where at least audiences could be somewhat entertained instead of facing boredom . \\r\\nit's pitiful to see how scripts like these get bought and made into a movie . \\r\\ndo they even read these things anymore ? \\r\\nit sure doesn't seem like it . \\r\\nthankfully gabriel's performance gave some light to this poor film . \\r\\nwhen he walks down the street searching for robin tunney , you can't help but feel that he looked like a devil . \\r\\nthe guy is creepy looking anyway ! \\r\\nwhen it's all over , you're just glad it's the end of the movie . \\r\\ndon't bother to see this , if you're expecting a solid action flick , because it's neither solid nor does it have action . \\r\\nit's just another movie that we are suckered in to seeing , due to a strategic marketing campaign . \\r\\nsave your money and see the world is not enough for an entertaining experience . \\r\\n\""
            ]
          },
          "metadata": {},
          "execution_count": 4
        }
      ]
    },
    {
      "cell_type": "markdown",
      "metadata": {
        "id": "xROumlptqVY2"
      },
      "source": [
        "2). Carry out the data preprocessing: <br>\n",
        "- Cleaning.\n",
        "- Stopword removal."
      ]
    },
    {
      "cell_type": "code",
      "metadata": {
        "colab": {
          "base_uri": "https://localhost:8080/"
        },
        "id": "Kv49gTLmMvAF",
        "outputId": "0aec807f-ca27-4720-9dea-e026362b080a"
      },
      "source": [
        "nltk.download(\"stopwords\")\n",
        "nltk.download(\"english\")\n",
        "nltk.download(\"punkt\")"
      ],
      "execution_count": 26,
      "outputs": [
        {
          "output_type": "stream",
          "name": "stdout",
          "text": [
            "[nltk_data] Downloading package stopwords to /root/nltk_data...\n",
            "[nltk_data]   Package stopwords is already up-to-date!\n",
            "[nltk_data] Error loading english: Package 'english' not found in\n",
            "[nltk_data]     index\n",
            "[nltk_data] Downloading package punkt to /root/nltk_data...\n",
            "[nltk_data]   Unzipping tokenizers/punkt.zip.\n"
          ]
        },
        {
          "output_type": "execute_result",
          "data": {
            "text/plain": [
              "True"
            ]
          },
          "metadata": {},
          "execution_count": 26
        }
      ]
    },
    {
      "cell_type": "code",
      "metadata": {
        "id": "_1jna9QCqVY3"
      },
      "source": [
        "def cleantxt(txt):\n",
        "    stpw = stopwords.words('english')\n",
        "    \n",
        "    # Adding custom stop-words\n",
        "    stpw = set(stpw)\n",
        "    \n",
        "\n",
        "    # using regex to clean the text\n",
        "    txt = re.sub(r\"\\n\", \" \", txt)\n",
        "    txt = re.sub(\"[\\<\\[].*?[\\>\\]]\", \" \", txt)\n",
        "    txt = txt.lower()\n",
        "    txt = re.sub(r\"[^a-z ]\", \" \", txt)\n",
        "    txt = re.sub(r\"\\b\\w{1,3}\\b\", \" \",txt)\n",
        "    txt = re.sub(r'\\s+',' ',txt)\n",
        "    txt = \" \".join([x for x in txt.split() if x not in stpw])\n",
        "    return txt\n",
        "\n",
        "# Cleaning text\n",
        "my_docs = [doc.decode('utf-8') for doc in my_docs]\n",
        "my_docs_cleaned = list(map(lambda x: cleantxt(x), my_docs))"
      ],
      "execution_count": 10,
      "outputs": []
    },
    {
      "cell_type": "code",
      "metadata": {
        "id": "0M5lNyZVqVY6",
        "colab": {
          "base_uri": "https://localhost:8080/",
          "height": 154
        },
        "outputId": "0fecd36b-02c3-4c37-ee65-c4c8796b8a90"
      },
      "source": [
        "my_docs_cleaned[0]"
      ],
      "execution_count": 100,
      "outputs": [
        {
          "output_type": "execute_result",
          "data": {
            "application/vnd.google.colaboratory.intrinsic+json": {
              "type": "string"
            },
            "text/plain": [
              "'arnold schwarzenegger icon action enthusiasts since late lately films sloppy liners getting worse hard seeing arnold freeze batman robin especially says tons jokes million matter arnold signed another expensive blockbuster compare likes terminator series true lies even eraser called dark thriller devil gabriel byrne come upon earth impregnate woman robin tunney happens every years basically destroy world apparently chosen jericho cane arnold help trusty sidekick kevin pollack stop nothing devil take world parts actually absurd would right dogma film weak better blockbuster right sleepy hollow makes world enough look like star film anyway definitely seem like arnold movie type film sure gave chuckles well known liners seemed confused character film going understandable especially ending changed according sources aside form still walked much like past films sorry arnold maybe action days speaking action film hardly explosions fights devil made places explode arnold kicking devil butt ending changed make spiritual undoubtedly ruined film least hoping cool ending nothing else occurred also know film took long cost much really super affects unless consider invisible devil minutes tops worth overpriced budget budget gone better script least audiences could somewhat entertained instead facing boredom pitiful scripts like bought made movie even read things anymore sure seem like thankfully gabriel performance gave light poor film walks street searching robin tunney help feel looked like devil creepy looking anyway glad movie bother expecting solid action flick neither solid action another movie suckered seeing strategic marketing campaign save money world enough entertaining experience'"
            ]
          },
          "metadata": {},
          "execution_count": 100
        }
      ]
    },
    {
      "cell_type": "markdown",
      "metadata": {
        "id": "DAT_a5rFqVY4"
      },
      "source": [
        "3). Carry out label encoding by integers (required form by Keras):"
      ]
    },
    {
      "cell_type": "code",
      "metadata": {
        "colab": {
          "base_uri": "https://localhost:8080/"
        },
        "id": "0_EvTiUmKQq6",
        "outputId": "24a15fdd-474e-45d8-ff64-70689abb256b"
      },
      "source": [
        "MAX_NB_WORDS = 50000\n",
        "\n",
        "# Max number of words in each complaint.\n",
        "MAX_SEQUENCE_LENGTH = 250\n",
        "\n",
        "EMBEDDING_DIM = 100\n",
        "\n",
        "tokenizer = Tokenizer(num_words=MAX_NB_WORDS)\n",
        "tokenizer.fit_on_texts(my_docs_cleaned)\n",
        "word_index = tokenizer.word_index\n",
        "print('Found %s unique tokens.' % len(word_index))"
      ],
      "execution_count": 230,
      "outputs": [
        {
          "output_type": "stream",
          "name": "stdout",
          "text": [
            "Found 37556 unique tokens.\n"
          ]
        }
      ]
    },
    {
      "cell_type": "markdown",
      "metadata": {
        "id": "JOT4LWNHqVY7"
      },
      "source": [
        "4). Prepare the data for AI: <br>\n",
        "- Apply the padding.\n",
        "- Split the data into training and testing."
      ]
    },
    {
      "cell_type": "code",
      "metadata": {
        "colab": {
          "base_uri": "https://localhost:8080/"
        },
        "id": "xzuP-lTuKQq-",
        "outputId": "caf9c4f9-e9da-4da9-f8bf-9f6e8b2efe36"
      },
      "source": [
        "np.unique(y, return_counts=True)"
      ],
      "execution_count": 231,
      "outputs": [
        {
          "output_type": "execute_result",
          "data": {
            "text/plain": [
              "(array([0, 1]), array([1000, 1000]))"
            ]
          },
          "metadata": {},
          "execution_count": 231
        }
      ]
    },
    {
      "cell_type": "code",
      "metadata": {
        "colab": {
          "base_uri": "https://localhost:8080/"
        },
        "id": "Bs8UNiTIKQrA",
        "outputId": "253734a8-0da4-4a16-c708-1226396ff013"
      },
      "source": [
        "X = tokenizer.texts_to_sequences(my_docs_cleaned)#list of integers\n",
        "X = pad_sequences(X, maxlen=MAX_SEQUENCE_LENGTH) #padding\n",
        "print('Shape of data tensor:', X.shape)\n",
        "\n",
        "labels = np.unique(y)\n",
        "Y = y.reshape(-1, 1)\n",
        "print('Shape of label tensor:', Y.shape)"
      ],
      "execution_count": 232,
      "outputs": [
        {
          "output_type": "stream",
          "name": "stdout",
          "text": [
            "Shape of data tensor: (2000, 250)\n",
            "Shape of label tensor: (2000, 1)\n"
          ]
        }
      ]
    },
    {
      "cell_type": "code",
      "metadata": {
        "id": "0bmhzaWNqVY8",
        "colab": {
          "base_uri": "https://localhost:8080/"
        },
        "outputId": "4eee2e57-4e8e-44d7-f3cb-271f89644656"
      },
      "source": [
        "X_train, X_test, Y_train, Y_test = train_test_split(X, Y, test_size=.2, random_state=123, shuffle=True)\n",
        "print(X_train.shape,Y_train.shape)\n",
        "print(X_test.shape,Y_test.shape)"
      ],
      "execution_count": 233,
      "outputs": [
        {
          "output_type": "stream",
          "name": "stdout",
          "text": [
            "(1600, 250) (1600, 1)\n",
            "(400, 250) (400, 1)\n"
          ]
        }
      ]
    },
    {
      "cell_type": "markdown",
      "metadata": {
        "id": "cDkdKg4JqVY8"
      },
      "source": [
        "5). Define the AI model (Embedding + LSTM):"
      ]
    },
    {
      "cell_type": "code",
      "metadata": {
        "id": "rZPLjhupqVY9",
        "colab": {
          "base_uri": "https://localhost:8080/"
        },
        "outputId": "bf2909f2-a8bc-458c-edcd-a055ee79512d"
      },
      "source": [
        "# Code Here\n",
        "model = Sequential([\n",
        "        Embedding(MAX_NB_WORDS, EMBEDDING_DIM, input_length=X.shape[1]),\n",
        "        SpatialDropout1D(0.2),\n",
        "        LSTM(100, dropout=0.2, recurrent_dropout=0.2, recurrent_activation=\"sigmoid\"),\n",
        "        Dense(Y.shape[1], activation='sigmoid')\n",
        "    ], name=\"Toxic_Complaint_Classifier\")\n",
        "\n",
        "print(model.summary())"
      ],
      "execution_count": 234,
      "outputs": [
        {
          "output_type": "stream",
          "name": "stdout",
          "text": [
            "WARNING:tensorflow:Layer lstm_30 will not use cuDNN kernels since it doesn't meet the criteria. It will use a generic GPU kernel as fallback when running on GPU.\n",
            "Model: \"Toxic_Complaint_Classifier\"\n",
            "_________________________________________________________________\n",
            "Layer (type)                 Output Shape              Param #   \n",
            "=================================================================\n",
            "embedding_34 (Embedding)     (None, 250, 100)          5000000   \n",
            "_________________________________________________________________\n",
            "spatial_dropout1d_33 (Spatia (None, 250, 100)          0         \n",
            "_________________________________________________________________\n",
            "lstm_30 (LSTM)               (None, 100)               80400     \n",
            "_________________________________________________________________\n",
            "dense_41 (Dense)             (None, 1)                 101       \n",
            "=================================================================\n",
            "Total params: 5,080,501\n",
            "Trainable params: 5,080,501\n",
            "Non-trainable params: 0\n",
            "_________________________________________________________________\n",
            "None\n"
          ]
        }
      ]
    },
    {
      "cell_type": "markdown",
      "metadata": {
        "id": "uREYAq_yqVY9"
      },
      "source": [
        "6). Define the optimizer and compile the model:"
      ]
    },
    {
      "cell_type": "code",
      "metadata": {
        "id": "AiRqfSfjqVY-"
      },
      "source": [
        "model.compile(loss=\"binary_crossentropy\", optimizer='adam', metrics=['accuracy'])\n"
      ],
      "execution_count": 235,
      "outputs": []
    },
    {
      "cell_type": "markdown",
      "metadata": {
        "id": "ibyfstLqqVY-"
      },
      "source": [
        "7). Train the model and visualize the summary:"
      ]
    },
    {
      "cell_type": "code",
      "metadata": {
        "colab": {
          "base_uri": "https://localhost:8080/"
        },
        "id": "K8nlkzkSNBA2",
        "outputId": "c3ddb477-1144-4902-bc0e-66546d11b4e8"
      },
      "source": [
        "!nvidia-smi"
      ],
      "execution_count": 236,
      "outputs": [
        {
          "output_type": "stream",
          "name": "stdout",
          "text": [
            "Thu Sep  2 12:49:00 2021       \n",
            "+-----------------------------------------------------------------------------+\n",
            "| NVIDIA-SMI 470.57.02    Driver Version: 460.32.03    CUDA Version: 11.2     |\n",
            "|-------------------------------+----------------------+----------------------+\n",
            "| GPU  Name        Persistence-M| Bus-Id        Disp.A | Volatile Uncorr. ECC |\n",
            "| Fan  Temp  Perf  Pwr:Usage/Cap|         Memory-Usage | GPU-Util  Compute M. |\n",
            "|                               |                      |               MIG M. |\n",
            "|===============================+======================+======================|\n",
            "|   0  Tesla K80           Off  | 00000000:00:04.0 Off |                    0 |\n",
            "| N/A   71C    P0    73W / 149W |   1778MiB / 11441MiB |      0%      Default |\n",
            "|                               |                      |                  N/A |\n",
            "+-------------------------------+----------------------+----------------------+\n",
            "                                                                               \n",
            "+-----------------------------------------------------------------------------+\n",
            "| Processes:                                                                  |\n",
            "|  GPU   GI   CI        PID   Type   Process name                  GPU Memory |\n",
            "|        ID   ID                                                   Usage      |\n",
            "|=============================================================================|\n",
            "|  No running processes found                                                 |\n",
            "+-----------------------------------------------------------------------------+\n"
          ]
        }
      ]
    },
    {
      "cell_type": "code",
      "metadata": {
        "id": "2g4BPRRPYt5C"
      },
      "source": [
        "mcp_save = ModelCheckpoint('/content/gdrive/My Drive/Colab Notebooks/Chapter 08/best_model.hdf5', save_best_only=True, monitor='val_loss', mode='min')\n",
        "early_stp = EarlyStopping(monitor='val_loss', patience=3, min_delta=0.0001)"
      ],
      "execution_count": 237,
      "outputs": []
    },
    {
      "cell_type": "code",
      "metadata": {
        "id": "JNdo5VGUqVY_",
        "colab": {
          "base_uri": "https://localhost:8080/"
        },
        "outputId": "af7e6a0f-d2de-4161-8ccf-637692306233"
      },
      "source": [
        "epochs = 5\n",
        "batch_size = 32\n",
        "# import tensorflow as tf\n",
        "# with tf.device(\"/GPU:0\"): # offline\n",
        "history = model.fit(X_train, Y_train, epochs=epochs, batch_size=batch_size,validation_split=0.1,callbacks=[early_stp, mcp_save])"
      ],
      "execution_count": 238,
      "outputs": [
        {
          "output_type": "stream",
          "name": "stdout",
          "text": [
            "Epoch 1/5\n",
            "45/45 [==============================] - 30s 606ms/step - loss: 0.6782 - accuracy: 0.5507 - val_loss: 0.5390 - val_accuracy: 0.7937\n",
            "Epoch 2/5\n",
            "45/45 [==============================] - 27s 605ms/step - loss: 0.3280 - accuracy: 0.8847 - val_loss: 0.5348 - val_accuracy: 0.7125\n",
            "Epoch 3/5\n",
            "45/45 [==============================] - 27s 593ms/step - loss: 0.1394 - accuracy: 0.9604 - val_loss: 0.5083 - val_accuracy: 0.8250\n",
            "Epoch 4/5\n",
            "45/45 [==============================] - 27s 591ms/step - loss: 0.0185 - accuracy: 0.9965 - val_loss: 0.5270 - val_accuracy: 0.8125\n",
            "Epoch 5/5\n",
            "45/45 [==============================] - 26s 584ms/step - loss: 0.0053 - accuracy: 0.9993 - val_loss: 0.6427 - val_accuracy: 0.8062\n"
          ]
        }
      ]
    },
    {
      "cell_type": "code",
      "metadata": {
        "colab": {
          "base_uri": "https://localhost:8080/",
          "height": 295
        },
        "id": "6PhmtVIOeOQK",
        "outputId": "28bb11b3-6749-495d-b87d-14ce77b91583"
      },
      "source": [
        "train_accuracy = history.history[\"accuracy\"]\n",
        "validation_accuracy = history.history[\"val_accuracy\"]\n",
        "count = range(len(train_accuracy))\n",
        "\n",
        "train_loss = history.history[\"loss\"]\n",
        "plt.plot(count, train_accuracy, label='Training accuracy')\n",
        "plt.plot(count, validation_accuracy, label='Validation accuracy')\n",
        "plt.xlabel(\"Epoch\")\n",
        "plt.ylabel(\"Accuracy\")\n",
        "plt.legend()\n",
        "plt.show()"
      ],
      "execution_count": 239,
      "outputs": [
        {
          "output_type": "display_data",
          "data": {
            "image/png": "[encoded data removed]",
            "text/plain": [
              "<Figure size 432x288 with 1 Axes>"
            ]
          },
          "metadata": {}
        }
      ]
    },
    {
      "cell_type": "markdown",
      "metadata": {
        "id": "dEvlgDOrqVY_"
      },
      "source": [
        "8). Display the test result (accuracy):"
      ]
    },
    {
      "cell_type": "code",
      "metadata": {
        "id": "4lM6QHhDKQrI"
      },
      "source": [
        "Y_pred = model.predict(X_test)"
      ],
      "execution_count": 240,
      "outputs": []
    },
    {
      "cell_type": "code",
      "metadata": {
        "id": "rJyrkbnJKQrK"
      },
      "source": [
        "predicted_classes = np.array([0 if x < 0.5 else 1 for x in Y_pred])\n",
        "expected_classes = Y_test"
      ],
      "execution_count": 241,
      "outputs": []
    },
    {
      "cell_type": "code",
      "metadata": {
        "colab": {
          "base_uri": "https://localhost:8080/"
        },
        "id": "cqE8v8aFNPUK",
        "outputId": "5efaeb57-9dff-4248-8237-4ceedd89ce17"
      },
      "source": [
        "Y_test.shape, predicted_classes.shape"
      ],
      "execution_count": 242,
      "outputs": [
        {
          "output_type": "execute_result",
          "data": {
            "text/plain": [
              "((400, 1), (400,))"
            ]
          },
          "metadata": {},
          "execution_count": 242
        }
      ]
    },
    {
      "cell_type": "code",
      "metadata": {
        "id": "meufM5jmqVY_",
        "colab": {
          "base_uri": "https://localhost:8080/"
        },
        "outputId": "6b1482fc-927f-45bc-aea5-d073c12ed5af"
      },
      "source": [
        "score = model.evaluate(Y_test,predicted_classes)\n",
        "print('Test set\\n  Loss: {:0.2f}\\n  Accuracy: {:0.2f}'.format(score[0], accuracy_score(expected_classes, predicted_classes)))"
      ],
      "execution_count": 243,
      "outputs": [
        {
          "output_type": "stream",
          "name": "stdout",
          "text": [
            "WARNING:tensorflow:Model was constructed with shape (None, 250) for input KerasTensor(type_spec=TensorSpec(shape=(None, 250), dtype=tf.float32, name='embedding_34_input'), name='embedding_34_input', description=\"created by layer 'embedding_34_input'\"), but it was called on an input with incompatible shape (None, 1).\n",
            "13/13 [==============================] - 0s 4ms/step - loss: 0.6514 - accuracy: 0.8525\n",
            "Test set\n",
            "  Loss: 0.65\n",
            "  Accuracy: 0.85\n"
          ]
        }
      ]
    },
    {
      "cell_type": "code",
      "metadata": {
        "colab": {
          "base_uri": "https://localhost:8080/",
          "height": 512
        },
        "id": "s9sazYJoKQrO",
        "outputId": "102fabcd-10af-4f56-c271-ec228e2e3f7d"
      },
      "source": [
        "cm = confusion_matrix(expected_classes, predicted_classes)\n",
        "plt.figure(figsize=(18,8))\n",
        "sns.set(font_scale=1.4) \n",
        "sns.heatmap(cm, annot=True, annot_kws={\"size\": 16}, fmt='d',linewidths=0.5, xticklabels=labels, yticklabels=labels) \n",
        "plt.xlabel('Predicted')\n",
        "plt.ylabel('True')\n",
        "plt.show()"
      ],
      "execution_count": 244,
      "outputs": [
        {
          "output_type": "display_data",
          "data": {
            "image/png": "[encoded data removed]",
            "text/plain": [
              "<Figure size 1296x576 with 2 Axes>"
            ]
          },
          "metadata": {}
        }
      ]
    }
  ]
}