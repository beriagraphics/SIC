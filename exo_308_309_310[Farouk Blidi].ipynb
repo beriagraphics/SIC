{
 "cells": [
  {
   "cell_type": "markdown",
   "source": [
    "# Hypothesis Test of the Means:\n"
   ],
   "metadata": {}
  },
  {
   "cell_type": "markdown",
   "source": [
    "some points to keep in mind about p-value and hypothesis testing in general: \r\n",
    "\r\n",
    "• **The interpretation of the p-value :** \r\n",
    "\r\n",
    "it represents the prob of having a sample mean greater then the null value of H0 or, from  n random samples, given that the H0 is true  ( a conditionned probability ) \r\n",
    "In other words \r\n",
    "        P-value = P(extreme events in favor to alternative hypothesis  | H0 is true ) \r\n",
    "\r\n",
    "\r\n",
    "\r\n",
    "• High P-values: Your sample results are consistent with a true null hypothesis. <br>\r\n",
    "• Low P-values: Your sample results are not consistent with a null hypothesis. <br>\r\n",
    "\r\n",
    "• The significance level, also denoted as alpha or α, is the probability of rejecting the null  hypothesis when it is true\r\n",
    "\r\n",
    "\r\n",
    "• Type 1 error : reject the H0 when the latter is true <br>\r\n",
    "• Type 2 error : accept the H0 when the latter is false , in other words , we keep the H0 when we shouldn't <br>\r\n",
    "\r\n",
    "\r\n",
    "• Type 1 error expressed with propability : \r\n",
    "  P-value = P(typ1 error |H0 is true ) = alpha \r\n",
    "  Increasing alpha -> increase error rate of making a type I error rate!\r\n",
    "\r\n",
    "\r\n",
    "\r\n",
    "• **Goal of Increasing alpha (increase type 1 error) :** when we don't  want to fail to reject the H0 when the latter is false <br>\r\n",
    "• **Goal of reducing alpha :** when we want to reject the H0 ONLY if we have STRONG evidence  favoring the Ha.\r\n",
    "\r\n"
   ],
   "metadata": {},
   "attachments": {}
  },
  {
   "cell_type": "markdown",
   "source": [
    "## One sample t-test:"
   ],
   "metadata": {}
  },
  {
   "cell_type": "code",
   "execution_count": 1,
   "source": [
    "import numpy as np\r\n",
    "import scipy.stats as st"
   ],
   "outputs": [],
   "metadata": {
    "ExecuteTime": {
     "end_time": "2021-07-25T18:25:32.326332Z",
     "start_time": "2021-07-25T18:25:27.953078Z"
    }
   }
  },
  {
   "cell_type": "markdown",
   "source": [
    "**Two-side test**"
   ],
   "metadata": {}
  },
  {
   "cell_type": "markdown",
   "source": [
    "Question 1 : the goal of this exercice is to simulate one sample x with normal distribution\r\n",
    "\r\n",
    "- step 1 : create n=10 random values using `np.random.randn` , note that this instruction returns z scores of standard normal\r\n",
    "- step 2 : do the inverse transform to get x from these z scores using mu=3 and sigma=2 ( hint : use the forumla of z score ) and store the result in variable x\r\n",
    "$\\begin{equation}\r\n",
    " z= \\frac{x-\\mu}{\\sigma}\r\n",
    "\\end{equation}$\r\n",
    "\r\n",
    "\r\n",
    "- step 3 : we wish to test if the null hypothesis with a **two-side alternative hypothesis** , run the following and interpret the result , knowing that mu_0 is the mean of the null hypothesis \r\n",
    "\r\n",
    "``` \r\n",
    "mu_0 = 0\r\n",
    "st.ttest_1samp(x, mu_0)\r\n",
    "\r\n",
    "```\r\n",
    "\r\n",
    "- step 4 : forumate the associated null hypothesis $H_{0}$ and alternative hypothesis $H_{a}$\r\n"
   ],
   "metadata": {}
  },
  {
   "cell_type": "code",
   "execution_count": 2,
   "source": [
    "#don't delete this line \r\n",
    "np.random.seed(1234)\r\n",
    "n = 10\r\n",
    "z = np.random.randn(n)\r\n",
    "\r\n",
    "mu,sigma = 3,2\r\n",
    "x = z*(sigma) + mu\r\n",
    "\r\n",
    "#3\r\n",
    "mu_0 = 0\r\n",
    "ttest, p_value = st.ttest_1samp(x, mu_0)\r\n",
    "print(\"P-value = %.3f\" % (p_value))\r\n",
    "\r\n",
    "#4\r\n",
    "# H0: mean of the population is mu_0\r\n",
    "# Ha: mean of population is different than mu_0\r\n",
    "# 95% confidence\r\n",
    "# alpha = 5%\r\n",
    "\r\n",
    "alpha = 0.05\r\n",
    "if p_value < alpha/2:\r\n",
    "    print(\"We are rejecting the null hypothesis\")\r\n",
    "else:\r\n",
    "    print(\"We are accepting the null hypothesis\")"
   ],
   "outputs": [
    {
     "output_type": "stream",
     "name": "stdout",
     "text": [
      "P-value = 0.004\n",
      "We are rejecting the null hypothesis\n"
     ]
    }
   ],
   "metadata": {
    "ExecuteTime": {
     "end_time": "2021-07-25T19:15:32.852494Z",
     "start_time": "2021-07-25T19:15:32.833506Z"
    }
   }
  },
  {
   "cell_type": "markdown",
   "source": [
    "Question 2 : now that you know how to use `st.ttest_1samp` , use the forumlas that you learnt during the course to get the same results , here's the step to follow : \r\n",
    "\r\n",
    "- step 1 : calculate the `mean` and the `standard error` $SE$ \r\n",
    "- step 2 : calculate the t-score using the following forumla :\r\n",
    "\r\n",
    "\r\n",
    "$\\begin{equation}\r\n",
    "  t = \\frac{x-\\bar{x} }{ \\frac{S}{\\sqrt{n} } }\r\n",
    "\\end{equation}$\r\n",
    "\r\n",
    "- step 3 : calculate the probability of `p-value` using `st.t.cdf` , remember that p-value = $2*P(X>tscore)$ \r\n",
    "  \r\n",
    "\r\n"
   ],
   "metadata": {
    "ExecuteTime": {
     "end_time": "2021-07-25T18:38:15.948466Z",
     "start_time": "2021-07-25T18:38:15.930459Z"
    }
   }
  },
  {
   "cell_type": "code",
   "execution_count": 3,
   "source": [
    "mean = x.mean()\r\n",
    "SE = x.std(ddof=1)/np.sqrt(n)\r\n",
    "\r\n",
    "def ttest_onesample(mu_0, alternative=\"two-side\"):\r\n",
    "    t = (mean - mu_0)/(SE)\r\n",
    "    \r\n",
    "    # Left tail  \r\n",
    "    if alternative == \"greater\":\r\n",
    "        p_value = 1-st.t.cdf(t, df=n-1)\r\n",
    "        significance_level = alpha\r\n",
    "    \r\n",
    "    # Right tail  \r\n",
    "    elif alternative == \"less\":\r\n",
    "        p_value = st.t.cdf(t, df=n-1)\r\n",
    "        significance_level = alpha\r\n",
    "    \r\n",
    "    # Two-side tail  \r\n",
    "    else:\r\n",
    "        p_value = 2*(1-st.t.cdf(t, df=n-1))\r\n",
    "        significance_level = alpha/2\r\n",
    "\r\n",
    "\r\n",
    "    print(\"P-value = %.6f\" % (p_value))\r\n",
    "    if p_value < significance_level:\r\n",
    "        print(\"We are rejecting the null hypothesis\")\r\n",
    "    else:\r\n",
    "        print(\"We are accepting the null hypothesis\")\r\n",
    "\r\n",
    "mu_0 = 0\r\n",
    "ttest_onesample(mu_0)"
   ],
   "outputs": [
    {
     "output_type": "stream",
     "name": "stdout",
     "text": [
      "P-value = 0.003799\n",
      "We are rejecting the null hypothesis\n"
     ]
    }
   ],
   "metadata": {
    "ExecuteTime": {
     "end_time": "2021-07-25T18:26:01.769742Z",
     "start_time": "2021-07-25T18:26:01.702473Z"
    }
   }
  },
  {
   "cell_type": "markdown",
   "source": [
    "Question 3: same as the above but with `mu_0 = 1` , `mu_0 = 2` \r\n"
   ],
   "metadata": {
    "ExecuteTime": {
     "end_time": "2021-07-25T19:21:00.580984Z",
     "start_time": "2021-07-25T19:21:00.559997Z"
    }
   }
  },
  {
   "cell_type": "code",
   "execution_count": 4,
   "source": [
    "mu_0 = 1\r\n",
    "ttest_onesample(mu_0)"
   ],
   "outputs": [
    {
     "output_type": "stream",
     "name": "stdout",
     "text": [
      "P-value = 0.037230\n",
      "We are accepting the null hypothesis\n"
     ]
    }
   ],
   "metadata": {}
  },
  {
   "cell_type": "code",
   "execution_count": 5,
   "source": [
    "mu_0 = 2\r\n",
    "ttest_onesample(mu_0)"
   ],
   "outputs": [
    {
     "output_type": "stream",
     "name": "stdout",
     "text": [
      "P-value = 0.336067\n",
      "We are accepting the null hypothesis\n"
     ]
    }
   ],
   "metadata": {}
  },
  {
   "cell_type": "markdown",
   "source": [
    "**right-tail test**"
   ],
   "metadata": {
    "ExecuteTime": {
     "end_time": "2021-07-25T18:26:34.824710Z",
     "start_time": "2021-07-25T18:26:34.816736Z"
    }
   }
  },
  {
   "cell_type": "markdown",
   "source": [
    "Question 4 : everything remain the same , except that the p-value is calculated differently , since : \n",
    "\n",
    " p-value = $P(X>tscore)$ \n",
    "\n",
    "\n",
    "calculate the p-value with mu_0= 0 , mu_0= 1 , mu_0= 2 "
   ],
   "metadata": {}
  },
  {
   "cell_type": "code",
   "execution_count": 6,
   "source": [
    "mu_0 = 0\r\n",
    "ttest_onesample(mu_0, \"greater\")"
   ],
   "outputs": [
    {
     "output_type": "stream",
     "name": "stdout",
     "text": [
      "P-value = 0.001900\n",
      "We are rejecting the null hypothesis\n"
     ]
    }
   ],
   "metadata": {}
  },
  {
   "cell_type": "code",
   "execution_count": 7,
   "source": [
    "mu_0 = 1\r\n",
    "ttest_onesample(mu_0, \"greater\")\r\n",
    "\r\n"
   ],
   "outputs": [
    {
     "output_type": "stream",
     "name": "stdout",
     "text": [
      "P-value = 0.018615\n",
      "We are rejecting the null hypothesis\n"
     ]
    }
   ],
   "metadata": {}
  },
  {
   "cell_type": "code",
   "execution_count": 8,
   "source": [
    "mu_0 = 2\r\n",
    "ttest_onesample(mu_0, \"greater\")"
   ],
   "outputs": [
    {
     "output_type": "stream",
     "name": "stdout",
     "text": [
      "P-value = 0.168034\n",
      "We are accepting the null hypothesis\n"
     ]
    }
   ],
   "metadata": {}
  },
  {
   "cell_type": "markdown",
   "source": [
    "**left-tail test**"
   ],
   "metadata": {}
  },
  {
   "cell_type": "markdown",
   "source": [
    "Question 5 : everything remain the same , except that the p-value is calculated differently , since : \n",
    "\n",
    " p-value = $P(X<tscore)$ \n",
    "\n",
    "\n",
    "calculate the p-value with mu_0= 0 , mu_0= 1 , mu_0= 2 "
   ],
   "metadata": {}
  },
  {
   "cell_type": "code",
   "execution_count": 9,
   "source": [
    "mu_0 = 0\r\n",
    "ttest_onesample(mu_0, \"less\")"
   ],
   "outputs": [
    {
     "output_type": "stream",
     "name": "stdout",
     "text": [
      "P-value = 0.998100\n",
      "We are accepting the null hypothesis\n"
     ]
    }
   ],
   "metadata": {}
  },
  {
   "cell_type": "code",
   "execution_count": 10,
   "source": [
    "mu_0 = 1\r\n",
    "ttest_onesample(mu_0, \"less\")"
   ],
   "outputs": [
    {
     "output_type": "stream",
     "name": "stdout",
     "text": [
      "P-value = 0.981385\n",
      "We are accepting the null hypothesis\n"
     ]
    }
   ],
   "metadata": {}
  },
  {
   "cell_type": "code",
   "execution_count": 11,
   "source": [
    "mu_0 = 2\r\n",
    "ttest_onesample(mu_0, \"less\")"
   ],
   "outputs": [
    {
     "output_type": "stream",
     "name": "stdout",
     "text": [
      "P-value = 0.831966\n",
      "We are accepting the null hypothesis\n"
     ]
    }
   ],
   "metadata": {}
  },
  {
   "cell_type": "markdown",
   "source": [
    "## independent two sample t-test"
   ],
   "metadata": {
    "heading_collapsed": true
   }
  },
  {
   "cell_type": "markdown",
   "source": [
    "Question 6 : just like you created your samples in the first question , follow the same steps in order to create x1 and x2 that have the following propreties :\n",
    "\n",
    "x1 (sample 1 ) : n1 = 10 , mu1 = 3 , sigma1 = 2\n",
    "\n",
    "x2 (sample 2) :  n2 = 20 , mu2 = 5 , sigma2 = 3"
   ],
   "metadata": {
    "hidden": true
   }
  },
  {
   "cell_type": "code",
   "execution_count": 12,
   "source": [
    "#make sure to name your variables x1 and x2\r\n",
    "n1, mu1, sigma1 = 1000, 3, 2\r\n",
    "n2, mu2, sigma2 = 2000, 5, 3\r\n",
    "\r\n",
    "np.random.seed(2014)\r\n",
    "z1 = np.random.randn(n1)\r\n",
    "x1 = z1*sigma1 + mu1\r\n",
    "\r\n",
    "np.random.seed(2301)\r\n",
    "z2 = np.random.randn(n2)\r\n",
    "x2 = z2*sigma2 + mu2"
   ],
   "outputs": [],
   "metadata": {
    "ExecuteTime": {
     "end_time": "2021-07-25T20:24:17.003710Z",
     "start_time": "2021-07-25T20:24:16.986718Z"
    },
    "hidden": true
   }
  },
  {
   "cell_type": "markdown",
   "source": [
    "Question 7 : run the following and interpret the results : "
   ],
   "metadata": {
    "hidden": true
   }
  },
  {
   "cell_type": "code",
   "execution_count": 13,
   "source": [
    "st.ttest_ind(x1,x2,equal_var=False)                                       "
   ],
   "outputs": [
    {
     "output_type": "execute_result",
     "data": {
      "text/plain": [
       "Ttest_indResult(statistic=-19.507360436466392, pvalue=1.810369707281499e-79)"
      ]
     },
     "metadata": {},
     "execution_count": 13
    }
   ],
   "metadata": {
    "hidden": true
   }
  },
  {
   "cell_type": "markdown",
   "source": [
    "- **H0:** x1 and x2 have different variances <br>\r\n",
    "- **Ha:** x1 and x2 have equal variances <br>\r\n",
    "since <i>pvalue = 0.00136 < 0.05</i>, it means that the two sets (X1 and X2) have equal variances, thus we reject the null hypothesis"
   ],
   "metadata": {}
  },
  {
   "cell_type": "markdown",
   "source": [
    "Question 8 : calculate x1_mean , x2_mean  , s1 (unbiased standard deviation) , s2 of the two samples x1 and x2"
   ],
   "metadata": {
    "hidden": true
   }
  },
  {
   "cell_type": "code",
   "execution_count": 14,
   "source": [
    "x1_mean = x1.mean()\r\n",
    "x2_mean = x2.mean()\r\n",
    "s1 = x1.std(ddof=1)\r\n",
    "s2 = x2.std(ddof=1)"
   ],
   "outputs": [],
   "metadata": {
    "hidden": true
   }
  },
  {
   "cell_type": "markdown",
   "source": [
    "Question 9 : run the function using the descriptive statistics optained in the previous question using  `st.ttest_ind_from_stats ` (i invite you to read the documentation first  ) , also make sure to set `equal_var=False`    "
   ],
   "metadata": {
    "hidden": true
   }
  },
  {
   "cell_type": "code",
   "execution_count": 15,
   "source": [
    "st.ttest_ind_from_stats(x1_mean, s1, n1, x2_mean, s2, n2, equal_var=False)\r\n"
   ],
   "outputs": [
    {
     "output_type": "execute_result",
     "data": {
      "text/plain": [
       "Ttest_indResult(statistic=-19.507360436466392, pvalue=1.810369707281499e-79)"
      ]
     },
     "metadata": {},
     "execution_count": 15
    }
   ],
   "metadata": {}
  },
  {
   "cell_type": "markdown",
   "source": [
    "This last function gives the same results as the previous function, but instead, its calculations are based on statistics of the two samples."
   ],
   "metadata": {}
  },
  {
   "cell_type": "markdown",
   "source": [
    "## Paired two sample t-test"
   ],
   "metadata": {}
  },
  {
   "cell_type": "markdown",
   "source": [
    "Question 10 : Simulate two samples of size **n=10** with Normal distribution. to do so : \r\n",
    "\r\n",
    "- step 1 : create x1 using the same method as described in question1 with mu=3 , sigma=2\r\n",
    "- step 2 : create a \"noisy\" distribution derived from x1 using the following formula : \r\n",
    "                    x2 = x1 + np.random.randn(n) + 1\r\n",
    "                    \r\n",
    "(Notice that the x2 is created by adding some 'noise' to the x1)\r\n",
    "\r\n",
    "So,'one to one' relation is established."
   ],
   "metadata": {}
  },
  {
   "cell_type": "code",
   "execution_count": 16,
   "source": [
    "np.random.seed(3488)\r\n",
    "n, mu, sigma = 1500, 3, 2\r\n",
    "z = np.random.randn(n)\r\n",
    "x1 = z*sigma + mu\r\n",
    "\r\n",
    "x2 = x1 + np.random.randn(n) + 1"
   ],
   "outputs": [],
   "metadata": {}
  },
  {
   "cell_type": "markdown",
   "source": [
    "Question 11 : \n",
    "run the following line and interpret the results \n"
   ],
   "metadata": {}
  },
  {
   "cell_type": "code",
   "execution_count": 17,
   "source": [
    "# Two tail test.\r\n",
    "st.ttest_rel(x1,x2)"
   ],
   "outputs": [
    {
     "output_type": "execute_result",
     "data": {
      "text/plain": [
       "Ttest_relResult(statistic=-38.49121333094517, pvalue=5.508829366761407e-226)"
      ]
     },
     "metadata": {},
     "execution_count": 17
    }
   ],
   "metadata": {}
  },
  {
   "cell_type": "markdown",
   "source": [
    "<h3>Two Tail Test</h3>\r\n",
    "H0: x1 and x2 have the same sample average<br>\r\n",
    "Ha: x1 and x2 have differenc sample averages\r\n",
    "\r\n",
    "- alpha = 0.05 <br>\r\n",
    "- pvalue = 5.508829366761407e-226 <br>\r\n",
    "- pvalue < alpha = True\r\n",
    "\r\n",
    "We accept the alternative hypothesis and reject the null one.<br>\r\n",
    "<b>Conclusion:</b> x1 and x2 have different sample averages"
   ],
   "metadata": {}
  },
  {
   "cell_type": "markdown",
   "source": [
    "Question 12 : Compare with the indepdent two sample t-test on the same dataset. \n"
   ],
   "metadata": {}
  },
  {
   "cell_type": "code",
   "execution_count": 18,
   "source": [
    "st.ttest_ind(x1,x2,equal_var=False)  "
   ],
   "outputs": [
    {
     "output_type": "execute_result",
     "data": {
      "text/plain": [
       "Ttest_indResult(statistic=-12.86109781725579, pvalue=7.079952843421665e-37)"
      ]
     },
     "metadata": {},
     "execution_count": 18
    }
   ],
   "metadata": {
    "ExecuteTime": {
     "end_time": "2021-07-25T20:39:52.407033Z",
     "start_time": "2021-07-25T20:39:52.356047Z"
    }
   }
  },
  {
   "cell_type": "markdown",
   "source": [
    "<h2>Two Tail Test</h2>\r\n",
    "H0: the independent variables x1 and x2 have the identical average <br>\r\n",
    "Ha: the independent variables x1 and x2 have different averages\r\n",
    "\r\n",
    "- alpha = 0.05 <br>\r\n",
    "- pvalue = 7.079952843421665e-37 <br>\r\n",
    "- pvalue < alpha = False\r\n",
    "\r\n",
    "Thus we reject the <u>null hypothesis</u> <br>\r\n",
    "<b>Conclusion:</b> x1 and x2 different averages."
   ],
   "metadata": {}
  },
  {
   "cell_type": "markdown",
   "source": [
    "## ANOVA"
   ],
   "metadata": {
    "heading_collapsed": true
   }
  },
  {
   "cell_type": "markdown",
   "source": [
    "There are three groups of students. The data corresponds to the test scores. Determine whether there is any significant difference in the group test scores."
   ],
   "metadata": {
    "hidden": true
   }
  },
  {
   "cell_type": "code",
   "execution_count": 19,
   "source": [
    "# Data.\r\n",
    "x1 = np.array([82,93,61,74,69,70,53])\r\n",
    "x2 = np.array([71,62,85,94,78,66,71])\r\n",
    "x3 = np.array([64,73,87,91,56,78,87])"
   ],
   "outputs": [],
   "metadata": {
    "ExecuteTime": {
     "end_time": "2021-07-25T20:40:51.242784Z",
     "start_time": "2021-07-25T20:40:51.230792Z"
    },
    "hidden": true
   }
  },
  {
   "cell_type": "code",
   "execution_count": 20,
   "source": [
    "# Using the f_onway() function from the SciPy library.\r\n",
    "res=st.f_oneway(x1,x2,x3)\r\n",
    "print(\"Test statistic  : %f \" % res[0] )\r\n",
    "print(\"p-value         : %f \" % res[1] )"
   ],
   "outputs": [
    {
     "output_type": "stream",
     "name": "stdout",
     "text": [
      "Test statistic  : 0.283726 \n",
      "p-value         : 0.756278 \n"
     ]
    }
   ],
   "metadata": {
    "ExecuteTime": {
     "end_time": "2021-07-25T20:40:59.728639Z",
     "start_time": "2021-07-25T20:40:59.680666Z"
    },
    "hidden": true
   }
  },
  {
   "cell_type": "markdown",
   "source": [
    "- alpha = 0.05\r\n",
    "- p-value = 0.75\r\n",
    "- p-value < alpha = False => Accept H0 which states that <u>all groups have the same population mean</u>.\r\n",
    "\r\n",
    "**Conclusion:** all three groups have equal population means."
   ],
   "metadata": {}
  },
  {
   "cell_type": "markdown",
   "source": [
    "# Summarizing categorical variables:"
   ],
   "metadata": {}
  },
  {
   "cell_type": "code",
   "execution_count": 21,
   "source": [
    "import pandas as pd\r\n",
    "df = pd.read_csv('data_studentlist.csv', header='infer',encoding = 'latin1')"
   ],
   "outputs": [],
   "metadata": {}
  },
  {
   "cell_type": "markdown",
   "source": [
    "## Frequency table (One way table):"
   ],
   "metadata": {
    "heading_collapsed": true
   }
  },
  {
   "cell_type": "code",
   "execution_count": 22,
   "source": [
    "# Categorical variables.\r\n",
    "bloodType = df['bloodtype']\r\n",
    "gender = df['gender']"
   ],
   "outputs": [],
   "metadata": {
    "hidden": true
   }
  },
  {
   "cell_type": "markdown",
   "source": [
    "get the frequency table of bloodtype"
   ],
   "metadata": {
    "hidden": true
   }
  },
  {
   "cell_type": "code",
   "execution_count": 23,
   "source": [
    "bloodType_freq = bloodType.groupby(bloodType).count()\r\n",
    "bloodType_freq"
   ],
   "outputs": [
    {
     "output_type": "execute_result",
     "data": {
      "text/plain": [
       "bloodtype\n",
       "A     4\n",
       "AB    3\n",
       "B     5\n",
       "O     5\n",
       "Name: bloodtype, dtype: int64"
      ]
     },
     "metadata": {},
     "execution_count": 23
    }
   ],
   "metadata": {
    "hidden": true
   }
  },
  {
   "cell_type": "markdown",
   "source": [
    "get the frequency table of gender"
   ],
   "metadata": {
    "hidden": true
   }
  },
  {
   "cell_type": "code",
   "execution_count": 24,
   "source": [
    "gender_freq = gender.groupby(gender).count()\r\n",
    "gender_freq"
   ],
   "outputs": [
    {
     "output_type": "execute_result",
     "data": {
      "text/plain": [
       "gender\n",
       "F     7\n",
       "M    10\n",
       "Name: gender, dtype: int64"
      ]
     },
     "metadata": {},
     "execution_count": 24
    }
   ],
   "metadata": {
    "hidden": true
   }
  },
  {
   "cell_type": "markdown",
   "source": [
    "get the normalized frequency table of bloodtype"
   ],
   "metadata": {
    "hidden": true
   }
  },
  {
   "cell_type": "code",
   "execution_count": 25,
   "source": [
    "from sklearn.preprocessing import normalize\r\n",
    "\r\n",
    "bloodType_freq_normalized = pd.Series(\r\n",
    "    data=normalize(np.array(bloodType_freq).reshape(1,-1))[0],\r\n",
    "    index=bloodType_freq.index,\r\n",
    "    name=bloodType_freq.name\r\n",
    "    )\r\n",
    "\r\n",
    "bloodType_freq_normalized"
   ],
   "outputs": [
    {
     "output_type": "execute_result",
     "data": {
      "text/plain": [
       "bloodtype\n",
       "A     0.46188\n",
       "AB    0.34641\n",
       "B     0.57735\n",
       "O     0.57735\n",
       "Name: bloodtype, dtype: float64"
      ]
     },
     "metadata": {},
     "execution_count": 25
    }
   ],
   "metadata": {}
  },
  {
   "cell_type": "markdown",
   "source": [
    "same as the above for gender"
   ],
   "metadata": {
    "hidden": true
   }
  },
  {
   "cell_type": "code",
   "execution_count": 26,
   "source": [
    "gender_freq_normalized = pd.Series(\r\n",
    "    data=normalize(np.array(gender_freq).reshape(1,-1))[0],\r\n",
    "    index=gender_freq.index,\r\n",
    "    name=gender_freq.name\r\n",
    "    )\r\n",
    "\r\n",
    "gender_freq_normalized"
   ],
   "outputs": [
    {
     "output_type": "execute_result",
     "data": {
      "text/plain": [
       "gender\n",
       "F    0.573462\n",
       "M    0.819232\n",
       "Name: gender, dtype: float64"
      ]
     },
     "metadata": {},
     "execution_count": 26
    }
   ],
   "metadata": {
    "hidden": true
   }
  },
  {
   "cell_type": "markdown",
   "source": [
    "##  Contingency table (Two way table):"
   ],
   "metadata": {
    "heading_collapsed": true
   }
  },
  {
   "cell_type": "markdown",
   "source": [
    "get the Contingency table using `pd.crosstab`"
   ],
   "metadata": {
    "hidden": true
   }
  },
  {
   "cell_type": "code",
   "execution_count": 27,
   "source": [
    "pd.crosstab(bloodType, gender)"
   ],
   "outputs": [
    {
     "output_type": "execute_result",
     "data": {
      "text/plain": [
       "gender     F  M\n",
       "bloodtype      \n",
       "A          2  2\n",
       "AB         1  2\n",
       "B          1  4\n",
       "O          3  2"
      ],
      "text/html": [
       "<div>\n",
       "<style scoped>\n",
       "    .dataframe tbody tr th:only-of-type {\n",
       "        vertical-align: middle;\n",
       "    }\n",
       "\n",
       "    .dataframe tbody tr th {\n",
       "        vertical-align: top;\n",
       "    }\n",
       "\n",
       "    .dataframe thead th {\n",
       "        text-align: right;\n",
       "    }\n",
       "</style>\n",
       "<table border=\"1\" class=\"dataframe\">\n",
       "  <thead>\n",
       "    <tr style=\"text-align: right;\">\n",
       "      <th>gender</th>\n",
       "      <th>F</th>\n",
       "      <th>M</th>\n",
       "    </tr>\n",
       "    <tr>\n",
       "      <th>bloodtype</th>\n",
       "      <th></th>\n",
       "      <th></th>\n",
       "    </tr>\n",
       "  </thead>\n",
       "  <tbody>\n",
       "    <tr>\n",
       "      <th>A</th>\n",
       "      <td>2</td>\n",
       "      <td>2</td>\n",
       "    </tr>\n",
       "    <tr>\n",
       "      <th>AB</th>\n",
       "      <td>1</td>\n",
       "      <td>2</td>\n",
       "    </tr>\n",
       "    <tr>\n",
       "      <th>B</th>\n",
       "      <td>1</td>\n",
       "      <td>4</td>\n",
       "    </tr>\n",
       "    <tr>\n",
       "      <th>O</th>\n",
       "      <td>3</td>\n",
       "      <td>2</td>\n",
       "    </tr>\n",
       "  </tbody>\n",
       "</table>\n",
       "</div>"
      ]
     },
     "metadata": {},
     "execution_count": 27
    }
   ],
   "metadata": {
    "hidden": true
   }
  },
  {
   "cell_type": "markdown",
   "source": [
    "in order to get Contingency table with marginalization , set the parameter `margins=True`\n"
   ],
   "metadata": {
    "hidden": true
   }
  },
  {
   "cell_type": "code",
   "execution_count": 28,
   "source": [
    "pd.crosstab(bloodType, gender, margins=True)"
   ],
   "outputs": [
    {
     "output_type": "execute_result",
     "data": {
      "text/plain": [
       "gender     F   M  All\n",
       "bloodtype            \n",
       "A          2   2    4\n",
       "AB         1   2    3\n",
       "B          1   4    5\n",
       "O          3   2    5\n",
       "All        7  10   17"
      ],
      "text/html": [
       "<div>\n",
       "<style scoped>\n",
       "    .dataframe tbody tr th:only-of-type {\n",
       "        vertical-align: middle;\n",
       "    }\n",
       "\n",
       "    .dataframe tbody tr th {\n",
       "        vertical-align: top;\n",
       "    }\n",
       "\n",
       "    .dataframe thead th {\n",
       "        text-align: right;\n",
       "    }\n",
       "</style>\n",
       "<table border=\"1\" class=\"dataframe\">\n",
       "  <thead>\n",
       "    <tr style=\"text-align: right;\">\n",
       "      <th>gender</th>\n",
       "      <th>F</th>\n",
       "      <th>M</th>\n",
       "      <th>All</th>\n",
       "    </tr>\n",
       "    <tr>\n",
       "      <th>bloodtype</th>\n",
       "      <th></th>\n",
       "      <th></th>\n",
       "      <th></th>\n",
       "    </tr>\n",
       "  </thead>\n",
       "  <tbody>\n",
       "    <tr>\n",
       "      <th>A</th>\n",
       "      <td>2</td>\n",
       "      <td>2</td>\n",
       "      <td>4</td>\n",
       "    </tr>\n",
       "    <tr>\n",
       "      <th>AB</th>\n",
       "      <td>1</td>\n",
       "      <td>2</td>\n",
       "      <td>3</td>\n",
       "    </tr>\n",
       "    <tr>\n",
       "      <th>B</th>\n",
       "      <td>1</td>\n",
       "      <td>4</td>\n",
       "      <td>5</td>\n",
       "    </tr>\n",
       "    <tr>\n",
       "      <th>O</th>\n",
       "      <td>3</td>\n",
       "      <td>2</td>\n",
       "      <td>5</td>\n",
       "    </tr>\n",
       "    <tr>\n",
       "      <th>All</th>\n",
       "      <td>7</td>\n",
       "      <td>10</td>\n",
       "      <td>17</td>\n",
       "    </tr>\n",
       "  </tbody>\n",
       "</table>\n",
       "</div>"
      ]
     },
     "metadata": {},
     "execution_count": 28
    }
   ],
   "metadata": {
    "hidden": true
   }
  },
  {
   "cell_type": "markdown",
   "source": [
    "# Hypothesis Test of proportions:\n",
    " "
   ],
   "metadata": {}
  },
  {
   "cell_type": "markdown",
   "source": [
    "## Chi-squared Tests:"
   ],
   "metadata": {}
  },
  {
   "cell_type": "markdown",
   "source": [
    "###  For one way table "
   ],
   "metadata": {
    "heading_collapsed": true
   }
  },
  {
   "cell_type": "markdown",
   "source": [
    "Suppose we have a frequency table of *eye color* of 592 adults. <br>\n",
    "Let us carry out the Chi-squared tests."
   ],
   "metadata": {
    "hidden": true
   }
  },
  {
   "cell_type": "code",
   "execution_count": 29,
   "source": [
    "# Data.\r\n",
    "data = np.array([220, 215, 93,64])"
   ],
   "outputs": [],
   "metadata": {
    "ExecuteTime": {
     "end_time": "2021-07-25T20:54:53.057083Z",
     "start_time": "2021-07-25T20:54:53.043091Z"
    },
    "hidden": true
   }
  },
  {
   "cell_type": "markdown",
   "source": [
    "- step 1  : create a series with data , and set the table `['Brown','Blue','Hazel','Green']` as index   "
   ],
   "metadata": {
    "hidden": true
   }
  },
  {
   "cell_type": "code",
   "execution_count": 30,
   "source": [
    "index = ['Brown','Blue','Hazel','Green']\r\n",
    "eye = pd.Series(data=data, index=index, name=\"frequency\")\r\n",
    "eye"
   ],
   "outputs": [
    {
     "output_type": "execute_result",
     "data": {
      "text/plain": [
       "Brown    220\n",
       "Blue     215\n",
       "Hazel     93\n",
       "Green     64\n",
       "Name: frequency, dtype: int32"
      ]
     },
     "metadata": {},
     "execution_count": 30
    }
   ],
   "metadata": {
    "hidden": true
   }
  },
  {
   "cell_type": "markdown",
   "source": [
    "Question 13 : create a Table of proportions. to do so , divide your series by the sum of the frequencies"
   ],
   "metadata": {
    "hidden": true
   }
  },
  {
   "cell_type": "code",
   "execution_count": 31,
   "source": [
    "proportionsTable = eye/np.sum(eye)\r\n",
    "proportionsTable"
   ],
   "outputs": [
    {
     "output_type": "execute_result",
     "data": {
      "text/plain": [
       "Brown    0.371622\n",
       "Blue     0.363176\n",
       "Hazel    0.157095\n",
       "Green    0.108108\n",
       "Name: frequency, dtype: float64"
      ]
     },
     "metadata": {},
     "execution_count": 31
    }
   ],
   "metadata": {
    "hidden": true
   }
  },
  {
   "cell_type": "markdown",
   "source": [
    "Question 14 : Compare with the default model of equal frequencies. ( in other words , calculate the chisquare of your series using `st.chisquare`)"
   ],
   "metadata": {
    "hidden": true
   }
  },
  {
   "cell_type": "code",
   "execution_count": 32,
   "source": [
    "st.chisquare(proportionsTable)"
   ],
   "outputs": [
    {
     "output_type": "execute_result",
     "data": {
      "text/plain": [
       "Power_divergenceResult(statistic=0.22546110299488673, pvalue=0.9733779718261075)"
      ]
     },
     "metadata": {},
     "execution_count": 32
    }
   ],
   "metadata": {
    "hidden": true
   }
  },
  {
   "cell_type": "markdown",
   "source": [
    "Question 15 : the following is a model provided by the user that tries to approximate the frequencies "
   ],
   "metadata": {
    "hidden": true
   }
  },
  {
   "cell_type": "code",
   "execution_count": 33,
   "source": [
    "my_model = len(eye)*[np.mean(eye)]\r\n",
    "my_model"
   ],
   "outputs": [
    {
     "output_type": "execute_result",
     "data": {
      "text/plain": [
       "[148.0, 148.0, 148.0, 148.0]"
      ]
     },
     "metadata": {},
     "execution_count": 33
    }
   ],
   "metadata": {
    "ExecuteTime": {
     "end_time": "2021-07-25T21:11:06.825864Z",
     "start_time": "2021-07-25T21:11:06.806877Z"
    },
    "hidden": true
   }
  },
  {
   "cell_type": "markdown",
   "source": [
    "run the following and describe the result :"
   ],
   "metadata": {
    "hidden": true
   }
  },
  {
   "cell_type": "code",
   "execution_count": 34,
   "source": [
    "st.chisquare(f_obs=eye,f_exp = my_model)"
   ],
   "outputs": [
    {
     "output_type": "execute_result",
     "data": {
      "text/plain": [
       "Power_divergenceResult(statistic=133.47297297297297, pvalue=9.650879774148268e-29)"
      ]
     },
     "metadata": {},
     "execution_count": 34
    }
   ],
   "metadata": {
    "hidden": true
   }
  },
  {
   "cell_type": "markdown",
   "source": [
    "Providing that the model we are comparing to is filled with the observed frequencies mean and the sum of the model's frequencies is larger than the sum of observed frequencies, p-value is smaller than 0.05."
   ],
   "metadata": {}
  },
  {
   "cell_type": "markdown",
   "source": [
    "let's test with a more realistic model : "
   ],
   "metadata": {
    "hidden": true
   }
  },
  {
   "cell_type": "code",
   "execution_count": 35,
   "source": [
    "my_model = eye.sum()*np.array([0.40,0.33,0.15,0.12])\r\n",
    "# my_model = np.array([200, 200, 100, 92])\r\n",
    "my_model"
   ],
   "outputs": [
    {
     "output_type": "execute_result",
     "data": {
      "text/plain": [
       "array([236.8 , 195.36,  88.8 ,  71.04])"
      ]
     },
     "metadata": {},
     "execution_count": 35
    }
   ],
   "metadata": {
    "hidden": true
   }
  },
  {
   "cell_type": "markdown",
   "source": [
    "run the following and describe the result. what do you conlcude about the two proposed models ? "
   ],
   "metadata": {
    "hidden": true
   }
  },
  {
   "cell_type": "code",
   "execution_count": 36,
   "source": [
    "st.chisquare(f_obs=eye,f_exp = my_model)"
   ],
   "outputs": [
    {
     "output_type": "execute_result",
     "data": {
      "text/plain": [
       "Power_divergenceResult(statistic=4.06265356265356, pvalue=0.25477767063672113)"
      ]
     },
     "metadata": {},
     "execution_count": 36
    }
   ],
   "metadata": {
    "hidden": true
   }
  },
  {
   "cell_type": "markdown",
   "source": [
    "The provided model contains proportions from the sum of observed data, which sum up to the total number of frequencies. Compared to the observed values, it gave a p-value way greater than 5%.\r\n",
    "\r\n",
    "**Conclusion:** the observed frequency table and the expected model agree even if the model contained values relatively close to the observed frequencies and sum up to the sum of the observed frequencies."
   ],
   "metadata": {}
  },
  {
   "cell_type": "markdown",
   "source": [
    "##  For two way table:"
   ],
   "metadata": {}
  },
  {
   "cell_type": "markdown",
   "source": [
    "Suppose we have a contingency table of *eye color* vs *hair color* of 592 adults. <br>\n",
    "Let us carry out the Chi-squared test for independence."
   ],
   "metadata": {}
  },
  {
   "cell_type": "code",
   "execution_count": 37,
   "source": [
    "# Data.\r\n",
    "# Row label    = hair color.\r\n",
    "# Column label = eye color. \r\n",
    "data_eye = {'Brown': [68,119,26,7], 'Blue':[20,84,17,94], 'Hazel':[15,54,14,10], 'Green':[5, 29, 14,16]}\r\n",
    "data = pd.DataFrame(data_eye,index=['Black','Brown','Red','Blonde'])\r\n",
    "data.index.name = \"Hair_Color\"\r\n",
    "data.columns.name = \"Eye_Color\"\r\n",
    "data"
   ],
   "outputs": [
    {
     "output_type": "execute_result",
     "data": {
      "text/plain": [
       "Eye_Color   Brown  Blue  Hazel  Green\n",
       "Hair_Color                           \n",
       "Black          68    20     15      5\n",
       "Brown         119    84     54     29\n",
       "Red            26    17     14     14\n",
       "Blonde          7    94     10     16"
      ],
      "text/html": [
       "<div>\n",
       "<style scoped>\n",
       "    .dataframe tbody tr th:only-of-type {\n",
       "        vertical-align: middle;\n",
       "    }\n",
       "\n",
       "    .dataframe tbody tr th {\n",
       "        vertical-align: top;\n",
       "    }\n",
       "\n",
       "    .dataframe thead th {\n",
       "        text-align: right;\n",
       "    }\n",
       "</style>\n",
       "<table border=\"1\" class=\"dataframe\">\n",
       "  <thead>\n",
       "    <tr style=\"text-align: right;\">\n",
       "      <th>Eye_Color</th>\n",
       "      <th>Brown</th>\n",
       "      <th>Blue</th>\n",
       "      <th>Hazel</th>\n",
       "      <th>Green</th>\n",
       "    </tr>\n",
       "    <tr>\n",
       "      <th>Hair_Color</th>\n",
       "      <th></th>\n",
       "      <th></th>\n",
       "      <th></th>\n",
       "      <th></th>\n",
       "    </tr>\n",
       "  </thead>\n",
       "  <tbody>\n",
       "    <tr>\n",
       "      <th>Black</th>\n",
       "      <td>68</td>\n",
       "      <td>20</td>\n",
       "      <td>15</td>\n",
       "      <td>5</td>\n",
       "    </tr>\n",
       "    <tr>\n",
       "      <th>Brown</th>\n",
       "      <td>119</td>\n",
       "      <td>84</td>\n",
       "      <td>54</td>\n",
       "      <td>29</td>\n",
       "    </tr>\n",
       "    <tr>\n",
       "      <th>Red</th>\n",
       "      <td>26</td>\n",
       "      <td>17</td>\n",
       "      <td>14</td>\n",
       "      <td>14</td>\n",
       "    </tr>\n",
       "    <tr>\n",
       "      <th>Blonde</th>\n",
       "      <td>7</td>\n",
       "      <td>94</td>\n",
       "      <td>10</td>\n",
       "      <td>16</td>\n",
       "    </tr>\n",
       "  </tbody>\n",
       "</table>\n",
       "</div>"
      ]
     },
     "metadata": {},
     "execution_count": 37
    }
   ],
   "metadata": {}
  },
  {
   "cell_type": "markdown",
   "source": [
    "run the following to get Chi-square test of independence of variables in a contingency table. what do you conclude about the relationship between these two categorical variables ? "
   ],
   "metadata": {}
  },
  {
   "cell_type": "code",
   "execution_count": 38,
   "source": [
    "# Function Returns:\r\n",
    "# Test Statistic, p-value, dof, exepcted frequencies based on the marginal sums of table\r\n",
    "st.chi2_contingency(data)"
   ],
   "outputs": [
    {
     "output_type": "execute_result",
     "data": {
      "text/plain": [
       "(138.28984162600824,\n",
       " 2.325286787098839e-25,\n",
       " 9,\n",
       " array([[ 40.13513514,  39.22297297,  16.96621622,  11.67567568],\n",
       "        [106.28378378, 103.86824324,  44.92905405,  30.91891892],\n",
       "        [ 26.38513514,  25.78547297,  11.15371622,   7.67567568],\n",
       "        [ 47.19594595,  46.12331081,  19.95101351,  13.72972973]]))"
      ]
     },
     "metadata": {},
     "execution_count": 38
    }
   ],
   "metadata": {}
  },
  {
   "cell_type": "markdown",
   "source": [
    "Given that the <i>p-value < 0.025</i>, we reject the null hypothesis which state that <u>Hair color</u> and <u>Eye Color</u> are **independent**, thus, we conclude that **the two variables are dependent.**"
   ],
   "metadata": {}
  },
  {
   "cell_type": "markdown",
   "source": [
    "Suppose we have a contingency table of the room class vs survived from RMS Titanic.\n",
    "Let us carry out the Chi-squared test for independence."
   ],
   "metadata": {}
  },
  {
   "cell_type": "code",
   "execution_count": 39,
   "source": [
    "# Data.\r\n",
    "# Row label    = room class.\r\n",
    "# Column label = survived. \r\n",
    "data_survived = {'Yes':[122, 167, 528, 673], 'No':[203,118,178,212]}\r\n",
    "data = pd.DataFrame(data_survived,index=['1st','2nd','3rd','Crew'])\r\n",
    "data.index.name = \"Room_Class\"\r\n",
    "data.columns.name = \"Survived\"\r\n",
    "data"
   ],
   "outputs": [
    {
     "output_type": "execute_result",
     "data": {
      "text/plain": [
       "Survived    Yes   No\n",
       "Room_Class          \n",
       "1st         122  203\n",
       "2nd         167  118\n",
       "3rd         528  178\n",
       "Crew        673  212"
      ],
      "text/html": [
       "<div>\n",
       "<style scoped>\n",
       "    .dataframe tbody tr th:only-of-type {\n",
       "        vertical-align: middle;\n",
       "    }\n",
       "\n",
       "    .dataframe tbody tr th {\n",
       "        vertical-align: top;\n",
       "    }\n",
       "\n",
       "    .dataframe thead th {\n",
       "        text-align: right;\n",
       "    }\n",
       "</style>\n",
       "<table border=\"1\" class=\"dataframe\">\n",
       "  <thead>\n",
       "    <tr style=\"text-align: right;\">\n",
       "      <th>Survived</th>\n",
       "      <th>Yes</th>\n",
       "      <th>No</th>\n",
       "    </tr>\n",
       "    <tr>\n",
       "      <th>Room_Class</th>\n",
       "      <th></th>\n",
       "      <th></th>\n",
       "    </tr>\n",
       "  </thead>\n",
       "  <tbody>\n",
       "    <tr>\n",
       "      <th>1st</th>\n",
       "      <td>122</td>\n",
       "      <td>203</td>\n",
       "    </tr>\n",
       "    <tr>\n",
       "      <th>2nd</th>\n",
       "      <td>167</td>\n",
       "      <td>118</td>\n",
       "    </tr>\n",
       "    <tr>\n",
       "      <th>3rd</th>\n",
       "      <td>528</td>\n",
       "      <td>178</td>\n",
       "    </tr>\n",
       "    <tr>\n",
       "      <th>Crew</th>\n",
       "      <td>673</td>\n",
       "      <td>212</td>\n",
       "    </tr>\n",
       "  </tbody>\n",
       "</table>\n",
       "</div>"
      ]
     },
     "metadata": {},
     "execution_count": 39
    }
   ],
   "metadata": {
    "ExecuteTime": {
     "end_time": "2021-07-25T21:58:55.059166Z",
     "start_time": "2021-07-25T21:58:55.039179Z"
    },
    "code_folding": []
   }
  },
  {
   "cell_type": "markdown",
   "source": [
    "run the following to get Chi-square test of independence of variables in a contingency table. what do you conclude about the relationship between these two categorical variables ? "
   ],
   "metadata": {}
  },
  {
   "cell_type": "code",
   "execution_count": 40,
   "source": [
    "st.chi2_contingency(data)"
   ],
   "outputs": [
    {
     "output_type": "execute_result",
     "data": {
      "text/plain": [
       "(190.40110361683327,\n",
       " 4.999927529868003e-41,\n",
       " 3,\n",
       " array([[220.01363017, 104.98636983],\n",
       "        [192.93502953,  92.06497047],\n",
       "        [477.93730123, 228.06269877],\n",
       "        [599.11403907, 285.88596093]]))"
      ]
     },
     "metadata": {},
     "execution_count": 40
    }
   ],
   "metadata": {}
  },
  {
   "cell_type": "markdown",
   "source": [
    "- H0: Room Class and the Survival of titanic passengers are independent.\r\n",
    "- Ha: Room Class and Survival are dependent on each other.<br>\r\n",
    "We notice that the <i>p-value < 0.025</i>. In this case, we reject the null hypothesis and accept the alternative one.<br>\r\n",
    "**Conclusion:** the two variables are dependent."
   ],
   "metadata": {}
  }
 ],
 "metadata": {
  "kernelspec": {
   "name": "python3",
   "display_name": "Python 3.8.5 64-bit"
  },
  "language_info": {
   "codemirror_mode": {
    "name": "ipython",
    "version": 3
   },
   "file_extension": ".py",
   "mimetype": "text/x-python",
   "name": "python",
   "nbconvert_exporter": "python",
   "pygments_lexer": "ipython3",
   "version": "3.8.5"
  },
  "toc": {
   "base_numbering": 1,
   "nav_menu": {},
   "number_sections": true,
   "sideBar": true,
   "skip_h1_title": false,
   "title_cell": "Table of Contents",
   "title_sidebar": "Contents",
   "toc_cell": false,
   "toc_position": {},
   "toc_section_display": true,
   "toc_window_display": false
  },
  "varInspector": {
   "cols": {
    "lenName": 16,
    "lenType": 16,
    "lenVar": 40
   },
   "kernels_config": {
    "python": {
     "delete_cmd_postfix": "",
     "delete_cmd_prefix": "del ",
     "library": "var_list.py",
     "varRefreshCmd": "print(var_dic_list())"
    },
    "r": {
     "delete_cmd_postfix": ") ",
     "delete_cmd_prefix": "rm(",
     "library": "var_list.r",
     "varRefreshCmd": "cat(var_dic_list()) "
    }
   },
   "types_to_exclude": [
    "module",
    "function",
    "builtin_function_or_method",
    "instance",
    "_Feature"
   ],
   "window_display": false
  },
  "interpreter": {
   "hash": "d373a6adc26a229c2c7b2016ce264c6636cd7db4cb097b04765bf225c02b830d"
  }
 },
 "nbformat": 4,
 "nbformat_minor": 2
}
